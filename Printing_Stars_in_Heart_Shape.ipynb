{
  "nbformat": 4,
  "nbformat_minor": 0,
  "metadata": {
    "colab": {
      "name": "Printing Stars in Heart Shape.ipynb",
      "provenance": [],
      "authorship_tag": "ABX9TyPv8ikaE97EVufKaRnoNUGJ",
      "include_colab_link": true
    },
    "kernelspec": {
      "name": "python3",
      "display_name": "Python 3"
    }
  },
  "cells": [
    {
      "cell_type": "markdown",
      "metadata": {
        "id": "view-in-github",
        "colab_type": "text"
      },
      "source": [
        "<a href=\"https://colab.research.google.com/github/MdShahadatHossainbd/Pattern/blob/master/Printing_Stars_in_Heart_Shape.ipynb\" target=\"_parent\"><img src=\"https://colab.research.google.com/assets/colab-badge.svg\" alt=\"Open In Colab\"/></a>"
      ]
    },
    {
      "cell_type": "code",
      "metadata": {
        "id": "dFSPUl8xWxcS",
        "outputId": "433ce327-29cb-4d28-f965-30e8f250fe1e",
        "colab": {
          "base_uri": "https://localhost:8080/"
        }
      },
      "source": [
        "for i in range(4):\n",
        "  for j in range(4-i-1):\n",
        "    print(\" \",end=\"\")\n",
        "  for j in range(i+1):\n",
        "    print(\"* \",end=\"\")\n",
        "  print()"
      ],
      "execution_count": 1,
      "outputs": [
        {
          "output_type": "stream",
          "text": [
            "   * \n",
            "  * * \n",
            " * * * \n",
            "* * * * \n"
          ],
          "name": "stdout"
        }
      ]
    },
    {
      "cell_type": "code",
      "metadata": {
        "id": "0LTppYhtPKoB",
        "outputId": "3eaa642a-7724-4907-8640-d0d009010a5d",
        "colab": {
          "base_uri": "https://localhost:8080/"
        }
      },
      "source": [
        "for i in range(4):\n",
        "  for j in range(4-i-1):\n",
        "    print(\" \",end=\"\")\n",
        "  for j in range(i+1):\n",
        "    print(\"* \",end=\"\")\n",
        "  for j in range(2*(4-i-1)):\n",
        "    print(\" \",end=\"\")\n",
        "  for j in range(i+1):\n",
        "    print(\"* \",end=\"\")\n",
        "  print()"
      ],
      "execution_count": 2,
      "outputs": [
        {
          "output_type": "stream",
          "text": [
            "   *    * \n",
            "  * *   * * \n",
            " * * *  * * * \n",
            "* * * * * * * * \n"
          ],
          "name": "stdout"
        }
      ]
    },
    {
      "cell_type": "code",
      "metadata": {
        "id": "susFqPjMPh4h",
        "outputId": "1025b4b3-7c94-4f09-e640-ef00b5ca6868",
        "colab": {
          "base_uri": "https://localhost:8080/"
        }
      },
      "source": [
        "for i in range(4):\n",
        "  for j in range(4-i-1):\n",
        "    print(\" \",end=\"\")\n",
        "  for j in range(i+1):\n",
        "    print(\"* \",end=\"\")\n",
        "  for j in range(2*(4-i-1)):\n",
        "    print(\" \",end=\"\")\n",
        "  for j in range(i+1):\n",
        "    print(\"* \",end=\"\")\n",
        "  print()"
      ],
      "execution_count": 3,
      "outputs": [
        {
          "output_type": "stream",
          "text": [
            "   *       * \n",
            "  * *     * * \n",
            " * * *   * * * \n",
            "* * * * * * * * \n"
          ],
          "name": "stdout"
        }
      ]
    },
    {
      "cell_type": "code",
      "metadata": {
        "id": "TSv-0zmvQW6r",
        "outputId": "f41c4e9f-7cc2-43cb-f978-5e8147229c10",
        "colab": {
          "base_uri": "https://localhost:8080/"
        }
      },
      "source": [
        "for i in range(4):\n",
        "  for j in range(4-i-1):\n",
        "    print(\" \",end=\"\")\n",
        "  for j in range(i+1):\n",
        "    print(\"* \",end=\"\")\n",
        "  for j in range(2*(4-i-1)):\n",
        "    print(\" \",end=\"\")\n",
        "  for j in range(i+1):\n",
        "    print(\"* \",end=\"\")\n",
        "  print()\n",
        "\n",
        "for i in range(8,0,-1):\n",
        "  for j in range(8-i):\n",
        "    print(\" \",end=\"\")\n",
        "  for j in range(i,0,-1):\n",
        "    print(\"* \",end=\"\")\n",
        "  print()"
      ],
      "execution_count": 4,
      "outputs": [
        {
          "output_type": "stream",
          "text": [
            "   *       * \n",
            "  * *     * * \n",
            " * * *   * * * \n",
            "* * * * * * * * \n",
            "* * * * * * * * \n",
            " * * * * * * * \n",
            "  * * * * * * \n",
            "   * * * * * \n",
            "    * * * * \n",
            "     * * * \n",
            "      * * \n",
            "       * \n"
          ],
          "name": "stdout"
        }
      ]
    },
    {
      "cell_type": "code",
      "metadata": {
        "id": "LZMfk9s4Rv8f",
        "outputId": "dbfac188-2336-4733-e545-42cd6d3533ec",
        "colab": {
          "base_uri": "https://localhost:8080/"
        }
      },
      "source": [
        "num = int(input(\"Enter The Number: \"))\n",
        "n = num//2\n",
        "for i in range(n):\n",
        "  for j in range(n-i-1):\n",
        "    print(\" \",end=\"\")\n",
        "  for j in range(i+1):\n",
        "    print(\"* \",end=\"\")\n",
        "  for j in range(2*(n-i-1)):\n",
        "    print(\" \",end=\"\")\n",
        "  for j in range(i+1):\n",
        "    print(\"* \",end=\"\")\n",
        "  print()\n",
        "\n",
        "for i in range(num,0,-1):\n",
        "  for j in range(num-i):\n",
        "    print(\" \",end=\"\")\n",
        "  for j in range(i,0,-1):\n",
        "    print(\"* \",end=\"\")\n",
        "  print()"
      ],
      "execution_count": 7,
      "outputs": [
        {
          "output_type": "stream",
          "text": [
            "Enter The Number: 12\n",
            "     *           * \n",
            "    * *         * * \n",
            "   * * *       * * * \n",
            "  * * * *     * * * * \n",
            " * * * * *   * * * * * \n",
            "* * * * * * * * * * * * \n",
            "* * * * * * * * * * * * \n",
            " * * * * * * * * * * * \n",
            "  * * * * * * * * * * \n",
            "   * * * * * * * * * \n",
            "    * * * * * * * * \n",
            "     * * * * * * * \n",
            "      * * * * * * \n",
            "       * * * * * \n",
            "        * * * * \n",
            "         * * * \n",
            "          * * \n",
            "           * \n"
          ],
          "name": "stdout"
        }
      ]
    },
    {
      "cell_type": "code",
      "metadata": {
        "id": "C3EkjHXESVPg",
        "outputId": "ec324f5f-4da9-488d-991a-89f1626daca2",
        "colab": {
          "base_uri": "https://localhost:8080/"
        }
      },
      "source": [
        "num = int(input(\"Enter The Number: \"))\n",
        "n = num//2\n",
        "for i in range(n):\n",
        "  for j in range(n-i-1):\n",
        "    print(\" \",end=\"\")\n",
        "  for j in range(i+1):\n",
        "    print(\"* \",end=\"\")\n",
        "  for j in range(2*(n-i-1)):\n",
        "    print(\" \",end=\"\")\n",
        "  for j in range(i+1):\n",
        "    print(\"* \",end=\"\")\n",
        "  print()\n",
        "\n",
        "for i in range(num,0,-1):\n",
        "  for j in range(num-i):\n",
        "    print(\" \",end=\"\")\n",
        "  for j in range(i,0,-1):\n",
        "    print(\"* \",end=\"\")\n",
        "  print()"
      ],
      "execution_count": 8,
      "outputs": [
        {
          "output_type": "stream",
          "text": [
            "Enter The Number: 6\n",
            "  *     * \n",
            " * *   * * \n",
            "* * * * * * \n",
            "* * * * * * \n",
            " * * * * * \n",
            "  * * * * \n",
            "   * * * \n",
            "    * * \n",
            "     * \n"
          ],
          "name": "stdout"
        }
      ]
    },
    {
      "cell_type": "code",
      "metadata": {
        "id": "cmFpRHVUSaFG",
        "outputId": "c82dd8c7-31ca-4493-adc6-5804f4af6056",
        "colab": {
          "base_uri": "https://localhost:8080/"
        }
      },
      "source": [
        "num = int(input(\"Enter The Number: \"))\n",
        "n = num//2\n",
        "for i in range(n):\n",
        "  for j in range(n-i-1):\n",
        "    print(\" \",end=\"\")\n",
        "  for j in range(i+1):\n",
        "    print(\"* \",end=\"\")\n",
        "  for j in range(2*(n-i-1)):\n",
        "    print(\" \",end=\"\")\n",
        "  for j in range(i+1):\n",
        "    print(\"* \",end=\"\")\n",
        "  print()\n",
        "\n",
        "for i in range(num,0,-1):\n",
        "  for j in range(num-i):\n",
        "    print(\" \",end=\"\")\n",
        "  for j in range(i,0,-1):\n",
        "    print(\"* \",end=\"\")\n",
        "  print()"
      ],
      "execution_count": 9,
      "outputs": [
        {
          "output_type": "stream",
          "text": [
            "Enter The Number: 8\n",
            "   *       * \n",
            "  * *     * * \n",
            " * * *   * * * \n",
            "* * * * * * * * \n",
            "* * * * * * * * \n",
            " * * * * * * * \n",
            "  * * * * * * \n",
            "   * * * * * \n",
            "    * * * * \n",
            "     * * * \n",
            "      * * \n",
            "       * \n"
          ],
          "name": "stdout"
        }
      ]
    },
    {
      "cell_type": "code",
      "metadata": {
        "id": "oqCG4cy7SNjV",
        "outputId": "88e61d31-2b1b-493a-ce83-a9eacf307e6d",
        "colab": {
          "base_uri": "https://localhost:8080/"
        }
      },
      "source": [
        "num = int(input(\"Enter The Number: \"))\n",
        "n = num//2\n",
        "for i in range(n):\n",
        "  for j in range(n-i-1):\n",
        "    print(\" \",end=\"\")\n",
        "  for j in range(i+1):\n",
        "    print(\"* \",end=\"\")\n",
        "  for j in range(2*(n-i-1)):\n",
        "    print(\" \",end=\"\")\n",
        "  for j in range(i+1):\n",
        "    print(\"* \",end=\"\")\n",
        "  print()\n",
        "\n",
        "for i in range(num,0,-1):\n",
        "  for j in range(num-i):\n",
        "    print(\" \",end=\"\")\n",
        "  for j in range(i,0,-1):\n",
        "    print(\"* \",end=\"\")\n",
        "  print()"
      ],
      "execution_count": 6,
      "outputs": [
        {
          "output_type": "stream",
          "text": [
            "Enter The Number: 9\n",
            "   *       * \n",
            "  * *     * * \n",
            " * * *   * * * \n",
            "* * * * * * * * \n",
            "* * * * * * * * * \n",
            " * * * * * * * * \n",
            "  * * * * * * * \n",
            "   * * * * * * \n",
            "    * * * * * \n",
            "     * * * * \n",
            "      * * * \n",
            "       * * \n",
            "        * \n"
          ],
          "name": "stdout"
        }
      ]
    },
    {
      "cell_type": "code",
      "metadata": {
        "id": "RDfhgnQcSYxE",
        "outputId": "1b1545f5-f99d-42a9-dfe9-a6fcbe296c87",
        "colab": {
          "base_uri": "https://localhost:8080/"
        }
      },
      "source": [
        "num = int(input(\"Enter The Number: \"))\n",
        "n = num//2\n",
        "for i in range(n):\n",
        "  for j in range(n-i-1):\n",
        "    print(\" \",end=\"\")\n",
        "  for j in range(i+1):\n",
        "    print(\"* \",end=\"\")\n",
        "  if num % 2 == 0:\n",
        "    for j in range(2*(n-i-1)):\n",
        "      print(\" \",end=\"\")\n",
        "  else:\n",
        "    for j in range(2*(n-i-1)+1):\n",
        "      print(\" \",end=\"\")\n",
        "  for j in range(i+1):\n",
        "    print(\"* \",end=\"\")\n",
        "  print()\n",
        "\n",
        "for i in range(num,0,-1):\n",
        "  for j in range(num-i):\n",
        "    print(\" \",end=\"\")\n",
        "  for j in range(i,0,-1):\n",
        "    print(\"* \",end=\"\")\n",
        "  print()"
      ],
      "execution_count": 11,
      "outputs": [
        {
          "output_type": "stream",
          "text": [
            "Enter The Number: 9\n",
            "   *        * \n",
            "  * *      * * \n",
            " * * *    * * * \n",
            "* * * *  * * * * \n",
            "* * * * * * * * * \n",
            " * * * * * * * * \n",
            "  * * * * * * * \n",
            "   * * * * * * \n",
            "    * * * * * \n",
            "     * * * * \n",
            "      * * * \n",
            "       * * \n",
            "        * \n"
          ],
          "name": "stdout"
        }
      ]
    },
    {
      "cell_type": "code",
      "metadata": {
        "id": "1YjcbSzFSQ-_",
        "outputId": "706d91d7-4bec-4f92-c255-432af7c1fc0c",
        "colab": {
          "base_uri": "https://localhost:8080/"
        }
      },
      "source": [
        "num = int(input(\"Enter The Number: \"))\n",
        "n = num//2\n",
        "for i in range(n):\n",
        "  for j in range(n-i-1):\n",
        "    print(\" \",end=\"\")\n",
        "  for j in range(i+1):\n",
        "    print(\"* \",end=\"\")\n",
        "  if num % 2 == 0:\n",
        "    for j in range(2*(n-i-1)):\n",
        "      print(\" \",end=\"\")\n",
        "  else:\n",
        "    for j in range(2*(n-i-1)+1):\n",
        "      print(\" \",end=\"\")\n",
        "  for j in range(i+1):\n",
        "    print(\"* \",end=\"\")\n",
        "  print()\n",
        "\n",
        "for i in range(num,0,-1):\n",
        "  for j in range(num-i):\n",
        "    print(\" \",end=\"\")\n",
        "  for j in range(i,0,-1):\n",
        "    print(\"* \",end=\"\")\n",
        "  print()"
      ],
      "execution_count": 12,
      "outputs": [
        {
          "output_type": "stream",
          "text": [
            "Enter The Number: 15\n",
            "      *              * \n",
            "     * *            * * \n",
            "    * * *          * * * \n",
            "   * * * *        * * * * \n",
            "  * * * * *      * * * * * \n",
            " * * * * * *    * * * * * * \n",
            "* * * * * * *  * * * * * * * \n",
            "* * * * * * * * * * * * * * * \n",
            " * * * * * * * * * * * * * * \n",
            "  * * * * * * * * * * * * * \n",
            "   * * * * * * * * * * * * \n",
            "    * * * * * * * * * * * \n",
            "     * * * * * * * * * * \n",
            "      * * * * * * * * * \n",
            "       * * * * * * * * \n",
            "        * * * * * * * \n",
            "         * * * * * * \n",
            "          * * * * * \n",
            "           * * * * \n",
            "            * * * \n",
            "             * * \n",
            "              * \n"
          ],
          "name": "stdout"
        }
      ]
    }
  ]
}