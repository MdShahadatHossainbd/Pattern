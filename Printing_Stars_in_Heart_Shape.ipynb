{
  "nbformat": 4,
  "nbformat_minor": 0,
  "metadata": {
    "colab": {
      "name": "Printing Stars in Heart Shape.ipynb",
      "provenance": [],
      "authorship_tag": "ABX9TyNskzuNvA0WzgFQN9Yl1Kom",
      "include_colab_link": true
    },
    "kernelspec": {
      "name": "python3",
      "display_name": "Python 3"
    }
  },
  "cells": [
    {
      "cell_type": "markdown",
      "metadata": {
        "id": "view-in-github",
        "colab_type": "text"
      },
      "source": [
        "<a href=\"https://colab.research.google.com/github/MdShahadatHossainbd/Pattern/blob/master/Printing_Stars_in_Heart_Shape.ipynb\" target=\"_parent\"><img src=\"https://colab.research.google.com/assets/colab-badge.svg\" alt=\"Open In Colab\"/></a>"
      ]
    },
    {
      "cell_type": "code",
      "metadata": {
        "id": "v1tSOMXHfmrw",
        "outputId": "724f175a-372d-4424-9801-5eabe3a563a2",
        "colab": {
          "base_uri": "https://localhost:8080/",
          "height": 132
        }
      },
      "source": [
        "for row in range(6):\n",
        "  for col in range(7):\n",
        "    if (row == 0 and col % 3 != 0) or (row == 1 and col % 3 == 0) or (row - col == 2) or (row + col == 8):\n",
        "      print(\"*\",end=\"\")\n",
        "    else:\n",
        "      print(end=\" \")\n",
        "  print()"
      ],
      "execution_count": 1,
      "outputs": [
        {
          "output_type": "stream",
          "text": [
            " ** ** \n",
            "*  *  *\n",
            "*     *\n",
            " *   * \n",
            "  * *  \n",
            "   *   \n"
          ],
          "name": "stdout"
        }
      ]
    }
  ]
}