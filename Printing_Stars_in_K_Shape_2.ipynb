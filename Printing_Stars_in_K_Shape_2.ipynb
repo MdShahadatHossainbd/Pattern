{
  "nbformat": 4,
  "nbformat_minor": 0,
  "metadata": {
    "colab": {
      "name": "Printing Stars in K Shape 2",
      "provenance": [],
      "authorship_tag": "ABX9TyPJXfPdow5eLHrYzBpHKxIm",
      "include_colab_link": true
    },
    "kernelspec": {
      "name": "python3",
      "display_name": "Python 3"
    }
  },
  "cells": [
    {
      "cell_type": "markdown",
      "metadata": {
        "id": "view-in-github",
        "colab_type": "text"
      },
      "source": [
        "<a href=\"https://colab.research.google.com/github/MdShahadatHossainbd/Pattern/blob/master/Printing_Stars_in_K_Shape_2.ipynb\" target=\"_parent\"><img src=\"https://colab.research.google.com/assets/colab-badge.svg\" alt=\"Open In Colab\"/></a>"
      ]
    },
    {
      "cell_type": "code",
      "metadata": {
        "id": "z0ssOFcqY2DY",
        "colab": {
          "base_uri": "https://localhost:8080/",
          "height": 146
        },
        "outputId": "d5e7751f-3969-4307-ee6d-72bce94d0c55"
      },
      "source": [
        "i = 0\n",
        "j = 4\n",
        "for row in range(7):\n",
        "  for col in range(5):\n",
        "\n",
        "    if col == 0 or (row == col+2 and col > 1 ):\n",
        "\n",
        "      print(\"*\", end=\"\")\n",
        "    elif ((row == i and col == j ) and col >0):\n",
        "      print(\"*\", end=\"\")\n",
        "      i = i + 1\n",
        "      j = j - 1\n",
        "\n",
        "    else:\n",
        "      print(end=\" \")\n",
        "  print()"
      ],
      "execution_count": null,
      "outputs": [
        {
          "output_type": "stream",
          "text": [
            "*   *\n",
            "*  * \n",
            "* *  \n",
            "**   \n",
            "* *  \n",
            "*  * \n",
            "*   *\n"
          ],
          "name": "stdout"
        }
      ]
    },
    {
      "cell_type": "code",
      "metadata": {
        "id": "ff1ndG0y86WL",
        "colab": {
          "base_uri": "https://localhost:8080/"
        },
        "outputId": "cbfc2bae-7cc9-418c-8fe0-9237079b35f6"
      },
      "source": [
        "for row in range(7):\n",
        "  for col in range(5):\n",
        "    if col == 0 or row + col == 3 or row - col == 3:\n",
        "      print(\"*\", end=\"\")\n",
        "    else:\n",
        "      print(end=\" \")\n",
        "  print()"
      ],
      "execution_count": null,
      "outputs": [
        {
          "output_type": "stream",
          "text": [
            "*  * \n",
            "* *  \n",
            "**   \n",
            "*    \n",
            "**   \n",
            "* *  \n",
            "*  * \n"
          ],
          "name": "stdout"
        }
      ]
    }
  ]
}