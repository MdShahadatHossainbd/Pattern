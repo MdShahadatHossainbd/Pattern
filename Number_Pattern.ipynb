{
  "nbformat": 4,
  "nbformat_minor": 0,
  "metadata": {
    "colab": {
      "name": "Number Pattern.ipynb",
      "provenance": [],
      "authorship_tag": "ABX9TyNlC35+5zGu+qmGZpeiqWNI",
      "include_colab_link": true
    },
    "kernelspec": {
      "name": "python3",
      "display_name": "Python 3"
    }
  },
  "cells": [
    {
      "cell_type": "markdown",
      "metadata": {
        "id": "view-in-github",
        "colab_type": "text"
      },
      "source": [
        "<a href=\"https://colab.research.google.com/github/MdShahadatHossainbd/Pattern/blob/master/Number_Pattern.ipynb\" target=\"_parent\"><img src=\"https://colab.research.google.com/assets/colab-badge.svg\" alt=\"Open In Colab\"/></a>"
      ]
    },
    {
      "cell_type": "code",
      "metadata": {
        "id": "duYiH4o_Pg_h",
        "outputId": "e0ef1e66-ea91-4e6c-c2ac-440d9a1d5104",
        "colab": {
          "base_uri": "https://localhost:8080/"
        }
      },
      "source": [
        "n = int(input())\n",
        "for i in range(1,n+1):\n",
        "    for j in range(1,n-i+1):\n",
        "        print(end=\" \")\n",
        "    for j in range(i,0,-1):\n",
        "        print(j,end=\"\")\n",
        "    for j in range(2,i+1):\n",
        "        print(j,end=\"\")\n",
        "    print()"
      ],
      "execution_count": 3,
      "outputs": [
        {
          "output_type": "stream",
          "text": [
            "5\n",
            "    1\n",
            "   212\n",
            "  32123\n",
            " 4321234\n",
            "543212345\n"
          ],
          "name": "stdout"
        }
      ]
    },
    {
      "cell_type": "code",
      "metadata": {
        "id": "DbMBhJBVPGn5",
        "outputId": "1182bfaf-97c9-44dd-cdeb-04cad67a1641",
        "colab": {
          "base_uri": "https://localhost:8080/"
        }
      },
      "source": [
        "n = int(input())\n",
        "for i in range(1,n+1):\n",
        "    for j in range(1,n-i):\n",
        "        print(end=\" \")\n",
        "    for j in range(1,i+1):\n",
        "        print(j,end=\"\")\n",
        "        k=j-1\n",
        "    for j in range(2,i+1):\n",
        "        print(k,end=\"\")\n",
        "        k=k-1\n",
        "    print()"
      ],
      "execution_count": 1,
      "outputs": [
        {
          "output_type": "stream",
          "text": [
            "5\n",
            "   1\n",
            "  121\n",
            " 12321\n",
            "1234321\n",
            "123454321\n"
          ],
          "name": "stdout"
        }
      ]
    },
    {
      "cell_type": "code",
      "metadata": {
        "id": "gUMxXsL8PS3H",
        "outputId": "7cb5f93f-1aa2-4cab-a07e-05027caa76a7",
        "colab": {
          "base_uri": "https://localhost:8080/"
        }
      },
      "source": [
        "n = int(input(\"rows:\"))\n",
        "mid = int(n/2)\n",
        "for i in range(mid+1):\n",
        "  ch = 65\n",
        "  for j in range(mid-i):\n",
        "    print(\" \",end=\"\")\n",
        "  for j in range(i+1):\n",
        "    print(chr(ch+j),end=\"\")\n",
        "\n",
        "  for j in range(i,0,-1):     \n",
        "    print(chr(ch+j-1),end=\"\")\n",
        "  print()\n",
        "  \n",
        "for i in range(mid+1,1,-1):\n",
        "  for j in range(mid+1-i+1):\n",
        "    print(end=\" \")\n",
        "  for j in range(i-1):\n",
        "    print(chr(ch+j),end=\"\")\n",
        "\n",
        "  for j in range(i-2,0,-1):     \n",
        "    print(chr(ch+j-1),end=\"\")\n",
        "\n",
        "  print()"
      ],
      "execution_count": 2,
      "outputs": [
        {
          "output_type": "stream",
          "text": [
            "rows:5\n",
            "  A\n",
            " ABA\n",
            "ABCBA\n",
            " ABA\n",
            "  A\n"
          ],
          "name": "stdout"
        }
      ]
    }
  ]
}