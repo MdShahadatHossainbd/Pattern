{
  "nbformat": 4,
  "nbformat_minor": 0,
  "metadata": {
    "colab": {
      "name": "Floyd's Triangle | Printing Numbers in Right Triangle Shape 2.ipynb",
      "provenance": [],
      "authorship_tag": "ABX9TyMoTQzIMEjtraB2xI0n6vPr",
      "include_colab_link": true
    },
    "kernelspec": {
      "name": "python3",
      "display_name": "Python 3"
    }
  },
  "cells": [
    {
      "cell_type": "markdown",
      "metadata": {
        "id": "view-in-github",
        "colab_type": "text"
      },
      "source": [
        "<a href=\"https://colab.research.google.com/github/MdShahadatHossainbd/Pattern/blob/master/Floyd's_Triangle_%7C_Printing_Numbers_in_Right_Triangle_Shape_2.ipynb\" target=\"_parent\"><img src=\"https://colab.research.google.com/assets/colab-badge.svg\" alt=\"Open In Colab\"/></a>"
      ]
    },
    {
      "cell_type": "code",
      "metadata": {
        "id": "wV4jiuVlnwx8",
        "outputId": "53360fc2-4daa-4766-a6d0-6086dff86a86",
        "colab": {
          "base_uri": "https://localhost:8080/",
          "height": 109
        }
      },
      "source": [
        "n = int(input(\"Enter the Number of rows: \"))\n",
        "num = 1\n",
        "for row in range(1, n+1):  \n",
        "  for col in range(1, row + 1):\n",
        "    print(num,end=\"\") \n",
        "    num = num + 1\n",
        "  print()"
      ],
      "execution_count": null,
      "outputs": [
        {
          "output_type": "stream",
          "text": [
            "Enter the Number of rows: 4\n",
            "1\n",
            "23\n",
            "456\n",
            "78910\n"
          ],
          "name": "stdout"
        }
      ]
    },
    {
      "cell_type": "code",
      "metadata": {
        "id": "ZtAT1-ryqeQZ",
        "outputId": "1fab12ee-5cd0-4355-d778-4bd3f7684ec0",
        "colab": {
          "base_uri": "https://localhost:8080/",
          "height": 164
        }
      },
      "source": [
        "n = int(input(\"Enter the Number of rows: \"))\n",
        "num = 1\n",
        "for row in range(1, n+1):  \n",
        "  for col in range(1, row + 1):\n",
        "    print(num,end=\" \") \n",
        "    num = num + 1\n",
        "  print()"
      ],
      "execution_count": 4,
      "outputs": [
        {
          "output_type": "stream",
          "text": [
            "Enter the Number of rows: 7\n",
            "1 \n",
            "2 3 \n",
            "4 5 6 \n",
            "7 8 9 10 \n",
            "11 12 13 14 15 \n",
            "16 17 18 19 20 21 \n",
            "22 23 24 25 26 27 28 \n"
          ],
          "name": "stdout"
        }
      ]
    }
  ]
}