{
  "nbformat": 4,
  "nbformat_minor": 0,
  "metadata": {
    "colab": {
      "name": "Print Stars in Hollow Diamond Shape.ipynb",
      "provenance": [],
      "authorship_tag": "ABX9TyNBZ47cgjoDhl1q4tun0Ked",
      "include_colab_link": true
    },
    "kernelspec": {
      "name": "python3",
      "display_name": "Python 3"
    }
  },
  "cells": [
    {
      "cell_type": "markdown",
      "metadata": {
        "id": "view-in-github",
        "colab_type": "text"
      },
      "source": [
        "<a href=\"https://colab.research.google.com/github/MdShahadatHossainbd/Pattern/blob/master/Print_Stars_in_Hollow_Diamond_Shape.ipynb\" target=\"_parent\"><img src=\"https://colab.research.google.com/assets/colab-badge.svg\" alt=\"Open In Colab\"/></a>"
      ]
    },
    {
      "cell_type": "code",
      "metadata": {
        "colab": {
          "base_uri": "https://localhost:8080/"
        },
        "id": "7iWr2mgVdPKV",
        "outputId": "e0841135-500c-46f7-e203-f109498f6d0d"
      },
      "source": [
        "n = int(input(\"Enter The Row: \"))\n",
        "for i in range(n,0,-1):\n",
        "  for j in range(i,0,-1):\n",
        "    print(\"*\",end=\" \")\n",
        "  print()"
      ],
      "execution_count": 2,
      "outputs": [
        {
          "output_type": "stream",
          "text": [
            "Enter The Row: 5\n",
            "* * * * * \n",
            "* * * * \n",
            "* * * \n",
            "* * \n",
            "* \n"
          ],
          "name": "stdout"
        }
      ]
    },
    {
      "cell_type": "code",
      "metadata": {
        "colab": {
          "base_uri": "https://localhost:8080/"
        },
        "id": "gJPcdSkGm-fG",
        "outputId": "a8ff7401-2542-428f-ea82-fbc76ed068dc"
      },
      "source": [
        "n = int(input(\"Enter The Row: \"))\n",
        "for i in range(n,0,-1):\n",
        "  for j in range(i,0,-1):\n",
        "    print(\"*\",end=\" \")\n",
        "  for j in range(2*(n-i)):\n",
        "    print(\" \",end=\" \")\n",
        "  for i in range(i,0,-1):\n",
        "    print(\"*\",end=\" \")\n",
        "  print()"
      ],
      "execution_count": 4,
      "outputs": [
        {
          "output_type": "stream",
          "text": [
            "Enter The Row: 5\n",
            "* * * * * * * * * * \n",
            "* * * *     * * * * \n",
            "* * *         * * * \n",
            "* *             * * \n",
            "*                 * \n"
          ],
          "name": "stdout"
        }
      ]
    },
    {
      "cell_type": "code",
      "metadata": {
        "colab": {
          "base_uri": "https://localhost:8080/"
        },
        "id": "DeJ71b10oFkv",
        "outputId": "9b2ce5a5-b17b-456c-dea0-ff8fffa6d39d"
      },
      "source": [
        "n = int(input(\"Enter The Row: \"))\n",
        "for i in range(n,0,-1):\n",
        "  for j in range(i,0,-1):\n",
        "    print(\"*\",end=\" \")\n",
        "  for j in range(2*(n-i)):\n",
        "    print(\" \",end=\" \")\n",
        "  for i in range(i,0,-1):\n",
        "    print(\"*\",end=\" \")\n",
        "  print()\n",
        "\n",
        "for i in range(n):\n",
        "  for j in range(i+1):\n",
        "    print(\"*\",end=\" \")\n",
        "  for j in range(2*(n-i-1)):\n",
        "    print(\" \",end=\" \")\n",
        "  for i in range(i+1):\n",
        "    print(\"*\",end=\" \")\n",
        "  print()"
      ],
      "execution_count": 5,
      "outputs": [
        {
          "output_type": "stream",
          "text": [
            "Enter The Row: 5\n",
            "* * * * * * * * * * \n",
            "* * * *     * * * * \n",
            "* * *         * * * \n",
            "* *             * * \n",
            "*                 * \n",
            "*                 * \n",
            "* *             * * \n",
            "* * *         * * * \n",
            "* * * *     * * * * \n",
            "* * * * * * * * * * \n"
          ],
          "name": "stdout"
        }
      ]
    },
    {
      "cell_type": "code",
      "metadata": {
        "colab": {
          "base_uri": "https://localhost:8080/"
        },
        "id": "Z8qPn4Hoooz2",
        "outputId": "a84458dd-ab60-40bf-dae5-93e12bbbe6c6"
      },
      "source": [
        "n = int(input(\"Enter The Row: \"))\n",
        "for i in range(n,0,-1):\n",
        "  for j in range(i,0,-1):\n",
        "    print(\"*\",end=\" \")\n",
        "  for j in range(2*(n-i)):\n",
        "    print(\" \",end=\" \")\n",
        "  for i in range(i,0,-1):\n",
        "    print(\"*\",end=\" \")\n",
        "  print()\n",
        "\n",
        "for i in range(n):\n",
        "  for j in range(i+1):\n",
        "    print(\"*\",end=\" \")\n",
        "  for j in range(2*(n-i-1)):\n",
        "    print(\" \",end=\" \")\n",
        "  for i in range(i+1):\n",
        "    print(\"*\",end=\" \")\n",
        "  print()"
      ],
      "execution_count": 6,
      "outputs": [
        {
          "output_type": "stream",
          "text": [
            "Enter The Row: 10\n",
            "* * * * * * * * * * * * * * * * * * * * \n",
            "* * * * * * * * *     * * * * * * * * * \n",
            "* * * * * * * *         * * * * * * * * \n",
            "* * * * * * *             * * * * * * * \n",
            "* * * * * *                 * * * * * * \n",
            "* * * * *                     * * * * * \n",
            "* * * *                         * * * * \n",
            "* * *                             * * * \n",
            "* *                                 * * \n",
            "*                                     * \n",
            "*                                     * \n",
            "* *                                 * * \n",
            "* * *                             * * * \n",
            "* * * *                         * * * * \n",
            "* * * * *                     * * * * * \n",
            "* * * * * *                 * * * * * * \n",
            "* * * * * * *             * * * * * * * \n",
            "* * * * * * * *         * * * * * * * * \n",
            "* * * * * * * * *     * * * * * * * * * \n",
            "* * * * * * * * * * * * * * * * * * * * \n"
          ],
          "name": "stdout"
        }
      ]
    }
  ]
}