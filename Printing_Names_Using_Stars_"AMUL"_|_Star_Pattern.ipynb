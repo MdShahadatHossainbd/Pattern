{
  "nbformat": 4,
  "nbformat_minor": 0,
  "metadata": {
    "colab": {
      "name": "Printing Names Using Stars \"AMUL\" | Star Pattern",
      "provenance": [],
      "authorship_tag": "ABX9TyOk2vvxZoS2cr1ac2dZYwSE",
      "include_colab_link": true
    },
    "kernelspec": {
      "name": "python3",
      "display_name": "Python 3"
    }
  },
  "cells": [
    {
      "cell_type": "markdown",
      "metadata": {
        "id": "view-in-github",
        "colab_type": "text"
      },
      "source": [
        "<a href=\"https://colab.research.google.com/github/MdShahadatHossainbd/Pattern/blob/master/Printing_Names_Using_Stars_%22AMUL%22_%7C_Star_Pattern.ipynb\" target=\"_parent\"><img src=\"https://colab.research.google.com/assets/colab-badge.svg\" alt=\"Open In Colab\"/></a>"
      ]
    },
    {
      "cell_type": "code",
      "metadata": {
        "id": "ZhyAiL2v8MNK",
        "outputId": "770f353a-5a0d-4571-ec72-9b53fc1a30fb",
        "colab": {
          "base_uri": "https://localhost:8080/"
        }
      },
      "source": [
        "str1 = \"AMUL\"\n",
        "print_A = [[\" \" for i in range(5)] for j in range(6)] \n",
        "print_M = [[\" \" for i in range(5)] for j in range(6)] \n",
        "print_U = [[\" \" for i in range(5)] for j in range(6)] \n",
        "print_L = [[\" \" for i in range(5)] for j in range(6)]\n",
        "\n",
        "# Code for A\n",
        "for row in range(6):\n",
        "  for col in range(5):\n",
        "    if ((col== 0 or col==4) and row!=0) or row==2 or (row==0 and (col != 0 and col != 4)):\n",
        "      print_A[row][col] = \"*\" \n",
        "\n",
        "# Code for M\n",
        "for row in range(6):\n",
        "  for col in range(5):\n",
        "    if col == 0 or col == 4 or (col == row and row < 3) or (row + col == 4 and row < 3):\n",
        "      print_M[row][col] = \"*\" \n",
        "\n",
        "# Code for U\n",
        "for row in range(6):\n",
        "  for col in range(5):\n",
        "    if ((col == 0 or col == 4) and row != 5) or (row == 5) and (col > 0 and col < 4):\n",
        "      print_U[row][col] = \"*\" \n",
        "\n",
        "# Code for L\n",
        "for row in range(6):\n",
        "  for col in range(5):\n",
        "    if col == 0 or row == 5:\n",
        "      print_L[row][col] = \"*\" \n",
        "\n",
        "for i in range(6):\n",
        "  for j in range(5):\n",
        "    print(print_A[i][j], end=\" \")\n",
        "  print(end=\"  \")\n",
        "  for j in range(5):\n",
        "    print(print_M[i][j], end=\" \")\n",
        "  for j in range(5):\n",
        "    print(print_U[i][j], end=\" \")\n",
        "  for j in range(5):\n",
        "    print(print_L[i][j], end=\" \")\n",
        "  print()\n"
      ],
      "execution_count": 9,
      "outputs": [
        {
          "output_type": "stream",
          "text": [
            "  * * *     *       * *       * *         \n",
            "*       *   * *   * * *       * *         \n",
            "* * * * *   *   *   * *       * *         \n",
            "*       *   *       * *       * *         \n",
            "*       *   *       * *       * *         \n",
            "*       *   *       *   * * *   * * * * * \n"
          ],
          "name": "stdout"
        }
      ]
    }
  ]
}