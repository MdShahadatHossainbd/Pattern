{
  "nbformat": 4,
  "nbformat_minor": 0,
  "metadata": {
    "colab": {
      "name": "01 Print Pyramid, Star, and Diamond pattern in Python.ipynb",
      "provenance": [],
      "authorship_tag": "ABX9TyO6qVnDGlWHaEmtQQbZKf2+",
      "include_colab_link": true
    },
    "kernelspec": {
      "name": "python3",
      "display_name": "Python 3"
    }
  },
  "cells": [
    {
      "cell_type": "markdown",
      "metadata": {
        "id": "view-in-github",
        "colab_type": "text"
      },
      "source": [
        "<a href=\"https://colab.research.google.com/github/MdShahadatHossainbd/Pattern/blob/master/01_Print_Pyramid%2C_Star%2C_and_Diamond_pattern_in_Python.ipynb\" target=\"_parent\"><img src=\"https://colab.research.google.com/assets/colab-badge.svg\" alt=\"Open In Colab\"/></a>"
      ]
    },
    {
      "cell_type": "markdown",
      "metadata": {
        "id": "__16W66nqVdV"
      },
      "source": [
        "Star Pattern 1: Equilateral triangle pattern with Star (asterisk)"
      ]
    },
    {
      "cell_type": "code",
      "metadata": {
        "colab": {
          "base_uri": "https://localhost:8080/"
        },
        "id": "uezgYP8HqSJx",
        "outputId": "8ae09cc9-a1c9-4ad2-e6cd-bd7dd8bb44f1"
      },
      "source": [
        "print(\"Print equilateral triangle Pyramid using stars \")\r\n",
        "size = 7\r\n",
        "m = (2 * size) - 2\r\n",
        "for i in range(0, size):\r\n",
        "    for j in range(0, m):\r\n",
        "        print(end=\" \")\r\n",
        "    m = m - 1  # decrementing m after each loop\r\n",
        "    for j in range(0, i + 1):\r\n",
        "        # printing full Triangle pyramid using stars\r\n",
        "        print(\"* \", end=' ')\r\n",
        "    print(\" \")"
      ],
      "execution_count": 1,
      "outputs": [
        {
          "output_type": "stream",
          "text": [
            "Print equilateral triangle Pyramid using stars \n",
            "            *   \n",
            "           *  *   \n",
            "          *  *  *   \n",
            "         *  *  *  *   \n",
            "        *  *  *  *  *   \n",
            "       *  *  *  *  *  *   \n",
            "      *  *  *  *  *  *  *   \n"
          ],
          "name": "stdout"
        }
      ]
    },
    {
      "cell_type": "markdown",
      "metadata": {
        "id": "HZB6MtAvq3B9"
      },
      "source": [
        "Star Pattern 2: Half pyramid pattern with Star (asterisk)"
      ]
    },
    {
      "cell_type": "code",
      "metadata": {
        "colab": {
          "base_uri": "https://localhost:8080/"
        },
        "id": "dx9PR3x0q5uN",
        "outputId": "f5441beb-6dc9-4617-e39d-db3ec0e41cde"
      },
      "source": [
        "rows = 5\r\n",
        "for i in range(0, rows):\r\n",
        "    for j in range(0, i + 1):\r\n",
        "        print(\"*\", end=' ')\r\n",
        "\r\n",
        "    print(\"\\r\")"
      ],
      "execution_count": 2,
      "outputs": [
        {
          "output_type": "stream",
          "text": [
            "* \r\n",
            "* * \r\n",
            "* * * \r\n",
            "* * * * \r\n",
            "* * * * * \r\n"
          ],
          "name": "stdout"
        }
      ]
    },
    {
      "cell_type": "code",
      "metadata": {
        "colab": {
          "base_uri": "https://localhost:8080/"
        },
        "id": "jXTSFRVerMnA",
        "outputId": "6165abbe-92f4-4cfb-94fb-55e2d29e7ee7"
      },
      "source": [
        "rows = 5\r\n",
        "for j in range(1, rows+1):\r\n",
        "    print(\"* \" * j)"
      ],
      "execution_count": 3,
      "outputs": [
        {
          "output_type": "stream",
          "text": [
            "* \n",
            "* * \n",
            "* * * \n",
            "* * * * \n",
            "* * * * * \n"
          ],
          "name": "stdout"
        }
      ]
    },
    {
      "cell_type": "markdown",
      "metadata": {
        "id": "XqeWsu7Nq99Z"
      },
      "source": [
        "Star Pattern 3: Left Half-Pyramid Pattern with Star (asterisk)"
      ]
    },
    {
      "cell_type": "code",
      "metadata": {
        "colab": {
          "base_uri": "https://localhost:8080/"
        },
        "id": "bkk4aj4ArUUm",
        "outputId": "d0744310-c4c3-433f-fc65-0c47ff541c90"
      },
      "source": [
        "rows = 5\r\n",
        "k = 2 * rows - 2\r\n",
        "for i in range(0, rows):\r\n",
        "    for j in range(0, k):\r\n",
        "        print(end=\" \")\r\n",
        "    k = k - 2\r\n",
        "    for j in range(0, i + 1):\r\n",
        "        print(\"* \", end=\"\")\r\n",
        "    print(\"\")"
      ],
      "execution_count": 4,
      "outputs": [
        {
          "output_type": "stream",
          "text": [
            "        * \n",
            "      * * \n",
            "    * * * \n",
            "  * * * * \n",
            "* * * * * \n"
          ],
          "name": "stdout"
        }
      ]
    },
    {
      "cell_type": "markdown",
      "metadata": {
        "id": "mz18aKIzrcB1"
      },
      "source": [
        "Star Pattern 4: Downward Half-Pyramid Pattern with Star (asterisk)"
      ]
    },
    {
      "cell_type": "code",
      "metadata": {
        "colab": {
          "base_uri": "https://localhost:8080/"
        },
        "id": "zPbgoDgirYz3",
        "outputId": "fd498b83-7d82-44f4-b07a-159cf4c69051"
      },
      "source": [
        "rows = 5\r\n",
        "for i in range(rows + 1, 0, -1):\r\n",
        "    for j in range(0, i - 1):\r\n",
        "        print(\"*\", end=' ')\r\n",
        "    print(\" \")"
      ],
      "execution_count": 5,
      "outputs": [
        {
          "output_type": "stream",
          "text": [
            "* * * * *  \n",
            "* * * *  \n",
            "* * *  \n",
            "* *  \n",
            "*  \n",
            " \n"
          ],
          "name": "stdout"
        }
      ]
    },
    {
      "cell_type": "markdown",
      "metadata": {
        "id": "tT9763rMrilK"
      },
      "source": [
        "Star Pattern 5: Print Right start Pattern with Star (asterisk)"
      ]
    },
    {
      "cell_type": "code",
      "metadata": {
        "colab": {
          "base_uri": "https://localhost:8080/"
        },
        "id": "pUj6oehOriM7",
        "outputId": "7d7eaa44-fc69-4e91-df96-a180c8936599"
      },
      "source": [
        "rows = 5\r\n",
        "for i in range(0, rows):\r\n",
        "    for j in range(0, i + 1):\r\n",
        "        print(\"*\", end=' ')\r\n",
        "    print(\"\\r\")\r\n",
        "\r\n",
        "for i in range(rows, 0, -1):\r\n",
        "    for j in range(0, i - 1):\r\n",
        "        print(\"*\", end=' ')\r\n",
        "    print(\"\\r\")\r\n"
      ],
      "execution_count": 6,
      "outputs": [
        {
          "output_type": "stream",
          "text": [
            "* \r\n",
            "* * \r\n",
            "* * * \r\n",
            "* * * * \r\n",
            "* * * * * \r\n",
            "* * * * \r\n",
            "* * * \r\n",
            "* * \r\n",
            "* \r\n",
            "\r\n"
          ],
          "name": "stdout"
        }
      ]
    },
    {
      "cell_type": "markdown",
      "metadata": {
        "id": "SNrE8bf3r3Gi"
      },
      "source": [
        "Star Pattern 6:  Downward star Pattern"
      ]
    },
    {
      "cell_type": "code",
      "metadata": {
        "colab": {
          "base_uri": "https://localhost:8080/"
        },
        "id": "Q3TvU2a2r208",
        "outputId": "117cb2ca-b697-4de3-9003-a9dedca7ed70"
      },
      "source": [
        "rows = 5\r\n",
        "k = 2 * rows - 2\r\n",
        "for i in range(rows, -1, -1):\r\n",
        "    for j in range(k, 0, -1):\r\n",
        "        print(end=\" \")\r\n",
        "    k = k + 1\r\n",
        "    for j in range(0, i + 1):\r\n",
        "        print(\"*\", end=\" \")\r\n",
        "    print(\"\")"
      ],
      "execution_count": 7,
      "outputs": [
        {
          "output_type": "stream",
          "text": [
            "        * * * * * * \n",
            "         * * * * * \n",
            "          * * * * \n",
            "           * * * \n",
            "            * * \n",
            "             * \n"
          ],
          "name": "stdout"
        }
      ]
    },
    {
      "cell_type": "markdown",
      "metadata": {
        "id": "guRZv4imr7iJ"
      },
      "source": [
        "Star Pattern 7: display two pyramids with stars in one pattern"
      ]
    },
    {
      "cell_type": "code",
      "metadata": {
        "colab": {
          "base_uri": "https://localhost:8080/"
        },
        "id": "LDS6X8Yyr9-d",
        "outputId": "6ca9c7f2-8228-46a2-9300-3eae6ecc5304"
      },
      "source": [
        "rows = 6\r\n",
        "for i in range(0, rows):\r\n",
        "    for j in range(0, i + 1):\r\n",
        "        print(\"*\", end=' ')\r\n",
        "    print(\" \")\r\n",
        "\r\n",
        "print(\" \")\r\n",
        "\r\n",
        "for i in range(rows + 1, 0, -1):\r\n",
        "    for j in range(0, i - 1):\r\n",
        "        print(\"*\", end=' ')\r\n",
        "    print(\" \")"
      ],
      "execution_count": 8,
      "outputs": [
        {
          "output_type": "stream",
          "text": [
            "*  \n",
            "* *  \n",
            "* * *  \n",
            "* * * *  \n",
            "* * * * *  \n",
            "* * * * * *  \n",
            " \n",
            "* * * * * *  \n",
            "* * * * *  \n",
            "* * * *  \n",
            "* * *  \n",
            "* *  \n",
            "*  \n",
            " \n"
          ],
          "name": "stdout"
        }
      ]
    },
    {
      "cell_type": "markdown",
      "metadata": {
        "id": "NuU2pu1GsBUO"
      },
      "source": [
        "Diamond Shaped Pattern using stars"
      ]
    },
    {
      "cell_type": "code",
      "metadata": {
        "colab": {
          "base_uri": "https://localhost:8080/"
        },
        "id": "XOfHOvi-sD1R",
        "outputId": "3295652b-b94b-42df-a2bd-b171a3276463"
      },
      "source": [
        "rows = 5\r\n",
        "k = 2 * rows - 2\r\n",
        "for i in range(0, rows):\r\n",
        "    for j in range(0, k):\r\n",
        "        print(end=\" \")\r\n",
        "    k = k - 1\r\n",
        "    for j in range(0, i + 1):\r\n",
        "        print(\"* \", end=\"\")\r\n",
        "    print(\"\")\r\n",
        "    \r\n",
        "k = rows - 2\r\n",
        "\r\n",
        "for i in range(rows, -1, -1):\r\n",
        "    for j in range(k, 0, -1):\r\n",
        "        print(end=\" \")\r\n",
        "    k = k + 1\r\n",
        "    for j in range(0, i + 1):\r\n",
        "        print(\"* \", end=\"\")\r\n",
        "    print(\"\")"
      ],
      "execution_count": 9,
      "outputs": [
        {
          "output_type": "stream",
          "text": [
            "        * \n",
            "       * * \n",
            "      * * * \n",
            "     * * * * \n",
            "    * * * * * \n",
            "   * * * * * * \n",
            "    * * * * * \n",
            "     * * * * \n",
            "      * * * \n",
            "       * * \n",
            "        * \n"
          ],
          "name": "stdout"
        }
      ]
    },
    {
      "cell_type": "markdown",
      "metadata": {
        "id": "kRJl9CVIsG2Z"
      },
      "source": [
        "Star Pattern 8: Display men’s pant style pattern with stars"
      ]
    },
    {
      "cell_type": "code",
      "metadata": {
        "colab": {
          "base_uri": "https://localhost:8080/"
        },
        "id": "6rMklHLasJpJ",
        "outputId": "faf8d596-d35e-4d1a-ff08-240fe57467c3"
      },
      "source": [
        "rows = 14\r\n",
        "print(\"*\" * rows, end=\"\\n\")\r\n",
        "i = (rows // 2) - 1\r\n",
        "j = 2\r\n",
        "while i != 0:\r\n",
        "    while j <= (rows - 2):\r\n",
        "        print(\"*\" * i, end=\"\")\r\n",
        "        print(\"_\" * j, end=\"\")\r\n",
        "        print(\"*\" * i, end=\"\\n\")\r\n",
        "        i = i - 1\r\n",
        "        j = j + 2"
      ],
      "execution_count": 10,
      "outputs": [
        {
          "output_type": "stream",
          "text": [
            "**************\n",
            "******__******\n",
            "*****____*****\n",
            "****______****\n",
            "***________***\n",
            "**__________**\n",
            "*____________*\n"
          ],
          "name": "stdout"
        }
      ]
    },
    {
      "cell_type": "markdown",
      "metadata": {
        "id": "nKsyfhUMsM20"
      },
      "source": [
        "Combination of numbers and stars in a pattern"
      ]
    },
    {
      "cell_type": "code",
      "metadata": {
        "colab": {
          "base_uri": "https://localhost:8080/"
        },
        "id": "fP5doGg-sPY7",
        "outputId": "ddbd74eb-7ae6-47a9-b3b5-eca99d624b6b"
      },
      "source": [
        "row = 4\r\n",
        "for i in range(0, row):\r\n",
        "    c = 1\r\n",
        "    print(c, end=' ')\r\n",
        "    for j in range(row - i - 1, 0, -1):\r\n",
        "        print('*', end=' ')\r\n",
        "        c = c + 1\r\n",
        "        print(c, end=' ')\r\n",
        "    print('\\n')"
      ],
      "execution_count": 11,
      "outputs": [
        {
          "output_type": "stream",
          "text": [
            "1 * 2 * 3 * 4 \n",
            "\n",
            "1 * 2 * 3 \n",
            "\n",
            "1 * 2 \n",
            "\n",
            "1 \n",
            "\n"
          ],
          "name": "stdout"
        }
      ]
    },
    {
      "cell_type": "markdown",
      "metadata": {
        "id": "fkDhkCS3sTLH"
      },
      "source": [
        "Right-angled triangle pattern with alphabets/Characters"
      ]
    },
    {
      "cell_type": "code",
      "metadata": {
        "colab": {
          "base_uri": "https://localhost:8080/"
        },
        "id": "uPE_hkvSsSv1",
        "outputId": "9bf32b4a-763f-40b5-86cb-71af18773763"
      },
      "source": [
        "print(\"Print Alphabets and Letters pattern in Python \")\r\n",
        "asciiNumber = 65\r\n",
        "for i in range(0, 7):\r\n",
        "    for j in range(0, i + 1):\r\n",
        "        character = chr(asciiNumber)\r\n",
        "        print(character, end=' ')\r\n",
        "        asciiNumber += 1\r\n",
        "    print(\" \")\r\n"
      ],
      "execution_count": 12,
      "outputs": [
        {
          "output_type": "stream",
          "text": [
            "Print Alphabets and Letters pattern in Python \n",
            "A  \n",
            "B C  \n",
            "D E F  \n",
            "G H I J  \n",
            "K L M N O  \n",
            "P Q R S T U  \n",
            "V W X Y Z [ \\  \n"
          ],
          "name": "stdout"
        }
      ]
    },
    {
      "cell_type": "markdown",
      "metadata": {
        "id": "nYYPYcqAsZkd"
      },
      "source": [
        "Display letter of the word in Pattern"
      ]
    },
    {
      "cell_type": "code",
      "metadata": {
        "colab": {
          "base_uri": "https://localhost:8080/"
        },
        "id": "HtR6YGGXscDN",
        "outputId": "9809a7d9-7514-4729-c339-32645ac17d06"
      },
      "source": [
        "word = \"Python\"\r\n",
        "x = \"\"\r\n",
        "for i in word:\r\n",
        "    x += i\r\n",
        "    print(x)"
      ],
      "execution_count": 13,
      "outputs": [
        {
          "output_type": "stream",
          "text": [
            "P\n",
            "Py\n",
            "Pyt\n",
            "Pyth\n",
            "Pytho\n",
            "Python\n"
          ],
          "name": "stdout"
        }
      ]
    },
    {
      "cell_type": "markdown",
      "metadata": {
        "id": "ApGUsHOLsfVk"
      },
      "source": [
        "Equilateral triangle pattern with characters/alphabets"
      ]
    },
    {
      "cell_type": "code",
      "metadata": {
        "colab": {
          "base_uri": "https://localhost:8080/"
        },
        "id": "8SfD6KEIsiVb",
        "outputId": "79051786-33c3-467f-d311-cac28c708239"
      },
      "source": [
        "print(\"Print equilateral triangle Pyramid with characters \")\r\n",
        "size = 7\r\n",
        "asciiNumber = 65\r\n",
        "m = (2 * size) - 2\r\n",
        "for i in range(0, size):\r\n",
        "    for j in range(0, m):\r\n",
        "        print(end=\" \")\r\n",
        "    m = m - 1\r\n",
        "    for j in range(0, i + 1):\r\n",
        "        character = chr(asciiNumber)\r\n",
        "        print(character, end=' ')\r\n",
        "        asciiNumber += 1\r\n",
        "    print(\" \")\r\n",
        "\r\n"
      ],
      "execution_count": 14,
      "outputs": [
        {
          "output_type": "stream",
          "text": [
            "Print equilateral triangle Pyramid with characters \n",
            "            A  \n",
            "           B C  \n",
            "          D E F  \n",
            "         G H I J  \n",
            "        K L M N O  \n",
            "       P Q R S T U  \n",
            "      V W X Y Z [ \\  \n"
          ],
          "name": "stdout"
        }
      ]
    },
    {
      "cell_type": "markdown",
      "metadata": {
        "id": "cnwlsQJ5sl54"
      },
      "source": [
        "even numbers"
      ]
    },
    {
      "cell_type": "code",
      "metadata": {
        "colab": {
          "base_uri": "https://localhost:8080/"
        },
        "id": "mpDYQ1kisoO7",
        "outputId": "708c1d03-793a-46c2-b616-92829ed8384b"
      },
      "source": [
        "num = 4\r\n",
        "counter=0\r\n",
        "for x in range(0, num):\r\n",
        "    for y in range(0, x+1):\r\n",
        "        print(counter, end=\" \")\r\n",
        "        counter = 2**(x+1)\r\n",
        "    print()"
      ],
      "execution_count": 15,
      "outputs": [
        {
          "output_type": "stream",
          "text": [
            "0 \n",
            "2 4 \n",
            "4 8 8 \n",
            "8 16 16 16 \n"
          ],
          "name": "stdout"
        }
      ]
    }
  ]
}