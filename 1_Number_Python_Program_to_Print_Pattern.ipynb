{
  "nbformat": 4,
  "nbformat_minor": 0,
  "metadata": {
    "colab": {
      "name": "1. Number Python Program to Print Pattern.ipynb",
      "provenance": [],
      "authorship_tag": "ABX9TyOgiEe9JUyPb5DxbfbojASH",
      "include_colab_link": true
    },
    "kernelspec": {
      "name": "python3",
      "display_name": "Python 3"
    }
  },
  "cells": [
    {
      "cell_type": "markdown",
      "metadata": {
        "id": "view-in-github",
        "colab_type": "text"
      },
      "source": [
        "<a href=\"https://colab.research.google.com/github/MdShahadatHossainbd/Pattern/blob/master/1_Number_Python_Program_to_Print_Pattern.ipynb\" target=\"_parent\"><img src=\"https://colab.research.google.com/assets/colab-badge.svg\" alt=\"Open In Colab\"/></a>"
      ]
    },
    {
      "cell_type": "markdown",
      "metadata": {
        "id": "pin1T-1hu0uD"
      },
      "source": [
        "Python Program to Print Pattern – Print Number, Star, Pyramid Diamond and Letter Pattern"
      ]
    },
    {
      "cell_type": "markdown",
      "metadata": {
        "id": "tUXcXAxK5r5y"
      },
      "source": [
        "Numbers Pattern 1: using a for loop and range function"
      ]
    },
    {
      "cell_type": "code",
      "metadata": {
        "colab": {
          "base_uri": "https://localhost:8080/"
        },
        "id": "xAc2FcAntcCo",
        "outputId": "7d1c4223-ceaf-441f-f813-49546b5aec03"
      },
      "source": [
        "rows = 6\n",
        "for num in range(rows):\n",
        "    for i in range(num):\n",
        "        print(num, end=\" \")  # print number\n",
        "    # line after each row to display pattern correctly\n",
        "    print(\" \")"
      ],
      "execution_count": 1,
      "outputs": [
        {
          "output_type": "stream",
          "text": [
            " \n",
            "1  \n",
            "2 2  \n",
            "3 3 3  \n",
            "4 4 4 4  \n",
            "5 5 5 5 5  \n"
          ],
          "name": "stdout"
        }
      ]
    },
    {
      "cell_type": "code",
      "metadata": {
        "colab": {
          "base_uri": "https://localhost:8080/"
        },
        "id": "95RJnOlBvguA",
        "outputId": "d6f6fa35-7221-4810-f9c0-e79c674cc139"
      },
      "source": [
        "num = 6\n",
        "for num in range(rows):\n",
        "    for i in range(num):\n",
        "        print(num, end=\" \")  # print number\n",
        "    # line after each row to display pattern correctly\n",
        "    print(\" \")"
      ],
      "execution_count": 2,
      "outputs": [
        {
          "output_type": "stream",
          "text": [
            " \n",
            "1  \n",
            "2 2  \n",
            "3 3 3  \n",
            "4 4 4 4  \n",
            "5 5 5 5 5  \n"
          ],
          "name": "stdout"
        }
      ]
    },
    {
      "cell_type": "markdown",
      "metadata": {
        "id": "5Cs5Yv272-S5"
      },
      "source": [
        "Number Pattern 2: Half pyramid pattern with numbers"
      ]
    },
    {
      "cell_type": "code",
      "metadata": {
        "colab": {
          "base_uri": "https://localhost:8080/"
        },
        "id": "EOZH196625gf",
        "outputId": "fc5f4105-9485-48b6-8bd6-cabdce1cd1ef"
      },
      "source": [
        "rows = 5\n",
        "for row in range(1, rows+1):\n",
        "    for column in range(1, row + 1):\n",
        "        print(column, end=' ')\n",
        "    print(\"\")"
      ],
      "execution_count": 9,
      "outputs": [
        {
          "output_type": "stream",
          "text": [
            "1 \n",
            "1 2 \n",
            "1 2 3 \n",
            "1 2 3 4 \n",
            "1 2 3 4 5 \n"
          ],
          "name": "stdout"
        }
      ]
    },
    {
      "cell_type": "markdown",
      "metadata": {
        "id": "G4DU88gG3GTp"
      },
      "source": [
        "Numbers Pattern 3: Inverted Pyramid pattern with numbers"
      ]
    },
    {
      "cell_type": "code",
      "metadata": {
        "colab": {
          "base_uri": "https://localhost:8080/"
        },
        "id": "w1ATOguK3IsV",
        "outputId": "f9e4c597-32cc-4d30-8e65-96fc1bcee407"
      },
      "source": [
        "rows = 5\n",
        "b = 0\n",
        "for i in range(rows, 0, -1):\n",
        "    b += 1\n",
        "    for j in range(1, i + 1):\n",
        "        print(b, end=' ')\n",
        "    print('\\r')"
      ],
      "execution_count": 10,
      "outputs": [
        {
          "output_type": "stream",
          "text": [
            "1 1 1 1 1 \r\n",
            "2 2 2 2 \r\n",
            "3 3 3 \r\n",
            "4 4 \r\n",
            "5 \r\n"
          ],
          "name": "stdout"
        }
      ]
    },
    {
      "cell_type": "code",
      "metadata": {
        "colab": {
          "base_uri": "https://localhost:8080/"
        },
        "id": "-liakB9G3Sfz",
        "outputId": "6f0e6fae-25d3-46ca-fcb1-8f14cec7d39d"
      },
      "source": [
        "rows = 5\n",
        "b = 0\n",
        "for i in range(rows, 0, -1):\n",
        "    b += 1\n",
        "    for j in range(1, i + 1):\n",
        "        print(b, end=' ')\n",
        "    print('\\r')"
      ],
      "execution_count": 13,
      "outputs": [
        {
          "output_type": "stream",
          "text": [
            "1 1 1 1 1 \r\n",
            "2 2 2 2 \r\n",
            "3 3 3 \r\n",
            "4 4 \r\n",
            "5 \r\n"
          ],
          "name": "stdout"
        }
      ]
    },
    {
      "cell_type": "markdown",
      "metadata": {
        "id": "RtJnqC1a5mtI"
      },
      "source": [
        "Numbers Pattern 4: Inverted Pyramid pattern with same number"
      ]
    },
    {
      "cell_type": "code",
      "metadata": {
        "colab": {
          "base_uri": "https://localhost:8080/"
        },
        "id": "4d0IxJFt5259",
        "outputId": "7021668f-4eeb-464e-ae84-d16a4f2c8845"
      },
      "source": [
        "rows = 5\n",
        "num = rows\n",
        "for i in range(rows, 0, -1):\n",
        "    for j in range(0, i):\n",
        "        print(num, end=' ')\n",
        "    print(\"\\r\")"
      ],
      "execution_count": 14,
      "outputs": [
        {
          "output_type": "stream",
          "text": [
            "5 5 5 5 5 \r\n",
            "5 5 5 5 \r\n",
            "5 5 5 \r\n",
            "5 5 \r\n",
            "5 \r\n"
          ],
          "name": "stdout"
        }
      ]
    },
    {
      "cell_type": "markdown",
      "metadata": {
        "id": "hCyqzKEw6z53"
      },
      "source": [
        "Numbers Pattern 5: Display descending order of number"
      ]
    },
    {
      "cell_type": "code",
      "metadata": {
        "colab": {
          "base_uri": "https://localhost:8080/"
        },
        "id": "SpuMzm6h64nC",
        "outputId": "a91fbb6c-af1e-4590-b938-454ead53d1db"
      },
      "source": [
        "rows = 5\n",
        "for i in range(rows, 0, -1):\n",
        "    num = i\n",
        "    for j in range(0, i):\n",
        "        print(num, end=' ')\n",
        "    print(\"\\r\")"
      ],
      "execution_count": 17,
      "outputs": [
        {
          "output_type": "stream",
          "text": [
            "5 5 5 5 5 \r\n",
            "4 4 4 4 \r\n",
            "3 3 3 \r\n",
            "2 2 \r\n",
            "1 \r\n"
          ],
          "name": "stdout"
        }
      ]
    },
    {
      "cell_type": "markdown",
      "metadata": {
        "id": "PS_aqqlk78VN"
      },
      "source": [
        "Number Pattern 6: Inverted half pyramid pattern with number"
      ]
    },
    {
      "cell_type": "code",
      "metadata": {
        "colab": {
          "base_uri": "https://localhost:8080/"
        },
        "id": "6mzj3rxB8A6v",
        "outputId": "c99dccd6-24f7-4324-c2a9-ab163d0d1eb4"
      },
      "source": [
        "rows = 5\n",
        "for i in range(rows, 0, -1):\n",
        "    for j in range(0, i + 1):\n",
        "        print(j, end=' ')\n",
        "    print(\"\\r\")"
      ],
      "execution_count": 18,
      "outputs": [
        {
          "output_type": "stream",
          "text": [
            "0 1 2 3 4 5 \r\n",
            "0 1 2 3 4 \r\n",
            "0 1 2 3 \r\n",
            "0 1 2 \r\n",
            "0 1 \r\n"
          ],
          "name": "stdout"
        }
      ]
    },
    {
      "cell_type": "markdown",
      "metadata": {
        "id": "5QZqfvs-8OWv"
      },
      "source": [
        "Display Reverse number pattern"
      ]
    },
    {
      "cell_type": "code",
      "metadata": {
        "colab": {
          "base_uri": "https://localhost:8080/"
        },
        "id": "sW-A1NCq8ZTU",
        "outputId": "78f650d7-0b55-4282-da6a-51dddc58137f"
      },
      "source": [
        "rows = 6\n",
        "for row in range(1, rows):\n",
        "    for column in range(row, 0, -1):\n",
        "        print(column, end=' ')\n",
        "    print(\"\")"
      ],
      "execution_count": 19,
      "outputs": [
        {
          "output_type": "stream",
          "text": [
            "1 \n",
            "2 1 \n",
            "3 2 1 \n",
            "4 3 2 1 \n",
            "5 4 3 2 1 \n"
          ],
          "name": "stdout"
        }
      ]
    },
    {
      "cell_type": "code",
      "metadata": {
        "colab": {
          "base_uri": "https://localhost:8080/"
        },
        "id": "jvA16nQQ8ekB",
        "outputId": "ac974a9d-7362-4d5d-f52a-5244bb612beb"
      },
      "source": [
        "rows = 6\n",
        "for row in range(1, rows):\n",
        "    for column in range(row, 0, -1):\n",
        "        print(row, end=' ')\n",
        "    print(\"\")"
      ],
      "execution_count": 20,
      "outputs": [
        {
          "output_type": "stream",
          "text": [
            "1 \n",
            "2 2 \n",
            "3 3 3 \n",
            "4 4 4 4 \n",
            "5 5 5 5 5 \n"
          ],
          "name": "stdout"
        }
      ]
    },
    {
      "cell_type": "code",
      "metadata": {
        "colab": {
          "base_uri": "https://localhost:8080/"
        },
        "id": "RUpXScdv8mrH",
        "outputId": "f813f0db-11a2-4d44-86ee-034c1260f1c7"
      },
      "source": [
        "rows = 6\n",
        "for row in range(1, rows):\n",
        "    for column in range(rows, 0, -1):\n",
        "        print(row, end=' ')\n",
        "    print(\"\")"
      ],
      "execution_count": 22,
      "outputs": [
        {
          "output_type": "stream",
          "text": [
            "1 1 1 1 1 1 \n",
            "2 2 2 2 2 2 \n",
            "3 3 3 3 3 3 \n",
            "4 4 4 4 4 4 \n",
            "5 5 5 5 5 5 \n"
          ],
          "name": "stdout"
        }
      ]
    },
    {
      "cell_type": "markdown",
      "metadata": {
        "id": "HvSG8UJa8s5Q"
      },
      "source": [
        "Number Pattern 8: Double the number"
      ]
    },
    {
      "cell_type": "code",
      "metadata": {
        "colab": {
          "base_uri": "https://localhost:8080/"
        },
        "id": "yA9TLmH88yfw",
        "outputId": "11bdc251-316c-4bbc-9336-06e3ecf0b81b"
      },
      "source": [
        "rows = 9\n",
        "for i in range(1, rows):\n",
        "    for j in range(-1+i, -1, -1):\n",
        "        print(format(2**j, \"4d\"), end=' ')\n",
        "    print(\"\")"
      ],
      "execution_count": 23,
      "outputs": [
        {
          "output_type": "stream",
          "text": [
            "   1 \n",
            "   2    1 \n",
            "   4    2    1 \n",
            "   8    4    2    1 \n",
            "  16    8    4    2    1 \n",
            "  32   16    8    4    2    1 \n",
            "  64   32   16    8    4    2    1 \n",
            " 128   64   32   16    8    4    2    1 \n"
          ],
          "name": "stdout"
        }
      ]
    },
    {
      "cell_type": "code",
      "metadata": {
        "id": "DktHtsaC87Cr"
      },
      "source": [
        "Number Pattern 9"
      ],
      "execution_count": null,
      "outputs": []
    },
    {
      "cell_type": "code",
      "metadata": {
        "colab": {
          "base_uri": "https://localhost:8080/"
        },
        "id": "T-jhtVJ09TVl",
        "outputId": "757575a9-41e0-4783-a4c3-05ca466ef5ed"
      },
      "source": [
        "rows = 9\n",
        "for i in range(1, rows):\n",
        "    for i in range(0, i, 1):\n",
        "        print(format(2 ** i, \"4d\"), end=' ')\n",
        "    for i in range(-1 + i, -1, -1):\n",
        "        print(format(2 ** i, \"4d\"), end=' ')\n",
        "    print(\"\")"
      ],
      "execution_count": 24,
      "outputs": [
        {
          "output_type": "stream",
          "text": [
            "   1 \n",
            "   1    2    1 \n",
            "   1    2    4    2    1 \n",
            "   1    2    4    8    4    2    1 \n",
            "   1    2    4    8   16    8    4    2    1 \n",
            "   1    2    4    8   16   32   16    8    4    2    1 \n",
            "   1    2    4    8   16   32   64   32   16    8    4    2    1 \n",
            "   1    2    4    8   16   32   64  128   64   32   16    8    4    2    1 \n"
          ],
          "name": "stdout"
        }
      ]
    },
    {
      "cell_type": "markdown",
      "metadata": {
        "id": "iY1LX1Wx9V77"
      },
      "source": [
        "Number Pattern 10: Display 1 to 10 number in Pattern"
      ]
    },
    {
      "cell_type": "code",
      "metadata": {
        "colab": {
          "base_uri": "https://localhost:8080/"
        },
        "id": "32d0IXp99ZNb",
        "outputId": "35128f5f-68ec-4151-ebb3-6e4ca9e4f392"
      },
      "source": [
        "currentNumber = 1\n",
        "stop = 2\n",
        "rows = 3  # Rows you want in your pattern\n",
        "\n",
        "for i in range(rows):\n",
        "    for column in range(1, stop):\n",
        "        print(currentNumber, end=' ')\n",
        "        currentNumber += 1\n",
        "    print(\"\")\n",
        "    stop += 2"
      ],
      "execution_count": 25,
      "outputs": [
        {
          "output_type": "stream",
          "text": [
            "1 \n",
            "2 3 4 \n",
            "5 6 7 8 9 \n"
          ],
          "name": "stdout"
        }
      ]
    },
    {
      "cell_type": "code",
      "metadata": {
        "colab": {
          "base_uri": "https://localhost:8080/"
        },
        "id": "BaeVb4_a9eRS",
        "outputId": "3cae3c4c-86e7-4907-d78e-96bfd544ac5c"
      },
      "source": [
        "currentNumber = 1\n",
        "rows = 4  # Rows you want in your pattern\n",
        "stop = 2\n",
        "for i in range(rows):\n",
        "    for column in range(1, stop):\n",
        "        print(currentNumber, end=' ')\n",
        "        currentNumber += 1\n",
        "    print(\"\")\n",
        "    stop += 1"
      ],
      "execution_count": 26,
      "outputs": [
        {
          "output_type": "stream",
          "text": [
            "1 \n",
            "2 3 \n",
            "4 5 6 \n",
            "7 8 9 10 \n"
          ],
          "name": "stdout"
        }
      ]
    },
    {
      "cell_type": "markdown",
      "metadata": {
        "id": "sG5ckDuY9rNR"
      },
      "source": [
        "Numbers Pattern 11: Reverse number from 10 to 1"
      ]
    },
    {
      "cell_type": "code",
      "metadata": {
        "colab": {
          "base_uri": "https://localhost:8080/"
        },
        "id": "bTLSQ_Gc9ufs",
        "outputId": "53f9928f-1178-44d3-f786-f46f5cfd1910"
      },
      "source": [
        "start = 1\n",
        "stop = 2\n",
        "currentNumber = stop\n",
        "for row in range(2, 6):\n",
        "    for col in range(start, stop):\n",
        "        currentNumber -= 1\n",
        "        print(currentNumber, end=' ')\n",
        "    print(\"\")\n",
        "    start = stop\n",
        "    stop += row\n",
        "    currentNumber = stop"
      ],
      "execution_count": 27,
      "outputs": [
        {
          "output_type": "stream",
          "text": [
            "1 \n",
            "3 2 \n",
            "6 5 4 \n",
            "10 9 8 7 \n"
          ],
          "name": "stdout"
        }
      ]
    },
    {
      "cell_type": "markdown",
      "metadata": {
        "id": "X9xpgvDI91Rr"
      },
      "source": [
        "Numbers Pattern 12: Even number pattern"
      ]
    },
    {
      "cell_type": "code",
      "metadata": {
        "colab": {
          "base_uri": "https://localhost:8080/"
        },
        "id": "OiPyDgt995I3",
        "outputId": "5ecd0398-84ca-40b6-ed9c-b5b625b6812c"
      },
      "source": [
        "rows = 5\n",
        "LastEvenNumber = 2 * rows\n",
        "evenNumber = LastEvenNumber\n",
        "for i in range(1, rows+1):\n",
        "    evenNumber = LastEvenNumber\n",
        "    for j in range(i):\n",
        "        print(evenNumber, end=' ')\n",
        "        evenNumber -= 2\n",
        "    print(\"\\r\")"
      ],
      "execution_count": 28,
      "outputs": [
        {
          "output_type": "stream",
          "text": [
            "10 \r\n",
            "10 8 \r\n",
            "10 8 6 \r\n",
            "10 8 6 4 \r\n",
            "10 8 6 4 2 \r\n"
          ],
          "name": "stdout"
        }
      ]
    },
    {
      "cell_type": "markdown",
      "metadata": {
        "id": "oGKJH-1y-AvR"
      },
      "source": [
        "Numbers Pattern 13"
      ]
    },
    {
      "cell_type": "code",
      "metadata": {
        "colab": {
          "base_uri": "https://localhost:8080/"
        },
        "id": "KLUZzrFP-Czr",
        "outputId": "23753ef8-faed-43e6-ee98-36c72084852f"
      },
      "source": [
        "rows = 6\n",
        "for i in range(1, rows + 1):\n",
        "    for j in range(1, i - 1):\n",
        "        print(j, end=\" \")\n",
        "    for j in range(i - 1, 0, -1):\n",
        "        print(j, end=\" \")\n",
        "    print()"
      ],
      "execution_count": 30,
      "outputs": [
        {
          "output_type": "stream",
          "text": [
            "\n",
            "1 \n",
            "1 2 1 \n",
            "1 2 3 2 1 \n",
            "1 2 3 4 3 2 1 \n",
            "1 2 3 4 5 4 3 2 1 \n"
          ],
          "name": "stdout"
        }
      ]
    },
    {
      "cell_type": "markdown",
      "metadata": {
        "id": "2YsntAeC-HNi"
      },
      "source": [
        "Numbers Pattern 14: Reverse number pattern"
      ]
    },
    {
      "cell_type": "code",
      "metadata": {
        "colab": {
          "base_uri": "https://localhost:8080/"
        },
        "id": "6z9shyHX-Kjo",
        "outputId": "cb112bb6-9513-4927-d3dc-a1330bd7c5aa"
      },
      "source": [
        "rows = 5\n",
        "for i in range(0, rows + 1):\n",
        "    for j in range(rows - i, 0, -1):\n",
        "        print(j, end=' ')\n",
        "    print()"
      ],
      "execution_count": 31,
      "outputs": [
        {
          "output_type": "stream",
          "text": [
            "5 4 3 2 1 \n",
            "4 3 2 1 \n",
            "3 2 1 \n",
            "2 1 \n",
            "1 \n",
            "\n"
          ],
          "name": "stdout"
        }
      ]
    },
    {
      "cell_type": "markdown",
      "metadata": {
        "id": "l3e33pak-PEY"
      },
      "source": [
        "Numbers Pattern 15"
      ]
    },
    {
      "cell_type": "code",
      "metadata": {
        "colab": {
          "base_uri": "https://localhost:8080/"
        },
        "id": "7T7rNBXF-S24",
        "outputId": "be7a4c87-c684-4825-9818-c70ca8324ae1"
      },
      "source": [
        "rows = 7\n",
        "for i in range(0, rows):\n",
        "    for j in range(0, i + 1):\n",
        "        print(i * j, end='  ')\n",
        "    print()"
      ],
      "execution_count": 32,
      "outputs": [
        {
          "output_type": "stream",
          "text": [
            "0  \n",
            "0  1  \n",
            "0  2  4  \n",
            "0  3  6  9  \n",
            "0  4  8  12  16  \n",
            "0  5  10  15  20  25  \n",
            "0  6  12  18  24  30  36  \n"
          ],
          "name": "stdout"
        }
      ]
    },
    {
      "cell_type": "markdown",
      "metadata": {
        "id": "bqP9boi3-Wtt"
      },
      "source": [
        ""
      ]
    },
    {
      "cell_type": "markdown",
      "metadata": {
        "id": "gUNiu98N-WxH"
      },
      "source": [
        "Numper pattern 16"
      ]
    },
    {
      "cell_type": "code",
      "metadata": {
        "colab": {
          "base_uri": "https://localhost:8080/"
        },
        "id": "bVeVQHCJ-ala",
        "outputId": "490ec3b9-7df4-4fa0-dde9-1f738f0b54a7"
      },
      "source": [
        "rows = 5\n",
        "for i in range(0, rows + 1, 1):\n",
        "    for j in range(i + 1, rows + 1, 1):\n",
        "        print(j, end=' ')\n",
        "    print()"
      ],
      "execution_count": 33,
      "outputs": [
        {
          "output_type": "stream",
          "text": [
            "1 2 3 4 5 \n",
            "2 3 4 5 \n",
            "3 4 5 \n",
            "4 5 \n",
            "5 \n",
            "\n"
          ],
          "name": "stdout"
        }
      ]
    },
    {
      "cell_type": "markdown",
      "metadata": {
        "id": "fQp-x3JY-epn"
      },
      "source": [
        "Number pattern 17: Display men’s pant style pattern with numbers"
      ]
    },
    {
      "cell_type": "code",
      "metadata": {
        "colab": {
          "base_uri": "https://localhost:8080/"
        },
        "id": "gLCk2S3z-j_g",
        "outputId": "a5d7e3cc-9493-45d7-9034-7357dbed2771"
      },
      "source": [
        "rows = 6\n",
        "for i in range(0, rows):\n",
        "    for j in range(rows - 1, i, -1):\n",
        "        print(j, '', end='')\n",
        "    for l in range(i):\n",
        "        print('    ', end='')\n",
        "    for k in range(i + 1, rows):\n",
        "        print(k, '', end='')\n",
        "    print('\\n')"
      ],
      "execution_count": 39,
      "outputs": [
        {
          "output_type": "stream",
          "text": [
            "5 4 3 2 1 1 2 3 4 5 \n",
            "\n",
            "5 4 3 2     2 3 4 5 \n",
            "\n",
            "5 4 3         3 4 5 \n",
            "\n",
            "5 4             4 5 \n",
            "\n",
            "5                 5 \n",
            "\n",
            "                    \n",
            "\n"
          ],
          "name": "stdout"
        }
      ]
    },
    {
      "cell_type": "markdown",
      "metadata": {
        "id": "cVfR2kIJ-7eX"
      },
      "source": [
        "Number pattern 18: Alternate numbers pattern"
      ]
    },
    {
      "cell_type": "code",
      "metadata": {
        "colab": {
          "base_uri": "https://localhost:8080/"
        },
        "id": "3PEsybN4--4-",
        "outputId": "5bd61b90-e60f-4edc-d6cf-cea6cb74b953"
      },
      "source": [
        "rows = 5\n",
        "i = 1\n",
        "while i <= rows:\n",
        "    j = 1\n",
        "    while j <= i:\n",
        "        print((i * 2 - 1), end=\" \")\n",
        "        j = j + 1\n",
        "    i = i + 1\n",
        "    print()"
      ],
      "execution_count": 40,
      "outputs": [
        {
          "output_type": "stream",
          "text": [
            "1 \n",
            "3 3 \n",
            "5 5 5 \n",
            "7 7 7 7 \n",
            "9 9 9 9 9 \n"
          ],
          "name": "stdout"
        }
      ]
    },
    {
      "cell_type": "markdown",
      "metadata": {
        "id": "k7CSP_8K_EiR"
      },
      "source": [
        "Number pattern 19: Square Pattern with numbers"
      ]
    },
    {
      "cell_type": "code",
      "metadata": {
        "colab": {
          "base_uri": "https://localhost:8080/"
        },
        "id": "iuajYynz_Fa7",
        "outputId": "f8f5904f-4950-4c37-c75d-dfa046d63981"
      },
      "source": [
        "rows = 5\n",
        "for i in range(1, rows + 1):\n",
        "    for j in range(1, rows + 1):\n",
        "        if j <= i:\n",
        "            print(i, end=' ')\n",
        "        else:\n",
        "            print(j, end=' ')\n",
        "    print()"
      ],
      "execution_count": 41,
      "outputs": [
        {
          "output_type": "stream",
          "text": [
            "1 2 3 4 5 \n",
            "2 2 3 4 5 \n",
            "3 3 3 4 5 \n",
            "4 4 4 4 5 \n",
            "5 5 5 5 5 \n"
          ],
          "name": "stdout"
        }
      ]
    },
    {
      "cell_type": "markdown",
      "metadata": {
        "id": "yk2cK_p-_N_K"
      },
      "source": [
        "Number pattern 20: Right-angled triangle pattern with numbers"
      ]
    },
    {
      "cell_type": "code",
      "metadata": {
        "colab": {
          "base_uri": "https://localhost:8080/"
        },
        "id": "04FrWs2l_OoK",
        "outputId": "1d67dbe6-5c52-45ff-8700-8d2ef9daecb7"
      },
      "source": [
        "rows = 6\n",
        "for row in range(1, rows):\n",
        "    num = 1\n",
        "    for j in range(rows, 0, -1):\n",
        "        if j > row:\n",
        "            print(\" \", end=' ')\n",
        "        else:\n",
        "            print(num, end=' ')\n",
        "            num += 1\n",
        "    print(\"\")"
      ],
      "execution_count": 42,
      "outputs": [
        {
          "output_type": "stream",
          "text": [
            "          1 \n",
            "        1 2 \n",
            "      1 2 3 \n",
            "    1 2 3 4 \n",
            "  1 2 3 4 5 \n"
          ],
          "name": "stdout"
        }
      ]
    },
    {
      "cell_type": "markdown",
      "metadata": {
        "id": "HBTpKm4S_RRN"
      },
      "source": [
        "Number pattern 21: Pascal’s Triangle Pattern using numbers"
      ]
    },
    {
      "cell_type": "code",
      "metadata": {
        "colab": {
          "base_uri": "https://localhost:8080/"
        },
        "id": "7djuuobb_Udl",
        "outputId": "d4fc57e5-76db-49b2-e826-75551265ac67"
      },
      "source": [
        "def print_pascal_triangle(size):\n",
        "    for i in range(0, size):\n",
        "        for j in range(0, i + 1):\n",
        "            print(decide_number(i, j), end=\" \")\n",
        "        print()\n",
        "\n",
        "def decide_number(n, k):\n",
        "    num = 1\n",
        "    if k > n - k:\n",
        "        k = n - k\n",
        "    for i in range(0, k):\n",
        "        num = num * (n - i)\n",
        "        num = num // (i + 1)\n",
        "    return num\n",
        "\n",
        "rows = 7\n",
        "print_pascal_triangle(rows)"
      ],
      "execution_count": 43,
      "outputs": [
        {
          "output_type": "stream",
          "text": [
            "1 \n",
            "1 1 \n",
            "1 2 1 \n",
            "1 3 3 1 \n",
            "1 4 6 4 1 \n",
            "1 5 10 10 5 1 \n",
            "1 6 15 20 15 6 1 \n"
          ],
          "name": "stdout"
        }
      ]
    }
  ]
}