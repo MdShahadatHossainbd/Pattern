{
  "nbformat": 4,
  "nbformat_minor": 0,
  "metadata": {
    "colab": {
      "name": "Printing Stars '*' in B Shape.ipynb",
      "provenance": [],
      "authorship_tag": "ABX9TyNQMK1W/iJHEYZk73cRFU6a",
      "include_colab_link": true
    },
    "kernelspec": {
      "name": "python3",
      "display_name": "Python 3"
    }
  },
  "cells": [
    {
      "cell_type": "markdown",
      "metadata": {
        "id": "view-in-github",
        "colab_type": "text"
      },
      "source": [
        "<a href=\"https://colab.research.google.com/github/MdShahadatHossainbd/Pattern/blob/master/Printing_Stars_'_'_in_B_Shape.ipynb\" target=\"_parent\"><img src=\"https://colab.research.google.com/assets/colab-badge.svg\" alt=\"Open In Colab\"/></a>"
      ]
    },
    {
      "cell_type": "code",
      "metadata": {
        "id": "EMF8CiweKXJD",
        "colab_type": "code",
        "colab": {
          "base_uri": "https://localhost:8080/",
          "height": 146
        },
        "outputId": "45f5f33f-c6c0-4f5f-cf64-9c2dacb29475"
      },
      "source": [
        "for row in range(7):\n",
        "   for col in range(5):\n",
        "      if (col==0) or (col==4 and (row != 0 and row != 3 and row !=6)) or ((row == 0 or row ==3 or row == 6) and (col>0 and col<4)):\n",
        "         print(\"*\",end=\"\")\n",
        "      else:\n",
        "         print(end=\" \")\n",
        "   print ()"
      ],
      "execution_count": null,
      "outputs": [
        {
          "output_type": "stream",
          "text": [
            "**** \n",
            "*   *\n",
            "*   *\n",
            "**** \n",
            "*   *\n",
            "*   *\n",
            "**** \n"
          ],
          "name": "stdout"
        }
      ]
    },
    {
      "cell_type": "code",
      "metadata": {
        "id": "8vKapWGINrYp",
        "colab_type": "code",
        "colab": {
          "base_uri": "https://localhost:8080/"
        },
        "outputId": "b00b6491-02bf-4383-8686-c8bc89f36120"
      },
      "source": [
        "\n",
        "for row in range(7):\n",
        "   for col in range(5):\n",
        "      if ((row==0 or row==3 or row==6) and (col!=4)) or ((col==0 and row!=0) and (row!=0 or row!=6)):\n",
        "         print(\"*\",end=\"\")\n",
        "      else:\n",
        "         print(end=\" \")\n",
        "   print ()\n"
      ],
      "execution_count": null,
      "outputs": [
        {
          "output_type": "stream",
          "text": [
            "**** \n",
            "*    \n",
            "*    \n",
            "**** \n",
            "*    \n",
            "*    \n",
            "**** \n"
          ],
          "name": "stdout"
        }
      ]
    }
  ]
}