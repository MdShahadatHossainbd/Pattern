{
  "nbformat": 4,
  "nbformat_minor": 0,
  "metadata": {
    "colab": {
      "name": "Printing Stars in V Shape.ipynb",
      "provenance": [],
      "authorship_tag": "ABX9TyOZNUnk/k0TFbe3jzr+RvAM",
      "include_colab_link": true
    },
    "kernelspec": {
      "name": "python3",
      "display_name": "Python 3"
    }
  },
  "cells": [
    {
      "cell_type": "markdown",
      "metadata": {
        "id": "view-in-github",
        "colab_type": "text"
      },
      "source": [
        "<a href=\"https://colab.research.google.com/github/MdShahadatHossainbd/Pattern/blob/master/Printing_Stars_in_V_Shape.ipynb\" target=\"_parent\"><img src=\"https://colab.research.google.com/assets/colab-badge.svg\" alt=\"Open In Colab\"/></a>"
      ]
    },
    {
      "cell_type": "code",
      "metadata": {
        "id": "zKXFlYRFyeWg",
        "outputId": "38c6cbf9-6e22-4f3c-bbb5-2f1e09a6050d",
        "colab": {
          "base_uri": "https://localhost:8080/",
          "height": 90
        }
      },
      "source": [
        "i = 0\n",
        "j = 6\n",
        "\n",
        "for row in range(4):\n",
        "    for col in range(7):\n",
        "        if row == col :\n",
        "            print(\"*\",end=\"\")\n",
        "        elif row == i and col == j:\n",
        "          print(\"*\",end=\"\")\n",
        "          i = i + 1\n",
        "          j = j - 1\n",
        "        else:\n",
        "            print(end=\" \")\n",
        "    print()"
      ],
      "execution_count": 7,
      "outputs": [
        {
          "output_type": "stream",
          "text": [
            "*     *\n",
            " *   * \n",
            "  * *  \n",
            "   *   \n"
          ],
          "name": "stdout"
        }
      ]
    },
    {
      "cell_type": "code",
      "metadata": {
        "id": "iar0Mzx6w8vb",
        "outputId": "322162ce-3729-4935-9afd-dceb99dabf6b",
        "colab": {
          "base_uri": "https://localhost:8080/",
          "height": 90
        }
      },
      "source": [
        "for i in range(4):\n",
        " for j in range(7):\n",
        "  if (i==j) or (i+j==6):\n",
        "   print(\"*\",end=\"\")\n",
        "  else:\n",
        "   print(end=\" \" )\n",
        " print()"
      ],
      "execution_count": 8,
      "outputs": [
        {
          "output_type": "stream",
          "text": [
            "*     *\n",
            " *   * \n",
            "  * *  \n",
            "   *   \n"
          ],
          "name": "stdout"
        }
      ]
    },
    {
      "cell_type": "code",
      "metadata": {
        "id": "TDx7o3cW1Bde",
        "outputId": "d3d42046-ee7b-4355-b242-de87b2346fdd",
        "colab": {
          "base_uri": "https://localhost:8080/",
          "height": 90
        }
      },
      "source": [
        "for row in range(4):\n",
        "    for col in range(7):\n",
        "        if (row == col) or (row+col==6):\n",
        "         print(\"*\",end=\"\")\n",
        "        else:\n",
        "         print(end=\" \" )\n",
        "    print()"
      ],
      "execution_count": 13,
      "outputs": [
        {
          "output_type": "stream",
          "text": [
            "*     *\n",
            " *   * \n",
            "  * *  \n",
            "   *   \n"
          ],
          "name": "stdout"
        }
      ]
    }
  ]
}