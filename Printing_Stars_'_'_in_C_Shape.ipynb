{
  "nbformat": 4,
  "nbformat_minor": 0,
  "metadata": {
    "colab": {
      "name": "Printing Stars '*' in C Shape.ipynb",
      "provenance": [],
      "authorship_tag": "ABX9TyO/JH/D30K9jMl0rqjIoW+7",
      "include_colab_link": true
    },
    "kernelspec": {
      "name": "python3",
      "display_name": "Python 3"
    }
  },
  "cells": [
    {
      "cell_type": "markdown",
      "metadata": {
        "id": "view-in-github",
        "colab_type": "text"
      },
      "source": [
        "<a href=\"https://colab.research.google.com/github/MdShahadatHossainbd/Pattern/blob/master/Printing_Stars_'_'_in_C_Shape.ipynb\" target=\"_parent\"><img src=\"https://colab.research.google.com/assets/colab-badge.svg\" alt=\"Open In Colab\"/></a>"
      ]
    },
    {
      "cell_type": "code",
      "metadata": {
        "id": "Re-qGGeW4LEa",
        "colab_type": "code",
        "colab": {
          "base_uri": "https://localhost:8080/",
          "height": 146
        },
        "outputId": "06019814-9449-4de1-f799-4ab930b9452e"
      },
      "source": [
        "for row in range(7):\n",
        "  for col in range(5):\n",
        "    if (col==0 and (row != 0 and row !=6 )) or ((row == 0 or row == 6) and (col > 0)):\n",
        "      print(\"*\", end=\"\")\n",
        "    else:\n",
        "      print(end=\" \")\n",
        "  print()\n"
      ],
      "execution_count": 1,
      "outputs": [
        {
          "output_type": "stream",
          "text": [
            " ****\n",
            "*    \n",
            "*    \n",
            "*    \n",
            "*    \n",
            "*    \n",
            " ****\n"
          ],
          "name": "stdout"
        }
      ]
    },
    {
      "cell_type": "code",
      "metadata": {
        "id": "TImOC3H67zoX",
        "colab_type": "code",
        "colab": {
          "base_uri": "https://localhost:8080/",
          "height": 146
        },
        "outputId": "098d79c0-aa5b-4dc2-be2b-e8baa73232a3"
      },
      "source": [
        "for row in range(7):\n",
        "  for col in range(7):\n",
        "    if (col==0) or ((row == 0 or row == 6) and (col > 0)):\n",
        "      print(\"*\", end=\"\")\n",
        "    else:\n",
        "      print(end=\" \")\n",
        "  print()\n"
      ],
      "execution_count": 5,
      "outputs": [
        {
          "output_type": "stream",
          "text": [
            "*******\n",
            "*      \n",
            "*      \n",
            "*      \n",
            "*      \n",
            "*      \n",
            "*******\n"
          ],
          "name": "stdout"
        }
      ]
    }
  ]
}