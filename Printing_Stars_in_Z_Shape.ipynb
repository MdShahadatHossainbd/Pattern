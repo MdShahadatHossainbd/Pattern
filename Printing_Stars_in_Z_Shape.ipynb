{
  "nbformat": 4,
  "nbformat_minor": 0,
  "metadata": {
    "colab": {
      "name": "Printing Stars in Z Shape.ipynb",
      "provenance": [],
      "authorship_tag": "ABX9TyMom0Qp1DrlKjdYrA5i5/zq",
      "include_colab_link": true
    },
    "kernelspec": {
      "name": "python3",
      "display_name": "Python 3"
    }
  },
  "cells": [
    {
      "cell_type": "markdown",
      "metadata": {
        "id": "view-in-github",
        "colab_type": "text"
      },
      "source": [
        "<a href=\"https://colab.research.google.com/github/MdShahadatHossainbd/Pattern/blob/master/Printing_Stars_in_Z_Shape.ipynb\" target=\"_parent\"><img src=\"https://colab.research.google.com/assets/colab-badge.svg\" alt=\"Open In Colab\"/></a>"
      ]
    },
    {
      "cell_type": "code",
      "metadata": {
        "id": "zPLb3SPY_Llj",
        "outputId": "1d8e7ef9-7c87-49e8-9b6d-07e1218b6d95",
        "colab": {
          "base_uri": "https://localhost:8080/",
          "height": 127
        }
      },
      "source": [
        "i = 1\n",
        "j = 4\n",
        "for row in range(0, 6):\n",
        "    for col in range(0, 6):\n",
        "        if row == 0 or row == 5:\n",
        "         print(\"*\",end=\"\")\n",
        "        elif row == i and col == j:\n",
        "          print(\"*\",end=\"\")\n",
        "          i = i + 1\n",
        "          j = j - 1\n",
        "        else:\n",
        "         print(end=\" \" )\n",
        "    print()"
      ],
      "execution_count": 2,
      "outputs": [
        {
          "output_type": "stream",
          "text": [
            "******\n",
            "    * \n",
            "   *  \n",
            "  *   \n",
            " *    \n",
            "******\n"
          ],
          "name": "stdout"
        }
      ]
    }
  ]
}