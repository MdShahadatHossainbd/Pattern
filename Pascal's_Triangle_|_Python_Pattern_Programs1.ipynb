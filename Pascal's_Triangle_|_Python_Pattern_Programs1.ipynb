{
  "nbformat": 4,
  "nbformat_minor": 0,
  "metadata": {
    "colab": {
      "name": "Pascal's Triangle | Python Pattern Programs1.ipynb",
      "provenance": [],
      "authorship_tag": "ABX9TyP/gNj8ln6GJ1ozBqEWqaNe",
      "include_colab_link": true
    },
    "kernelspec": {
      "name": "python3",
      "display_name": "Python 3"
    }
  },
  "cells": [
    {
      "cell_type": "markdown",
      "metadata": {
        "id": "view-in-github",
        "colab_type": "text"
      },
      "source": [
        "<a href=\"https://colab.research.google.com/github/MdShahadatHossainbd/Pattern/blob/master/Pascal's_Triangle_%7C_Python_Pattern_Programs1.ipynb\" target=\"_parent\"><img src=\"https://colab.research.google.com/assets/colab-badge.svg\" alt=\"Open In Colab\"/></a>"
      ]
    },
    {
      "cell_type": "code",
      "metadata": {
        "colab": {
          "base_uri": "https://localhost:8080/"
        },
        "id": "5LqaGG8zdtFL",
        "outputId": "55b75a69-6c4b-4051-8907-d2c5d5a03f1a"
      },
      "source": [
        "n = int(input(\"Enter The Rows: \"))\n",
        "list1 = []\n",
        "for i in range(n):\n",
        "  temp_list = []\n",
        "  for j in range(i+1):\n",
        "    if j == 0 or j == i:\n",
        "      temp_list.append(1)\n",
        "    else:\n",
        "      temp_list.append(list1[i-1][j-1] + list1[i-1][j])\n",
        "  list1.append(temp_list)\n",
        "#print(list1)\n",
        "\n",
        "for i in range(n):\n",
        "  for j in range(n-i-1):\n",
        "    print(format(\" \",\"<2\"),end=\"\")\n",
        "  for j in range(i+1):\n",
        "    print(format(list1[i][j],\"<3\"),end=\" \")\n",
        "  print()"
      ],
      "execution_count": 5,
      "outputs": [
        {
          "output_type": "stream",
          "text": [
            "Enter The Rows: 6\n",
            "          1   \n",
            "        1   1   \n",
            "      1   2   1   \n",
            "    1   3   3   1   \n",
            "  1   4   6   4   1   \n",
            "1   5   10  10  5   1   \n"
          ],
          "name": "stdout"
        }
      ]
    }
  ]
}