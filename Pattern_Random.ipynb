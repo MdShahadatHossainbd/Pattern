{
  "nbformat": 4,
  "nbformat_minor": 0,
  "metadata": {
    "colab": {
      "name": "Pattern Random.ipynb",
      "provenance": [],
      "authorship_tag": "ABX9TyM1SizgAS93L1rxBnQiGvhs",
      "include_colab_link": true
    },
    "kernelspec": {
      "name": "python3",
      "display_name": "Python 3"
    }
  },
  "cells": [
    {
      "cell_type": "markdown",
      "metadata": {
        "id": "view-in-github",
        "colab_type": "text"
      },
      "source": [
        "<a href=\"https://colab.research.google.com/github/MdShahadatHossainbd/Pattern/blob/master/Pattern_Random.ipynb\" target=\"_parent\"><img src=\"https://colab.research.google.com/assets/colab-badge.svg\" alt=\"Open In Colab\"/></a>"
      ]
    },
    {
      "cell_type": "markdown",
      "metadata": {
        "id": "GIHlRHixI3vO"
      },
      "source": [
        "#Star Pattern Programs"
      ]
    },
    {
      "cell_type": "code",
      "metadata": {
        "colab": {
          "base_uri": "https://localhost:8080/"
        },
        "id": "8cwFuc3zE9AZ",
        "outputId": "706a144a-d59b-4d0a-d79b-31fc124f83b5"
      },
      "source": [
        "#Pyramid Pattern Program\n",
        "def pattern(n):\n",
        "      k = 2 * n - 2\n",
        "      for i in range(0,n):\n",
        "           for j in range(0,k):\n",
        "               print(end=\" \")\n",
        "           k = k - 1\n",
        "           for j in range(0, i+1):\n",
        "                print(\"*\", end=\" \")\n",
        "           print(\"\\r\")\n",
        "pattern(5)"
      ],
      "execution_count": 1,
      "outputs": [
        {
          "output_type": "stream",
          "text": [
            "        * \r\n",
            "       * * \r\n",
            "      * * * \r\n",
            "     * * * * \r\n",
            "    * * * * * \r\n"
          ],
          "name": "stdout"
        }
      ]
    },
    {
      "cell_type": "code",
      "metadata": {
        "colab": {
          "base_uri": "https://localhost:8080/"
        },
        "id": "HLjiH_M-FH9W",
        "outputId": "599e44a7-1ef1-48fa-ae10-53604d0a101f"
      },
      "source": [
        "#Reverse Pyramid Pattern Program\n",
        "def pattern(n):\n",
        "      k = 2*n -2\n",
        "      for i in range(n,-1,-1):\n",
        "           for j in range(k,0,-1):\n",
        "                print(end=\" \")\n",
        "           k = k +1\n",
        "           for j in range(0, i+1):\n",
        "                print(\"*\", end=\" \")\n",
        "           print(\"\\r\")\n",
        "pattern(5)"
      ],
      "execution_count": 2,
      "outputs": [
        {
          "output_type": "stream",
          "text": [
            "        * * * * * * \r\n",
            "         * * * * * \r\n",
            "          * * * * \r\n",
            "           * * * \r\n",
            "            * * \r\n",
            "             * \r\n"
          ],
          "name": "stdout"
        }
      ]
    },
    {
      "cell_type": "code",
      "metadata": {
        "colab": {
          "base_uri": "https://localhost:8080/"
        },
        "id": "nUivPyAyFQFD",
        "outputId": "c17412a6-cd59-4ac8-eb07-e3adb23ef6d6"
      },
      "source": [
        "#Right Start Pattern Program\n",
        "def pattern(n):\n",
        "      for i in range(0, n):\n",
        "           for j in range(0, i + 1):\n",
        "                print(\"* \", end=\"\")\n",
        "           print(\"\\r\")\n",
        "      for i in range(n, 0 , -1):\n",
        "          for j in range(0, i + 1):\n",
        "               print(\"* \", end=\"\")\n",
        "          print(\"\\r\")\n",
        " \n",
        "pattern(5)"
      ],
      "execution_count": 3,
      "outputs": [
        {
          "output_type": "stream",
          "text": [
            "* \r\n",
            "* * \r\n",
            "* * * \r\n",
            "* * * * \r\n",
            "* * * * * \r\n",
            "* * * * * * \r\n",
            "* * * * * \r\n",
            "* * * * \r\n",
            "* * * \r\n",
            "* * \r\n"
          ],
          "name": "stdout"
        }
      ]
    },
    {
      "cell_type": "code",
      "metadata": {
        "colab": {
          "base_uri": "https://localhost:8080/"
        },
        "id": "eQLQLlzbFWlG",
        "outputId": "b605e012-c566-419e-be4e-e5598a7121d4"
      },
      "source": [
        "#Left Start Pattern Program\n",
        "def pattern(n):\n",
        "    k = 2 * n - 2\n",
        "    for i in range(0, n-1):\n",
        "        for j in range(0, k):\n",
        "            print(end=\" \")\n",
        "        k = k - 2\n",
        "        for j in range(0, i + 1):\n",
        "            print(\"* \", end=\"\")\n",
        "        print(\"\\r\")\n",
        "    k = -1\n",
        "    for i in range(n-1,-1,-1):\n",
        "        for j in range(k,-1,-1):\n",
        "            print(end=\" \")\n",
        "        k = k + 2\n",
        "        for j in range(0, i + 1):\n",
        "            print(\"* \", end=\"\")\n",
        "        print(\"\\r\")\n",
        " \n",
        " \n",
        "pattern(5)"
      ],
      "execution_count": 4,
      "outputs": [
        {
          "output_type": "stream",
          "text": [
            "        * \r\n",
            "      * * \r\n",
            "    * * * \r\n",
            "  * * * * \r\n",
            "* * * * * \r\n",
            "  * * * * \r\n",
            "    * * * \r\n",
            "      * * \r\n",
            "        * \r\n"
          ],
          "name": "stdout"
        }
      ]
    },
    {
      "cell_type": "code",
      "metadata": {
        "colab": {
          "base_uri": "https://localhost:8080/",
          "height": 139
        },
        "id": "SVTjzgP_Fi89",
        "outputId": "9188cadd-328e-4377-a4cb-7ffed825aec4"
      },
      "source": [
        "#Hourglass Pattern Program\n",
        "def pattern(n):\n",
        "     k = n - 2\n",
        "     for i in range(n, -1 , -1):\n",
        "          for j in range(k , 0 , -1):\n",
        "               print(end=\" \")\n",
        "          k = k + 1    \n",
        "          for j in range(0, i+1):\n",
        "               print(\"* \" , end=\"\")\n",
        "          print(\"\\r\")\n",
        "          k = 2 * n  - 2\n",
        "          for i in range(0 , n+1):\n",
        "\n",
        "            for j in range(0 , k):\n",
        "               print(end=\"\")\n",
        "          k = k - 1\n",
        "          for j in range(0, i + 1):\n",
        "                 print(\"* \", end=\"\")\n",
        "        print(\"\\r\")\n",
        " \n",
        "pattern(5)"
      ],
      "execution_count": 26,
      "outputs": [
        {
          "output_type": "error",
          "ename": "IndentationError",
          "evalue": "ignored",
          "traceback": [
            "\u001b[0;36m  File \u001b[0;32m\"<ipython-input-26-8e7b59d711c2>\"\u001b[0;36m, line \u001b[0;32m18\u001b[0m\n\u001b[0;31m    print(\"\\r\")\u001b[0m\n\u001b[0m               ^\u001b[0m\n\u001b[0;31mIndentationError\u001b[0m\u001b[0;31m:\u001b[0m unindent does not match any outer indentation level\n"
          ]
        }
      ]
    },
    {
      "cell_type": "code",
      "metadata": {
        "colab": {
          "base_uri": "https://localhost:8080/"
        },
        "id": "kCySttOtG520",
        "outputId": "47f501eb-03fb-48d2-e63a-01cd4ab7db5d"
      },
      "source": [
        "#Half-Pyramid Pattern Program\n",
        "def pattern(n):\n",
        "     for i in range(0,n):\n",
        "         for j in range(0, i+1):\n",
        "              print(\"* \" , end=\"\")\n",
        "         print(\"\\r\")\n",
        " \n",
        "pattern(5)"
      ],
      "execution_count": 27,
      "outputs": [
        {
          "output_type": "stream",
          "text": [
            "* \r\n",
            "* * \r\n",
            "* * * \r\n",
            "* * * * \r\n",
            "* * * * * \r\n"
          ],
          "name": "stdout"
        }
      ]
    },
    {
      "cell_type": "code",
      "metadata": {
        "colab": {
          "base_uri": "https://localhost:8080/"
        },
        "id": "xI6irNPHHACm",
        "outputId": "c2a7794f-d4e8-4aa9-ea2d-d956850c7a70"
      },
      "source": [
        "#Left Half-Pyramid Pattern Program\n",
        "def pattern(n):\n",
        "     k = 2 * n - 2\n",
        "     for i in range(0, n):\n",
        "          for j in range(0, k):\n",
        "               print(end=\" \")\n",
        "          k = k - 2\n",
        "          for j in range(0, i + 1):\n",
        "              print(\"* \", end=\"\")\n",
        "          print(\"\\r\")\n",
        "  \n",
        "pattern(5)"
      ],
      "execution_count": 28,
      "outputs": [
        {
          "output_type": "stream",
          "text": [
            "        * \r\n",
            "      * * \r\n",
            "    * * * \r\n",
            "  * * * * \r\n",
            "* * * * * \r\n"
          ],
          "name": "stdout"
        }
      ]
    },
    {
      "cell_type": "code",
      "metadata": {
        "colab": {
          "base_uri": "https://localhost:8080/"
        },
        "id": "7ONGqi0EHGAX",
        "outputId": "7281be8b-5552-4241-fba7-391e3442db98"
      },
      "source": [
        "#Downward Half-Pyramid Pattern Program\n",
        "def pattern(n):\n",
        "      for i in range(n, -1, -1):\n",
        "           for j in range(0, i + 1):\n",
        "               print(\"* \", end=\"\")\n",
        "           print(\"\\r\")\n",
        " \n",
        "pattern(5)"
      ],
      "execution_count": 29,
      "outputs": [
        {
          "output_type": "stream",
          "text": [
            "* * * * * * \r\n",
            "* * * * * \r\n",
            "* * * * \r\n",
            "* * * \r\n",
            "* * \r\n",
            "* \r\n"
          ],
          "name": "stdout"
        }
      ]
    },
    {
      "cell_type": "code",
      "metadata": {
        "colab": {
          "base_uri": "https://localhost:8080/",
          "height": 139
        },
        "id": "bLNGUJsDHMSU",
        "outputId": "d7d3b506-35a7-45a0-9c93-563189c19406"
      },
      "source": [
        "#Diamond Shaped Pattern Program\n",
        "def pattern(n):\n",
        "     k = 2 * n - 2\n",
        "     for i in range(0, n):\n",
        "          for j in range(0 , k):\n",
        "               print(end=\" \")\n",
        "          k = k - 1\n",
        "          for j in range(0 , i + 1 ):\n",
        "               print(\"* \", end=\"\")\n",
        "          print(\"\\r\")\n",
        "     k = n - 2\n",
        "     for i in range(n , -1, -1):\n",
        "          for j in range(k , 0 , -1): \n",
        "               print(end=\" \")\n",
        "           k = k + 1\n",
        "           for j in range(0 , i + 1):\n",
        "                print(\"* \", end=\"\")\n",
        "           print(\"\\r\")\n",
        " \n",
        "pattern(5)"
      ],
      "execution_count": 30,
      "outputs": [
        {
          "output_type": "error",
          "ename": "IndentationError",
          "evalue": "ignored",
          "traceback": [
            "\u001b[0;36m  File \u001b[0;32m\"<ipython-input-30-34c74ad3d5fd>\"\u001b[0;36m, line \u001b[0;32m15\u001b[0m\n\u001b[0;31m    k = k + 1\u001b[0m\n\u001b[0m             ^\u001b[0m\n\u001b[0;31mIndentationError\u001b[0m\u001b[0;31m:\u001b[0m unindent does not match any outer indentation level\n"
          ]
        }
      ]
    },
    {
      "cell_type": "code",
      "metadata": {
        "colab": {
          "base_uri": "https://localhost:8080/"
        },
        "id": "yGLzuGBVHTyd",
        "outputId": "5b32849d-ca48-4a8b-eb86-982106dc8ae2"
      },
      "source": [
        "#Diamond Star Pattern Program\n",
        "for i in range(5):\n",
        "    for j in range(5):\n",
        "        if i + j == 2 or i - j == 2 or i + j == 6 or j - i == 2:\n",
        "            print(\"*\", end=\"\")\n",
        "        else:\n",
        "            print(end=\" \")\n",
        "    print()"
      ],
      "execution_count": 31,
      "outputs": [
        {
          "output_type": "stream",
          "text": [
            "  *  \n",
            " * * \n",
            "*   *\n",
            " * * \n",
            "  *  \n"
          ],
          "name": "stdout"
        }
      ]
    },
    {
      "cell_type": "markdown",
      "metadata": {
        "id": "c29zqlIlI_jq"
      },
      "source": [
        "#Number Pattern Programs"
      ]
    },
    {
      "cell_type": "code",
      "metadata": {
        "colab": {
          "base_uri": "https://localhost:8080/"
        },
        "id": "Fkr3Fhi_He1A",
        "outputId": "f3050a58-1eea-4de3-98b9-8c584261631f"
      },
      "source": [
        "#Simple Numbers Program\n",
        "def pattern(n):\n",
        "    x = 0\n",
        "    for i in range(0 , n):\n",
        "        x += 1 \n",
        "        for j in range(0, i + 1):\n",
        "            print(x , end=\" \") \n",
        "        print(\"\\r\") \n",
        "pattern(5)"
      ],
      "execution_count": 32,
      "outputs": [
        {
          "output_type": "stream",
          "text": [
            "1 \r\n",
            "2 2 \r\n",
            "3 3 3 \r\n",
            "4 4 4 4 \r\n",
            "5 5 5 5 5 \r\n"
          ],
          "name": "stdout"
        }
      ]
    },
    {
      "cell_type": "code",
      "metadata": {
        "colab": {
          "base_uri": "https://localhost:8080/"
        },
        "id": "CUSOB3PJHjNw",
        "outputId": "fd263ac5-3f1c-4d5b-f0b7-6e2b5694f399"
      },
      "source": [
        "#Pascal’s Triangle Program\n",
        "def pascal(n):\n",
        "    for i in range(0, n):\n",
        "        for j in range(0, i + 1):\n",
        "            print(function(i, j),\" \", end=\"\")\n",
        "        print()\n",
        " \n",
        "def function(n, k):\n",
        "    res = 1\n",
        "    if (k > n - k):\n",
        "        k = n - k\n",
        "    for i in range(0, k):\n",
        "        res = res * (n - i)\n",
        "        res = res // (i + 1)\n",
        " \n",
        "    return res\n",
        " \n",
        "pascal(7)"
      ],
      "execution_count": 33,
      "outputs": [
        {
          "output_type": "stream",
          "text": [
            "1  \n",
            "1  1  \n",
            "1  2  1  \n",
            "1  3  3  1  \n",
            "1  4  6  4  1  \n",
            "1  5  10  10  5  1  \n",
            "1  6  15  20  15  6  1  \n"
          ],
          "name": "stdout"
        }
      ]
    },
    {
      "cell_type": "code",
      "metadata": {
        "colab": {
          "base_uri": "https://localhost:8080/"
        },
        "id": "rspE49GnHp5H",
        "outputId": "3020a7f2-ad7c-4f93-e125-0a11e2930f1c"
      },
      "source": [
        "#Half-Pyramid Pattern With Numbers\n",
        "def pattern(n):\n",
        "     for i in range(1, n):\n",
        "         for j in range(1, i + 1):\n",
        "             print(j, end= \" \")\n",
        "         print(\"\\r\")\n",
        "pattern(5)"
      ],
      "execution_count": 34,
      "outputs": [
        {
          "output_type": "stream",
          "text": [
            "1 \r\n",
            "1 2 \r\n",
            "1 2 3 \r\n",
            "1 2 3 4 \r\n"
          ],
          "name": "stdout"
        }
      ]
    },
    {
      "cell_type": "code",
      "metadata": {
        "colab": {
          "base_uri": "https://localhost:8080/"
        },
        "id": "cwz_MbYkHzj7",
        "outputId": "ffa3beb5-0891-43c6-fa76-1db7646b5706"
      },
      "source": [
        "#Diamond Pattern With Numbers\n",
        "def pattern(n):\n",
        "    k = 2 * n - 2\n",
        "    x = 0\n",
        "    for i in range(0, n):\n",
        "        x += 1\n",
        "        for j in range(0, k):\n",
        "            print(end=\" \")\n",
        "        k = k - 1\n",
        "        for j in range(0, i + 1):\n",
        "            print(x, end=\" \")\n",
        "        print(\"\\r\")\n",
        "    k = n - 2\n",
        "    x = n + 2\n",
        "    for i in range(n, -1, -1):\n",
        "        x -= 1\n",
        "        for j in range(k, 0, -1):\n",
        "            print(end=\" \")\n",
        "        k = k + 1\n",
        "        for j in range(0, i + 1):\n",
        "            print(x, end=\" \")\n",
        "        print(\"\\r\")\n",
        " \n",
        "pattern(5)"
      ],
      "execution_count": 35,
      "outputs": [
        {
          "output_type": "stream",
          "text": [
            "        1 \r\n",
            "       2 2 \r\n",
            "      3 3 3 \r\n",
            "     4 4 4 4 \r\n",
            "    5 5 5 5 5 \r\n",
            "   6 6 6 6 6 6 \r\n",
            "    5 5 5 5 5 \r\n",
            "     4 4 4 4 \r\n",
            "      3 3 3 \r\n",
            "       2 2 \r\n",
            "        1 \r\n"
          ],
          "name": "stdout"
        }
      ]
    },
    {
      "cell_type": "code",
      "metadata": {
        "colab": {
          "base_uri": "https://localhost:8080/"
        },
        "id": "WEmcCGFwH8yL",
        "outputId": "d654c4d1-fe0f-4d50-ea15-bdd04a21ca69"
      },
      "source": [
        "#Descending Order Pattern Program\n",
        "def pattern(n):\n",
        "    for i in range(n, 0, -1):\n",
        "        for j in range(1, i + 1):\n",
        "            print(j, end=\" \")\n",
        " \n",
        "        print(\"\\r\")\n",
        " \n",
        "pattern(5)"
      ],
      "execution_count": 36,
      "outputs": [
        {
          "output_type": "stream",
          "text": [
            "1 2 3 4 5 \r\n",
            "1 2 3 4 \r\n",
            "1 2 3 \r\n",
            "1 2 \r\n",
            "1 \r\n"
          ],
          "name": "stdout"
        }
      ]
    },
    {
      "cell_type": "code",
      "metadata": {
        "colab": {
          "base_uri": "https://localhost:8080/"
        },
        "id": "WpCYQ8DpIB2k",
        "outputId": "c8b4c748-4ed9-4dbb-9022-0199e1908abf"
      },
      "source": [
        "#Binary Numbers Pattern Program\n",
        "def pattern(n):\n",
        "    k = 2 * n - 2\n",
        "    for i in range(0, n):\n",
        "        for j in range(0, k):\n",
        "            print(end=\" \")\n",
        "        k = k - 1\n",
        "        for j in range(0, i + 1):\n",
        "            print('10', end=\"\")\n",
        " \n",
        "        print(\"\\r\")\n",
        " \n",
        "pattern(5)"
      ],
      "execution_count": 37,
      "outputs": [
        {
          "output_type": "stream",
          "text": [
            "        10\r\n",
            "       1010\r\n",
            "      101010\r\n",
            "     10101010\r\n",
            "    1010101010\r\n"
          ],
          "name": "stdout"
        }
      ]
    },
    {
      "cell_type": "markdown",
      "metadata": {
        "id": "CbqNiC-yILv_"
      },
      "source": [
        "#Characters Pattern Programs"
      ]
    },
    {
      "cell_type": "code",
      "metadata": {
        "colab": {
          "base_uri": "https://localhost:8080/"
        },
        "id": "i5B97qduIMqi",
        "outputId": "6cd57f76-3167-48c1-f757-1af278b771c9"
      },
      "source": [
        "#Right Alphabetical Triangle\n",
        "def pattern(n):\n",
        "    x = 65\n",
        "    for i in range(0, n):\n",
        "        ch = chr(x)\n",
        "        x += 1\n",
        "        for j in range(0, i + 1):\n",
        "            print(ch, end=\" \")\n",
        "        print(\"\\r\")\n",
        " \n",
        "pattern(5)"
      ],
      "execution_count": 38,
      "outputs": [
        {
          "output_type": "stream",
          "text": [
            "A \r\n",
            "B B \r\n",
            "C C C \r\n",
            "D D D D \r\n",
            "E E E E E \r\n"
          ],
          "name": "stdout"
        }
      ]
    },
    {
      "cell_type": "code",
      "metadata": {
        "colab": {
          "base_uri": "https://localhost:8080/"
        },
        "id": "yAoUC5sSIJBr",
        "outputId": "ddebe020-60bc-48d6-c007-e0224d649591"
      },
      "source": [
        "#Character Pattern Program\n",
        "def pattern(n):\n",
        "    k = 2 * n - 2\n",
        "    x = 65\n",
        "    for i in range(0, n):\n",
        "        for j in range(0, k):\n",
        "            print(end=\" \")\n",
        "        k = k - 1\n",
        "        for j in range(0, i + 1):\n",
        "            ch = chr(x)\n",
        "            print(ch, end=\" \")\n",
        "            x += 1\n",
        "        print(\"\\r\")\n",
        " \n",
        " \n",
        "pattern(7)"
      ],
      "execution_count": 39,
      "outputs": [
        {
          "output_type": "stream",
          "text": [
            "            A \r\n",
            "           B C \r\n",
            "          D E F \r\n",
            "         G H I J \r\n",
            "        K L M N O \r\n",
            "       P Q R S T U \r\n",
            "      V W X Y Z [ \\ \r\n"
          ],
          "name": "stdout"
        }
      ]
    },
    {
      "cell_type": "code",
      "metadata": {
        "colab": {
          "base_uri": "https://localhost:8080/"
        },
        "id": "rONnEu6cIbeU",
        "outputId": "9200792b-3e45-4955-9b09-f101c494dd19"
      },
      "source": [
        "#K Shape Character Program\n",
        "for i in range(7):\n",
        "    for j in range(7):\n",
        "        if j == 0 or i - j == 3 or i + j == 3:\n",
        "            print(\"*\", end=\"\")\n",
        "        else:\n",
        "            print(end=\" \")\n",
        "    print()"
      ],
      "execution_count": 40,
      "outputs": [
        {
          "output_type": "stream",
          "text": [
            "*  *   \n",
            "* *    \n",
            "**     \n",
            "*      \n",
            "**     \n",
            "* *    \n",
            "*  *   \n"
          ],
          "name": "stdout"
        }
      ]
    },
    {
      "cell_type": "code",
      "metadata": {
        "colab": {
          "base_uri": "https://localhost:8080/"
        },
        "id": "7E8B_wBhIjEZ",
        "outputId": "a371642e-347a-4761-fa6b-a801f34c3b84"
      },
      "source": [
        "#Triangle Character Pattern Program\n",
        "def pattern(n):\n",
        "    k = 2 * n - 2\n",
        "    x = 65\n",
        "    for i in range(0, n):\n",
        "        ch = chr(x)\n",
        "        x += 1\n",
        "        for j in range(0, k):\n",
        "            print(end=\" \")\n",
        "        k = k - 1\n",
        "        for j in range(0, i + 1):\n",
        "            print(ch, end=\" \")\n",
        "        print(\"\\r\")\n",
        " \n",
        " \n",
        "pattern(5)"
      ],
      "execution_count": 41,
      "outputs": [
        {
          "output_type": "stream",
          "text": [
            "        A \r\n",
            "       B B \r\n",
            "      C C C \r\n",
            "     D D D D \r\n",
            "    E E E E E \r\n"
          ],
          "name": "stdout"
        }
      ]
    },
    {
      "cell_type": "code",
      "metadata": {
        "colab": {
          "base_uri": "https://localhost:8080/"
        },
        "id": "E4NNU5aOIrf_",
        "outputId": "a2d33af2-3b70-4f03-ba54-35509cf67337"
      },
      "source": [
        "#Diamond Shaped Character Pattern Program\n",
        "def pattern(n):\n",
        "    k = 2 * n - 2\n",
        "    for i in range(0, n):\n",
        "        for j in range(0, k):\n",
        "            print(end=\" \")\n",
        "        k = k - 1\n",
        "        x = 65\n",
        "        for j in range(0, i + 1):\n",
        "            ch = chr(x)\n",
        "            print(ch, end=\" \")\n",
        "            x += 1\n",
        "        print(\"\\r\")\n",
        "    k = n - 2\n",
        "    x = 65\n",
        "    for i in range(n, -1, -1):\n",
        "        for j in range(k, 0, -1):\n",
        "            print(end=\" \")\n",
        "        k = k + 1\n",
        "        for j in range(0, i + 1):\n",
        "            ch = chr(x)\n",
        "            print(ch, end=\" \")\n",
        "            x += 1\n",
        "        print(\"\\r\")\n",
        " \n",
        " \n",
        "pattern(5)"
      ],
      "execution_count": 42,
      "outputs": [
        {
          "output_type": "stream",
          "text": [
            "        A \r\n",
            "       A B \r\n",
            "      A B C \r\n",
            "     A B C D \r\n",
            "    A B C D E \r\n",
            "   A B C D E F \r\n",
            "    G H I J K \r\n",
            "     L M N O \r\n",
            "      P Q R \r\n",
            "       S T \r\n",
            "        U \r\n"
          ],
          "name": "stdout"
        }
      ]
    },
    {
      "cell_type": "code",
      "metadata": {
        "id": "W_Wf9UumIx8Z"
      },
      "source": [
        ""
      ],
      "execution_count": null,
      "outputs": []
    }
  ]
}