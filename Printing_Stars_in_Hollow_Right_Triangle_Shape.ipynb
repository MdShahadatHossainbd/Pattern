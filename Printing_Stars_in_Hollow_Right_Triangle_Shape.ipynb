{
  "nbformat": 4,
  "nbformat_minor": 0,
  "metadata": {
    "colab": {
      "name": "Printing Stars in Hollow Right Triangle Shape.ipynb",
      "provenance": [],
      "authorship_tag": "ABX9TyM3DemQJwn7hbfS0lypffzU",
      "include_colab_link": true
    },
    "kernelspec": {
      "name": "python3",
      "display_name": "Python 3"
    }
  },
  "cells": [
    {
      "cell_type": "markdown",
      "metadata": {
        "id": "view-in-github",
        "colab_type": "text"
      },
      "source": [
        "<a href=\"https://colab.research.google.com/github/MdShahadatHossainbd/Pattern/blob/master/Printing_Stars_in_Hollow_Right_Triangle_Shape.ipynb\" target=\"_parent\"><img src=\"https://colab.research.google.com/assets/colab-badge.svg\" alt=\"Open In Colab\"/></a>"
      ]
    },
    {
      "cell_type": "code",
      "metadata": {
        "id": "GviUcKrA9D7m",
        "outputId": "8b2afea7-b193-47bc-aa35-e53b4908d435",
        "colab": {
          "base_uri": "https://localhost:8080/",
          "height": 164
        }
      },
      "source": [
        "n = int (input(\"Enter the Number of rows: \"))\n",
        "for row in range(0, n):\n",
        "    for col in range(0, n):\n",
        "        if row == 0 or col ==(n - 1) or row == col:\n",
        "         print(\"*\",end=\"\")\n",
        "        else:\n",
        "         print(end=\" \" )\n",
        "    print()"
      ],
      "execution_count": 1,
      "outputs": [
        {
          "output_type": "stream",
          "text": [
            "Enter the Number of rows: 7\n",
            "*******\n",
            " *    *\n",
            "  *   *\n",
            "   *  *\n",
            "    * *\n",
            "     **\n",
            "      *\n"
          ],
          "name": "stdout"
        }
      ]
    }
  ]
}