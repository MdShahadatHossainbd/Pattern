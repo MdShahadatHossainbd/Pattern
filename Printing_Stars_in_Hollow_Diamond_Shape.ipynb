{
  "nbformat": 4,
  "nbformat_minor": 0,
  "metadata": {
    "colab": {
      "name": "Printing Stars in Hollow Diamond Shape.ipynb",
      "provenance": [],
      "authorship_tag": "ABX9TyMGtKQQwoSUagcQil5bICbZ",
      "include_colab_link": true
    },
    "kernelspec": {
      "name": "python3",
      "display_name": "Python 3"
    }
  },
  "cells": [
    {
      "cell_type": "markdown",
      "metadata": {
        "id": "view-in-github",
        "colab_type": "text"
      },
      "source": [
        "<a href=\"https://colab.research.google.com/github/MdShahadatHossainbd/Pattern/blob/master/Printing_Stars_in_Hollow_Diamond_Shape.ipynb\" target=\"_parent\"><img src=\"https://colab.research.google.com/assets/colab-badge.svg\" alt=\"Open In Colab\"/></a>"
      ]
    },
    {
      "cell_type": "code",
      "metadata": {
        "id": "8grCC1sAEQBv",
        "outputId": "5191f51b-0b49-4fef-9570-ad96ff71b75c",
        "colab": {
          "base_uri": "https://localhost:8080/",
          "height": 113
        }
      },
      "source": [
        "for row in range(5):\n",
        "  for col in range(5):\n",
        "    if row + col == 2 or col - row == 2 or row - col == 2 or row + col == 6:\n",
        "      print(\"*\",end=\"\")\n",
        "    else:\n",
        "      print(end=\" \")\n",
        "  print()\n"
      ],
      "execution_count": 2,
      "outputs": [
        {
          "output_type": "stream",
          "text": [
            "  *  \n",
            " * * \n",
            "*   *\n",
            " * * \n",
            "  *  \n"
          ],
          "name": "stdout"
        }
      ]
    }
  ]
}