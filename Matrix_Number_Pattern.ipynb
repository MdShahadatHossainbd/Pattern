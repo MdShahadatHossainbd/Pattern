{
  "nbformat": 4,
  "nbformat_minor": 0,
  "metadata": {
    "colab": {
      "name": "Matrix Number Pattern.ipynb",
      "provenance": [],
      "authorship_tag": "ABX9TyNVrufqopi/mtCKMugRHZHB",
      "include_colab_link": true
    },
    "kernelspec": {
      "name": "python3",
      "display_name": "Python 3"
    }
  },
  "cells": [
    {
      "cell_type": "markdown",
      "metadata": {
        "id": "view-in-github",
        "colab_type": "text"
      },
      "source": [
        "<a href=\"https://colab.research.google.com/github/MdShahadatHossainbd/Pattern/blob/master/Matrix_Number_Pattern.ipynb\" target=\"_parent\"><img src=\"https://colab.research.google.com/assets/colab-badge.svg\" alt=\"Open In Colab\"/></a>"
      ]
    },
    {
      "cell_type": "code",
      "metadata": {
        "colab": {
          "base_uri": "https://localhost:8080/"
        },
        "id": "OzlNLOqh15BX",
        "outputId": "eabc5759-c10c-4bf4-b1be-8d378fdf55c2"
      },
      "source": [
        "N = int(input(\"Enter the row: \"))\n",
        "k = (2*N)-1\n",
        "low = 0\n",
        "high = k - 1\n",
        "value = N \n",
        "matrix = [[0 for i in range(k)] for j in range(k)]\n",
        "#print(matrix) \n",
        "for i in range(N):\n",
        "  for j in range(low,high+1):\n",
        "    matrix [i][j] = value\n",
        "  for j in range(low+1,high+1):\n",
        "    matrix [j][i] = value\n",
        "  for j in range(low+1,high+1):\n",
        "    matrix [high][j] = value\n",
        "  for j in range(low+1,high):\n",
        "    matrix [j][high] = value\n",
        "  \n",
        "  low = low + 1\n",
        "  high = high - 1\n",
        "  value = value - 1\n",
        "for i in range(k):\n",
        "  for j in range(k):\n",
        "    print(matrix[i][j],end=\" \")\n",
        "  print()"
      ],
      "execution_count": 9,
      "outputs": [
        {
          "output_type": "stream",
          "text": [
            "Enter the row: 5\n",
            "5 5 5 5 5 5 5 5 5 \n",
            "5 4 4 4 4 4 4 4 5 \n",
            "5 4 3 3 3 3 3 4 5 \n",
            "5 4 3 2 2 2 3 4 5 \n",
            "5 4 3 2 1 2 3 4 5 \n",
            "5 4 3 2 2 2 3 4 5 \n",
            "5 4 3 3 3 3 3 4 5 \n",
            "5 4 4 4 4 4 4 4 5 \n",
            "5 5 5 5 5 5 5 5 5 \n"
          ],
          "name": "stdout"
        }
      ]
    }
  ]
}