{
  "nbformat": 4,
  "nbformat_minor": 0,
  "metadata": {
    "colab": {
      "name": "Printing Stars in Q Shape.ipynb",
      "provenance": [],
      "authorship_tag": "ABX9TyOXaaZ3JPOO+5mqlCgEa7GH",
      "include_colab_link": true
    },
    "kernelspec": {
      "name": "python3",
      "display_name": "Python 3"
    }
  },
  "cells": [
    {
      "cell_type": "markdown",
      "metadata": {
        "id": "view-in-github",
        "colab_type": "text"
      },
      "source": [
        "<a href=\"https://colab.research.google.com/github/MdShahadatHossainbd/Pattern/blob/master/Printing_Stars_in_Q_Shape.ipynb\" target=\"_parent\"><img src=\"https://colab.research.google.com/assets/colab-badge.svg\" alt=\"Open In Colab\"/></a>"
      ]
    },
    {
      "cell_type": "code",
      "metadata": {
        "id": "9RCHKbhbSMrL",
        "outputId": "9e50f32e-a44d-4c73-887b-6a7e4681498a",
        "colab": {
          "base_uri": "https://localhost:8080/",
          "height": 164
        }
      },
      "source": [
        "for row in range(8):\n",
        "    for col in range(5):\n",
        "        if ((col==0 or col == 4) and (row > 0 and row <6)) or ((row == 0 or row == 6 ) and (col>0 and col <4)) or (row==5 and col ==1) or (row == 7 and col==3):\n",
        "            print(\"*\",end=\"\")\n",
        "        else:\n",
        "            print(end=\" \")\n",
        "    print()"
      ],
      "execution_count": 5,
      "outputs": [
        {
          "output_type": "stream",
          "text": [
            " *** \n",
            "*   *\n",
            "*   *\n",
            "*   *\n",
            "*   *\n",
            "**  *\n",
            " *** \n",
            "   * \n"
          ],
          "name": "stdout"
        }
      ]
    }
  ]
}