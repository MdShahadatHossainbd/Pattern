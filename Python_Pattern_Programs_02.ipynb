{
  "nbformat": 4,
  "nbformat_minor": 0,
  "metadata": {
    "colab": {
      "name": "Python Pattern Programs 02.ipynb",
      "provenance": [],
      "authorship_tag": "ABX9TyMxXF+75POlqqD/dwmgJMoj",
      "include_colab_link": true
    },
    "kernelspec": {
      "name": "python3",
      "display_name": "Python 3"
    }
  },
  "cells": [
    {
      "cell_type": "markdown",
      "metadata": {
        "id": "view-in-github",
        "colab_type": "text"
      },
      "source": [
        "<a href=\"https://colab.research.google.com/github/MdShahadatHossainbd/Pattern/blob/master/Python_Pattern_Programs_02.ipynb\" target=\"_parent\"><img src=\"https://colab.research.google.com/assets/colab-badge.svg\" alt=\"Open In Colab\"/></a>"
      ]
    },
    {
      "cell_type": "code",
      "metadata": {
        "id": "umKD0Zxc9qTD",
        "colab_type": "code",
        "colab": {
          "base_uri": "https://localhost:8080/",
          "height": 146
        },
        "outputId": "b4901bcb-b51e-456f-ad15-068627385dc0"
      },
      "source": [
        "#Printing Stars '*' in Reverse Pyramid Shape\n",
        "\n",
        "num = int(input(\"Enter the number of rows: \"))\n",
        "for i in range(num,0,-1):\n",
        "  for j in range(0,num-i):\n",
        "    print(end=\" \")\n",
        "  for i in range(0,i):\n",
        "    print(\"*\",end=\" \")\n",
        "  print()"
      ],
      "execution_count": 3,
      "outputs": [
        {
          "output_type": "stream",
          "text": [
            "Enter the number of rows: 6\n",
            "* * * * * * \n",
            " * * * * * \n",
            "  * * * * \n",
            "   * * * \n",
            "    * * \n",
            "     * \n"
          ],
          "name": "stdout"
        }
      ]
    },
    {
      "cell_type": "code",
      "metadata": {
        "id": "QsAgysYLRmQU",
        "colab_type": "code",
        "colab": {
          "base_uri": "https://localhost:8080/",
          "height": 146
        },
        "outputId": "eedb00f8-e7a4-49a2-9e2c-d5c8c43daa9d"
      },
      "source": [
        "num = int(input(\"Enter the number of rows: \"))\n",
        "for i in range(num,0,-1):\n",
        "  for j in range(0,num-i):\n",
        "    print(end=\"\")\n",
        "  for i in range(0,i):\n",
        "    print(\"*\",end=\" \")\n",
        "  print()"
      ],
      "execution_count": 4,
      "outputs": [
        {
          "output_type": "stream",
          "text": [
            "Enter the number of rows: 6\n",
            "* * * * * * \n",
            "* * * * * \n",
            "* * * * \n",
            "* * * \n",
            "* * \n",
            "* \n"
          ],
          "name": "stdout"
        }
      ]
    },
    {
      "cell_type": "code",
      "metadata": {
        "id": "ekONUsiVRpv6",
        "colab_type": "code",
        "colab": {
          "base_uri": "https://localhost:8080/",
          "height": 146
        },
        "outputId": "f5a5548b-9854-4692-f91d-dbeca3ad7519"
      },
      "source": [
        "num = int(input(\"Enter the number of rows: \"))\n",
        "for i in range(num,0,-1):\n",
        "  for j in range(0,num-i):\n",
        "    print(end=\" \")\n",
        "  for i in range(0,i):\n",
        "    print(\"*\",end=\"\")\n",
        "  print()"
      ],
      "execution_count": 5,
      "outputs": [
        {
          "output_type": "stream",
          "text": [
            "Enter the number of rows: 6\n",
            "******\n",
            " *****\n",
            "  ****\n",
            "   ***\n",
            "    **\n",
            "     *\n"
          ],
          "name": "stdout"
        }
      ]
    },
    {
      "cell_type": "code",
      "metadata": {
        "id": "IhZeODAASXqr",
        "colab_type": "code",
        "colab": {
          "base_uri": "https://localhost:8080/",
          "height": 146
        },
        "outputId": "409b5743-966a-43c8-fcfe-580696906bb2"
      },
      "source": [
        "n=int(input())\n",
        "\n",
        "for i in range(n):\n",
        "\n",
        "    for j in range(i):\n",
        "\n",
        "        print(end=\" \")\n",
        "\n",
        "    for j in range(0,n-i):\n",
        "\n",
        "        print(\"*\",end=\" \")\n",
        "\n",
        "    print()"
      ],
      "execution_count": 6,
      "outputs": [
        {
          "output_type": "stream",
          "text": [
            "6\n",
            "* * * * * * \n",
            " * * * * * \n",
            "  * * * * \n",
            "   * * * \n",
            "    * * \n",
            "     * \n"
          ],
          "name": "stdout"
        }
      ]
    },
    {
      "cell_type": "code",
      "metadata": {
        "id": "n-S3_DbsS7t-",
        "colab_type": "code",
        "colab": {
          "base_uri": "https://localhost:8080/",
          "height": 127
        },
        "outputId": "2377536b-8f4a-4313-905d-b43cb7e34dd3"
      },
      "source": [
        "for i in range(n):\n",
        "\n",
        "    print(\" \"*i,\"* \"*(n-i))"
      ],
      "execution_count": 11,
      "outputs": [
        {
          "output_type": "stream",
          "text": [
            " * * * * * * \n",
            "  * * * * * \n",
            "   * * * * \n",
            "    * * * \n",
            "     * * \n",
            "      * \n"
          ],
          "name": "stdout"
        }
      ]
    },
    {
      "cell_type": "code",
      "metadata": {
        "id": "tBbbItP5TL5T",
        "colab_type": "code",
        "colab": {
          "base_uri": "https://localhost:8080/",
          "height": 127
        },
        "outputId": "273bcb8d-ec66-457e-a16b-b54b9989c576"
      },
      "source": [
        "for i in range(n):\n",
        "\n",
        "    print(\"\"*i,\"* \"*(n-i))\n",
        "    "
      ],
      "execution_count": 17,
      "outputs": [
        {
          "output_type": "stream",
          "text": [
            " * * * * * * \n",
            " * * * * * \n",
            " * * * * \n",
            " * * * \n",
            " * * \n",
            " * \n"
          ],
          "name": "stdout"
        }
      ]
    },
    {
      "cell_type": "code",
      "metadata": {
        "id": "zTZJ9pKsTlkC",
        "colab_type": "code",
        "colab": {
          "base_uri": "https://localhost:8080/",
          "height": 201
        },
        "outputId": "9d61061f-88ec-47ff-aab8-b05221b9676a"
      },
      "source": [
        "n = 10\n",
        "for i in range(n):\n",
        "\n",
        "    print(\" \"*i,\"*\"*(n-i))"
      ],
      "execution_count": 26,
      "outputs": [
        {
          "output_type": "stream",
          "text": [
            " **********\n",
            "  *********\n",
            "   ********\n",
            "    *******\n",
            "     ******\n",
            "      *****\n",
            "       ****\n",
            "        ***\n",
            "         **\n",
            "          *\n"
          ],
          "name": "stdout"
        }
      ]
    }
  ]
}