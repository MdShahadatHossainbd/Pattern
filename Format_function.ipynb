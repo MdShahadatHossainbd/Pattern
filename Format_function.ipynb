{
  "nbformat": 4,
  "nbformat_minor": 0,
  "metadata": {
    "colab": {
      "name": "Format function.ipynb",
      "provenance": [],
      "authorship_tag": "ABX9TyO65a0zN9tnJuv6dtkYHM0J",
      "include_colab_link": true
    },
    "kernelspec": {
      "name": "python3",
      "display_name": "Python 3"
    }
  },
  "cells": [
    {
      "cell_type": "markdown",
      "metadata": {
        "id": "view-in-github",
        "colab_type": "text"
      },
      "source": [
        "<a href=\"https://colab.research.google.com/github/MdShahadatHossainbd/Pattern/blob/master/Format_function.ipynb\" target=\"_parent\"><img src=\"https://colab.research.google.com/assets/colab-badge.svg\" alt=\"Open In Colab\"/></a>"
      ]
    },
    {
      "cell_type": "code",
      "metadata": {
        "id": "fRQxz4FVwqaY",
        "outputId": "de77ecec-d7f8-4a16-a263-014b3ab0b77e",
        "colab": {
          "base_uri": "https://localhost:8080/"
        }
      },
      "source": [
        "num = int(input(\"Enter the Number: \"))\n",
        "n = 1\n",
        "for i in range(num):\n",
        "  for j in range(i+1):\n",
        "    print(n, end=\" \")\n",
        "    n = n + 1\n",
        "  print()"
      ],
      "execution_count": 3,
      "outputs": [
        {
          "output_type": "stream",
          "text": [
            "Enter the Number: 5\n",
            "1 \n",
            "2 3 \n",
            "4 5 6 \n",
            "7 8 9 10 \n",
            "11 12 13 14 15 \n"
          ],
          "name": "stdout"
        }
      ]
    },
    {
      "cell_type": "code",
      "metadata": {
        "id": "C-YQnpQXx15o",
        "outputId": "f755f7b3-e97a-45be-a561-265bd6b7b13a",
        "colab": {
          "base_uri": "https://localhost:8080/"
        }
      },
      "source": [
        "num = int(input(\"Enter the Number: \"))\n",
        "n = 1\n",
        "for i in range(num):\n",
        "  for j in range(i+1):\n",
        "    print(format(n,\"<4\"), end=\" \")\n",
        "    n = n + 1\n",
        "  print()"
      ],
      "execution_count": 5,
      "outputs": [
        {
          "output_type": "stream",
          "text": [
            "Enter the Number: 7\n",
            "1    \n",
            "2    3    \n",
            "4    5    6    \n",
            "7    8    9    10   \n",
            "11   12   13   14   15   \n",
            "16   17   18   19   20   21   \n",
            "22   23   24   25   26   27   28   \n"
          ],
          "name": "stdout"
        }
      ]
    }
  ]
}