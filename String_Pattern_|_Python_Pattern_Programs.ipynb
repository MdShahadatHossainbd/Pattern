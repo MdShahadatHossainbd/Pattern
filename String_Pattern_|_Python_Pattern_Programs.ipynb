{
  "nbformat": 4,
  "nbformat_minor": 0,
  "metadata": {
    "colab": {
      "name": "String Pattern | Python Pattern Programs.ipynb",
      "provenance": [],
      "authorship_tag": "ABX9TyO3kL/iFD4e+YuaJT7BAYt9",
      "include_colab_link": true
    },
    "kernelspec": {
      "name": "python3",
      "display_name": "Python 3"
    }
  },
  "cells": [
    {
      "cell_type": "markdown",
      "metadata": {
        "id": "view-in-github",
        "colab_type": "text"
      },
      "source": [
        "<a href=\"https://colab.research.google.com/github/MdShahadatHossainbd/Pattern/blob/master/String_Pattern_%7C_Python_Pattern_Programs.ipynb\" target=\"_parent\"><img src=\"https://colab.research.google.com/assets/colab-badge.svg\" alt=\"Open In Colab\"/></a>"
      ]
    },
    {
      "cell_type": "code",
      "metadata": {
        "colab": {
          "base_uri": "https://localhost:8080/"
        },
        "id": "HmkbxZJ0PLki",
        "outputId": "46825f64-a954-4131-eacc-b43c624a51d6"
      },
      "source": [
        "str1 = input(\"Enter String: \")\n",
        "length = len(str1)\n",
        "for i in range(length):\n",
        "  for j in range(i+1):\n",
        "    print(str1[i],end=\" \")\n",
        "  print()"
      ],
      "execution_count": 1,
      "outputs": [
        {
          "output_type": "stream",
          "text": [
            "Enter String: python\n",
            "p \n",
            "y y \n",
            "t t t \n",
            "h h h h \n",
            "o o o o o \n",
            "n n n n n n \n"
          ],
          "name": "stdout"
        }
      ]
    },
    {
      "cell_type": "code",
      "metadata": {
        "colab": {
          "base_uri": "https://localhost:8080/"
        },
        "id": "DslQyDu4QViU",
        "outputId": "5f096ba9-3b25-4932-de34-d9ac5e40d6e9"
      },
      "source": [
        "str1 = input(\"Enter String: \")\n",
        "length = len(str1)\n",
        "for i in range(length):\n",
        "  for j in range(i+1):\n",
        "    print(str1[j],end=\" \")\n",
        "  print()"
      ],
      "execution_count": 4,
      "outputs": [
        {
          "output_type": "stream",
          "text": [
            "Enter String: python\n",
            "p \n",
            "p y \n",
            "p y t \n",
            "p y t h \n",
            "p y t h o \n",
            "p y t h o n \n"
          ],
          "name": "stdout"
        }
      ]
    },
    {
      "cell_type": "code",
      "metadata": {
        "colab": {
          "base_uri": "https://localhost:8080/"
        },
        "id": "HpFL7f9CQ6-n",
        "outputId": "eb827951-b691-4481-a634-ed6c7bb85c43"
      },
      "source": [
        "str1 = input(\"Enter String: \")\n",
        "length = len(str1)\n",
        "for i in range(length):\n",
        "  for j in range(length-i-1):\n",
        "    print(\" \",end=\" \")\n",
        "  for j in range(i+1):\n",
        "    print(str1[j],end=\" \")\n",
        "  print()"
      ],
      "execution_count": 5,
      "outputs": [
        {
          "output_type": "stream",
          "text": [
            "Enter String: python\n",
            "          p \n",
            "        p y \n",
            "      p y t \n",
            "    p y t h \n",
            "  p y t h o \n",
            "p y t h o n \n"
          ],
          "name": "stdout"
        }
      ]
    },
    {
      "cell_type": "code",
      "metadata": {
        "colab": {
          "base_uri": "https://localhost:8080/"
        },
        "id": "H_XOQdXiRS4N",
        "outputId": "85e16933-3559-4da5-dc47-ab7f26066de4"
      },
      "source": [
        "str1 = input(\"Enter String: \")\n",
        "length = len(str1)\n",
        "for i in range(length):\n",
        "  for j in range(length-i-1):\n",
        "    print(\" \",end=\" \")\n",
        "  for j in range(i+1):\n",
        "    print(str1[i],end=\" \")\n",
        "  print()"
      ],
      "execution_count": 6,
      "outputs": [
        {
          "output_type": "stream",
          "text": [
            "Enter String: python\n",
            "          p \n",
            "        y y \n",
            "      t t t \n",
            "    h h h h \n",
            "  o o o o o \n",
            "n n n n n n \n"
          ],
          "name": "stdout"
        }
      ]
    },
    {
      "cell_type": "code",
      "metadata": {
        "colab": {
          "base_uri": "https://localhost:8080/"
        },
        "id": "2x8XLg-sRdsk",
        "outputId": "fb7e4b75-7e88-446e-9af9-6247b0806d62"
      },
      "source": [
        "str1 = input(\"Enter String: \")\n",
        "length = len(str1)\n",
        "for i in range(length):\n",
        "  for j in range(length-i-1):\n",
        "    print(\" \",end=\"\")\n",
        "  for j in range(i+1):\n",
        "    print(str1[i],end=\" \")\n",
        "  print()"
      ],
      "execution_count": 7,
      "outputs": [
        {
          "output_type": "stream",
          "text": [
            "Enter String: python\n",
            "     p \n",
            "    y y \n",
            "   t t t \n",
            "  h h h h \n",
            " o o o o o \n",
            "n n n n n n \n"
          ],
          "name": "stdout"
        }
      ]
    },
    {
      "cell_type": "code",
      "metadata": {
        "colab": {
          "base_uri": "https://localhost:8080/"
        },
        "id": "MY6G2GjURnOw",
        "outputId": "e6582467-1d17-4e47-e4d0-cb5b297dcc4c"
      },
      "source": [
        "str1 = input(\"Enter String: \")\n",
        "length = len(str1)\n",
        "for i in range(length):\n",
        "  for j in range(length-i-1):\n",
        "    print(\" \",end=\"\")\n",
        "  for j in range(i+1):\n",
        "    print(str1[j],end=\" \")\n",
        "  print()"
      ],
      "execution_count": 8,
      "outputs": [
        {
          "output_type": "stream",
          "text": [
            "Enter String: python\n",
            "     p \n",
            "    p y \n",
            "   p y t \n",
            "  p y t h \n",
            " p y t h o \n",
            "p y t h o n \n"
          ],
          "name": "stdout"
        }
      ]
    },
    {
      "cell_type": "code",
      "metadata": {
        "colab": {
          "base_uri": "https://localhost:8080/"
        },
        "id": "nXmiT2d-R7Jp",
        "outputId": "5016ac7f-7151-4abd-afb9-6c885366112e"
      },
      "source": [
        "str1 = input(\"Enter String: \")\n",
        "length = len(str1)\n",
        "for i in range(length):\n",
        "  for j in range(length-i):\n",
        "    print(str1[j],end=\" \")\n",
        "  print()"
      ],
      "execution_count": 9,
      "outputs": [
        {
          "output_type": "stream",
          "text": [
            "Enter String: python\n",
            "p y t h o n \n",
            "p y t h o \n",
            "p y t h \n",
            "p y t \n",
            "p y \n",
            "p \n"
          ],
          "name": "stdout"
        }
      ]
    },
    {
      "cell_type": "code",
      "metadata": {
        "colab": {
          "base_uri": "https://localhost:8080/"
        },
        "id": "P7qvmtbuSMZI",
        "outputId": "200d47cf-312e-4ffb-930a-5d6596fc6deb"
      },
      "source": [
        "str1 = input(\"Enter String: \")\n",
        "length = len(str1)\n",
        "for i in range(length):\n",
        "  for j in range(i):\n",
        "    print(\" \",end=\" \")\n",
        "  for j in range(length-i):\n",
        "    print(str1[i],end=\" \")\n",
        "  print()"
      ],
      "execution_count": 15,
      "outputs": [
        {
          "output_type": "stream",
          "text": [
            "Enter String: python\n",
            "p p p p p p \n",
            "  y y y y y \n",
            "    t t t t \n",
            "      h h h \n",
            "        o o \n",
            "          n \n"
          ],
          "name": "stdout"
        }
      ]
    },
    {
      "cell_type": "code",
      "metadata": {
        "colab": {
          "base_uri": "https://localhost:8080/"
        },
        "id": "yM-NkLdITLQe",
        "outputId": "a10a2914-e8cb-4ae4-a2c2-8d294081a558"
      },
      "source": [
        "str1 = input(\"Enter String: \")\n",
        "length = len(str1)\n",
        "for i in range(length):\n",
        "  for j in range(i):\n",
        "    print(\" \",end=\" \")\n",
        "  for j in range(length-i):\n",
        "    print(str1[j],end=\" \")\n",
        "  print()"
      ],
      "execution_count": 16,
      "outputs": [
        {
          "output_type": "stream",
          "text": [
            "Enter String: python\n",
            "p y t h o n \n",
            "  p y t h o \n",
            "    p y t h \n",
            "      p y t \n",
            "        p y \n",
            "          p \n"
          ],
          "name": "stdout"
        }
      ]
    },
    {
      "cell_type": "code",
      "metadata": {
        "colab": {
          "base_uri": "https://localhost:8080/"
        },
        "id": "WYnhQiC5TX9Q",
        "outputId": "d45d9de6-74c9-488e-edc4-a8218e382253"
      },
      "source": [
        "str1 = input(\"Enter String: \")\n",
        "length = len(str1)\n",
        "for i in range(length):\n",
        "  for j in range(i):\n",
        "    print(\" \",end=\"\")\n",
        "  for j in range(length-i):\n",
        "    print(str1[j],end=\" \")\n",
        "  print()"
      ],
      "execution_count": 17,
      "outputs": [
        {
          "output_type": "stream",
          "text": [
            "Enter String: python\n",
            "p y t h o n \n",
            " p y t h o \n",
            "  p y t h \n",
            "   p y t \n",
            "    p y \n",
            "     p \n"
          ],
          "name": "stdout"
        }
      ]
    },
    {
      "cell_type": "code",
      "metadata": {
        "colab": {
          "base_uri": "https://localhost:8080/"
        },
        "id": "-IntG_U-TuV4",
        "outputId": "97a0f01c-7773-4d72-ae1e-728fefdb9d34"
      },
      "source": [
        "str1 = input(\"Enter String: \")\n",
        "length = len(str1)\n",
        "for i in range(length):\n",
        "  for j in range(i):\n",
        "    print(\" \",end=\" \")\n",
        "  for j in range(length-i):\n",
        "    print(str1[i],end=\" \")\n",
        "  print()"
      ],
      "execution_count": 18,
      "outputs": [
        {
          "output_type": "stream",
          "text": [
            "Enter String: python\n",
            "p p p p p p \n",
            "  y y y y y \n",
            "    t t t t \n",
            "      h h h \n",
            "        o o \n",
            "          n \n"
          ],
          "name": "stdout"
        }
      ]
    },
    {
      "cell_type": "code",
      "metadata": {
        "colab": {
          "base_uri": "https://localhost:8080/"
        },
        "id": "F8OCUKUsUugt",
        "outputId": "beb9cb5b-b40f-4913-fce8-7b4f6db16e80"
      },
      "source": [
        "str1 = input(\"Enter String: \")\n",
        "length = len(str1)\n",
        "for i in range(length-1,-1,-1):\n",
        "  for j in range(length-i-1):\n",
        "    print(\" \",end=\" \")\n",
        "  for j in range(i+1):\n",
        "    print(str1[i],end=\" \")\n",
        "  print()"
      ],
      "execution_count": 20,
      "outputs": [
        {
          "output_type": "stream",
          "text": [
            "Enter String: python\n",
            "n n n n n n \n",
            "  o o o o o \n",
            "    h h h h \n",
            "      t t t \n",
            "        y y \n",
            "          p \n"
          ],
          "name": "stdout"
        }
      ]
    },
    {
      "cell_type": "code",
      "metadata": {
        "colab": {
          "base_uri": "https://localhost:8080/"
        },
        "id": "PjapSARLVnZX",
        "outputId": "3c0d4b97-4ce5-4470-b275-ea64ddc88192"
      },
      "source": [
        "str1 = input(\"Enter String: \")\n",
        "length = len(str1)\n",
        "for i in range(length-1,-1,-1):\n",
        "  for j in range(length-i-1):\n",
        "    print(\" \",end=\" \")\n",
        "  for j in range(i,-1,-1):\n",
        "    print(str1[j],end=\" \")\n",
        "  print()"
      ],
      "execution_count": 21,
      "outputs": [
        {
          "output_type": "stream",
          "text": [
            "Enter String: python\n",
            "n o h t y p \n",
            "  o h t y p \n",
            "    h t y p \n",
            "      t y p \n",
            "        y p \n",
            "          p \n"
          ],
          "name": "stdout"
        }
      ]
    },
    {
      "cell_type": "code",
      "metadata": {
        "colab": {
          "base_uri": "https://localhost:8080/"
        },
        "id": "mBA66lemUHOs",
        "outputId": "dbbf0f68-c850-4e2c-9f48-4328c4ffd47d"
      },
      "source": [
        "str1 = input(\"Enter String: \")\n",
        "length = len(str1)\n",
        "for i in range(length):\n",
        "  for j in range(i):\n",
        "    print(\" \",end=\"\")\n",
        "  for j in range(length-i):\n",
        "    print(str1[i],end=\" \")\n",
        "  print()"
      ],
      "execution_count": 19,
      "outputs": [
        {
          "output_type": "stream",
          "text": [
            "Enter String: python\n",
            "p p p p p p \n",
            " y y y y y \n",
            "  t t t t \n",
            "   h h h \n",
            "    o o \n",
            "     n \n"
          ],
          "name": "stdout"
        }
      ]
    }
  ]
}