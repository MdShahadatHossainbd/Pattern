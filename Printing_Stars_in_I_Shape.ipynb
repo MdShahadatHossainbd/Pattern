{
  "nbformat": 4,
  "nbformat_minor": 0,
  "metadata": {
    "colab": {
      "name": "Printing Stars in I Shape.ipynb",
      "provenance": [],
      "authorship_tag": "ABX9TyMvoZqaHdti95MhqmJvVak4",
      "include_colab_link": true
    },
    "kernelspec": {
      "name": "python3",
      "display_name": "Python 3"
    }
  },
  "cells": [
    {
      "cell_type": "markdown",
      "metadata": {
        "id": "view-in-github",
        "colab_type": "text"
      },
      "source": [
        "<a href=\"https://colab.research.google.com/github/MdShahadatHossainbd/Pattern/blob/master/Printing_Stars_in_I_Shape.ipynb\" target=\"_parent\"><img src=\"https://colab.research.google.com/assets/colab-badge.svg\" alt=\"Open In Colab\"/></a>"
      ]
    },
    {
      "cell_type": "code",
      "metadata": {
        "id": "Jhkx9vhBLqUY",
        "colab_type": "code",
        "colab": {
          "base_uri": "https://localhost:8080/",
          "height": 146
        },
        "outputId": "12871412-028e-4524-9235-525c99e583c9"
      },
      "source": [
        "\n",
        "\n",
        "for row in range(7):\n",
        "  for col in range(5):\n",
        "    if col == 2 or ((row == 0 or row == 6) and col != 2 ):\n",
        "      print(\"*\", end=\"\")\n",
        "    else:\n",
        "      print(end=\" \")\n",
        "  print()\n",
        "\n"
      ],
      "execution_count": 2,
      "outputs": [
        {
          "output_type": "stream",
          "text": [
            "*****\n",
            "  *  \n",
            "  *  \n",
            "  *  \n",
            "  *  \n",
            "  *  \n",
            "*****\n"
          ],
          "name": "stdout"
        }
      ]
    }
  ]
}