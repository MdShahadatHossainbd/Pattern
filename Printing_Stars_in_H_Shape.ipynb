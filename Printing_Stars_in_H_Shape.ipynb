{
  "nbformat": 4,
  "nbformat_minor": 0,
  "metadata": {
    "colab": {
      "name": "Printing Stars in H Shape.ipynb",
      "provenance": [],
      "authorship_tag": "ABX9TyOgJCjYXf+U2f4UW9+qeJ8q",
      "include_colab_link": true
    },
    "kernelspec": {
      "name": "python3",
      "display_name": "Python 3"
    }
  },
  "cells": [
    {
      "cell_type": "markdown",
      "metadata": {
        "id": "view-in-github",
        "colab_type": "text"
      },
      "source": [
        "<a href=\"https://colab.research.google.com/github/MdShahadatHossainbd/Pattern/blob/master/Printing_Stars_in_H_Shape.ipynb\" target=\"_parent\"><img src=\"https://colab.research.google.com/assets/colab-badge.svg\" alt=\"Open In Colab\"/></a>"
      ]
    },
    {
      "cell_type": "code",
      "metadata": {
        "id": "C5HMSYBvq-YZ",
        "colab_type": "code",
        "colab": {
          "base_uri": "https://localhost:8080/",
          "height": 146
        },
        "outputId": "9c737dde-58bb-49c4-ffa8-14ec889d884e"
      },
      "source": [
        "for row in range(7):\n",
        "  for col in range(5):\n",
        "    if col == 0 or col==4 or (row == 3 and (col>0 and col < 4 )):\n",
        "      print(\"*\", end=\"\")\n",
        "    else:\n",
        "      print(end=\" \")\n",
        "  print()"
      ],
      "execution_count": 1,
      "outputs": [
        {
          "output_type": "stream",
          "text": [
            "*   *\n",
            "*   *\n",
            "*   *\n",
            "*****\n",
            "*   *\n",
            "*   *\n",
            "*   *\n"
          ],
          "name": "stdout"
        }
      ]
    },
    {
      "cell_type": "code",
      "metadata": {
        "id": "J4QK5MYqrPjL",
        "colab_type": "code",
        "colab": {
          "base_uri": "https://localhost:8080/",
          "height": 146
        },
        "outputId": "190161ac-f8a0-4477-9451-29a1c1d599dd"
      },
      "source": [
        "for row in range(7):\n",
        "  for col in range(6):\n",
        "    if (col==0) or (col == 4 and (row != 1 and row != 2 )) or ((row == 0 or row == 6 ) and (col >0 and col <4 )) or (row == 3 and (col == 3 or col == 5)):\n",
        "          print(\"*\", end=\"\")\n",
        "    else:\n",
        "      print(end=\" \")\n",
        "  print()\n"
      ],
      "execution_count": 2,
      "outputs": [
        {
          "output_type": "stream",
          "text": [
            "***** \n",
            "*     \n",
            "*     \n",
            "*  ***\n",
            "*   * \n",
            "*   * \n",
            "***** \n"
          ],
          "name": "stdout"
        }
      ]
    }
  ]
}