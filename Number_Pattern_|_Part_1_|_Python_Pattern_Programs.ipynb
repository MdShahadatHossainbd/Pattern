{
  "nbformat": 4,
  "nbformat_minor": 0,
  "metadata": {
    "colab": {
      "name": "Number Pattern | Part 1 | Python Pattern Programs.ipynb",
      "provenance": [],
      "authorship_tag": "ABX9TyODDoVEyG4p0WZkXWSzLMCZ",
      "include_colab_link": true
    },
    "kernelspec": {
      "name": "python3",
      "display_name": "Python 3"
    }
  },
  "cells": [
    {
      "cell_type": "markdown",
      "metadata": {
        "id": "view-in-github",
        "colab_type": "text"
      },
      "source": [
        "<a href=\"https://colab.research.google.com/github/MdShahadatHossainbd/Pattern/blob/master/Number_Pattern_%7C_Part_1_%7C_Python_Pattern_Programs.ipynb\" target=\"_parent\"><img src=\"https://colab.research.google.com/assets/colab-badge.svg\" alt=\"Open In Colab\"/></a>"
      ]
    },
    {
      "cell_type": "code",
      "metadata": {
        "colab": {
          "base_uri": "https://localhost:8080/"
        },
        "id": "sdZEWolInLQ-",
        "outputId": "4a9e5868-fead-4582-9605-1867fa76579d"
      },
      "source": [
        "n = int(input(\"Enter The Number of Rows: \"))\n",
        "for i in range(n):\n",
        "  for j in range(i+1):\n",
        "    print(j+1,end=\" \")\n",
        "  print()"
      ],
      "execution_count": 1,
      "outputs": [
        {
          "output_type": "stream",
          "text": [
            "Enter The Number of Rows: 7\n",
            "1 \n",
            "1 2 \n",
            "1 2 3 \n",
            "1 2 3 4 \n",
            "1 2 3 4 5 \n",
            "1 2 3 4 5 6 \n",
            "1 2 3 4 5 6 7 \n"
          ],
          "name": "stdout"
        }
      ]
    },
    {
      "cell_type": "code",
      "metadata": {
        "colab": {
          "base_uri": "https://localhost:8080/"
        },
        "id": "4ad5Sgkbw8Ag",
        "outputId": "71fef964-fef7-4265-f5e7-f35170c9bdb9"
      },
      "source": [
        "n = int(input(\"Enter The Number of Rows: \"))\n",
        "for i in range(n):\n",
        "  for j in range(i,-1,-1):\n",
        "    print(j+1,end=\" \")\n",
        "  print()"
      ],
      "execution_count": 2,
      "outputs": [
        {
          "output_type": "stream",
          "text": [
            "Enter The Number of Rows: 6\n",
            "1 \n",
            "2 1 \n",
            "3 2 1 \n",
            "4 3 2 1 \n",
            "5 4 3 2 1 \n",
            "6 5 4 3 2 1 \n"
          ],
          "name": "stdout"
        }
      ]
    },
    {
      "cell_type": "code",
      "metadata": {
        "colab": {
          "base_uri": "https://localhost:8080/"
        },
        "id": "Vy750UX9xtaG",
        "outputId": "b961af42-5fb0-4f42-e618-cb785681dd3d"
      },
      "source": [
        "n = int(input(\"Enter The Number of Rows: \"))\n",
        "for i in range(n):\n",
        "  for j in range(i+1):\n",
        "    print(n-i,end=\" \")\n",
        "  print()"
      ],
      "execution_count": 5,
      "outputs": [
        {
          "output_type": "stream",
          "text": [
            "Enter The Number of Rows: 6\n",
            "6 \n",
            "5 5 \n",
            "4 4 4 \n",
            "3 3 3 3 \n",
            "2 2 2 2 2 \n",
            "1 1 1 1 1 1 \n"
          ],
          "name": "stdout"
        }
      ]
    },
    {
      "cell_type": "code",
      "metadata": {
        "colab": {
          "base_uri": "https://localhost:8080/"
        },
        "id": "Y50fqVwvxtpE",
        "outputId": "cf532a63-ff6e-4bb4-ce7d-2a6369738fd4"
      },
      "source": [
        "n = int(input(\"Enter The Number of Rows: \"))\n",
        "for i in range(n):\n",
        "  for j in range(i+1):\n",
        "    print(j-i,end=\" \")\n",
        "  print()"
      ],
      "execution_count": 6,
      "outputs": [
        {
          "output_type": "stream",
          "text": [
            "Enter The Number of Rows: 6\n",
            "0 \n",
            "-1 0 \n",
            "-2 -1 0 \n",
            "-3 -2 -1 0 \n",
            "-4 -3 -2 -1 0 \n",
            "-5 -4 -3 -2 -1 0 \n"
          ],
          "name": "stdout"
        }
      ]
    },
    {
      "cell_type": "code",
      "metadata": {
        "colab": {
          "base_uri": "https://localhost:8080/"
        },
        "id": "96xos2NlyATx",
        "outputId": "178b21d1-f859-4289-8a82-be3e7cfe8812"
      },
      "source": [
        "n = int(input(\"Enter The Number of Rows: \"))\n",
        "for i in range(n):\n",
        "  for j in range(i+1):\n",
        "    print(n-j,end=\" \")\n",
        "  print()"
      ],
      "execution_count": 7,
      "outputs": [
        {
          "output_type": "stream",
          "text": [
            "Enter The Number of Rows: 6\n",
            "6 \n",
            "6 5 \n",
            "6 5 4 \n",
            "6 5 4 3 \n",
            "6 5 4 3 2 \n",
            "6 5 4 3 2 1 \n"
          ],
          "name": "stdout"
        }
      ]
    },
    {
      "cell_type": "code",
      "metadata": {
        "colab": {
          "base_uri": "https://localhost:8080/"
        },
        "id": "NBXqk-RXyVJP",
        "outputId": "3529f723-6b87-4632-a7df-4632cdb52b9e"
      },
      "source": [
        "n = int(input(\"Enter The Number of Rows: \"))\n",
        "for i in range(n):\n",
        "  for j in range(i,-1,-1):\n",
        "    print(n-j,end=\" \")\n",
        "  print()"
      ],
      "execution_count": 8,
      "outputs": [
        {
          "output_type": "stream",
          "text": [
            "Enter The Number of Rows: 7\n",
            "7 \n",
            "6 7 \n",
            "5 6 7 \n",
            "4 5 6 7 \n",
            "3 4 5 6 7 \n",
            "2 3 4 5 6 7 \n",
            "1 2 3 4 5 6 7 \n"
          ],
          "name": "stdout"
        }
      ]
    },
    {
      "cell_type": "code",
      "metadata": {
        "colab": {
          "base_uri": "https://localhost:8080/"
        },
        "id": "v1VfPOT5xUWU",
        "outputId": "6560ad46-9d8c-471e-f6b0-7f404ae37a03"
      },
      "source": [
        "n = int(input(\"Enter The Number of Rows: \"))\n",
        "for i in range(n):\n",
        "  for j in range(i+1):\n",
        "    print(i-1,end=\" \")\n",
        "  print()"
      ],
      "execution_count": 4,
      "outputs": [
        {
          "output_type": "stream",
          "text": [
            "Enter The Number of Rows: 6\n",
            "-1 \n",
            "0 0 \n",
            "1 1 1 \n",
            "2 2 2 2 \n",
            "3 3 3 3 3 \n",
            "4 4 4 4 4 4 \n"
          ],
          "name": "stdout"
        }
      ]
    },
    {
      "cell_type": "code",
      "metadata": {
        "colab": {
          "base_uri": "https://localhost:8080/"
        },
        "id": "QfUNZ3u_ylbE",
        "outputId": "5b54ae06-549f-426f-b594-c02b40a58074"
      },
      "source": [
        "n = int(input(\"Enter The Number of Rows: \"))\n",
        "for i in range(n):\n",
        "  for j in range(i+1):\n",
        "    print(j+1,end=\" \")\n",
        "  print()"
      ],
      "execution_count": 9,
      "outputs": [
        {
          "output_type": "stream",
          "text": [
            "Enter The Number of Rows: 5\n",
            "1 \n",
            "1 2 \n",
            "1 2 3 \n",
            "1 2 3 4 \n",
            "1 2 3 4 5 \n"
          ],
          "name": "stdout"
        }
      ]
    },
    {
      "cell_type": "code",
      "metadata": {
        "colab": {
          "base_uri": "https://localhost:8080/"
        },
        "id": "laP7t0ASy3W-",
        "outputId": "9a4bfbf5-8e0a-49eb-a88c-e749936e2388"
      },
      "source": [
        "n = int(input(\"Enter The Number of Rows: \"))\n",
        "for i in range(n):\n",
        "  for j in range(n-i-1):\n",
        "    print(\" \",end=\" \")\n",
        "  for j in range(i+1):\n",
        "    print(j+1,end=\" \")\n",
        "  print()"
      ],
      "execution_count": 10,
      "outputs": [
        {
          "output_type": "stream",
          "text": [
            "Enter The Number of Rows: 5\n",
            "        1 \n",
            "      1 2 \n",
            "    1 2 3 \n",
            "  1 2 3 4 \n",
            "1 2 3 4 5 \n"
          ],
          "name": "stdout"
        }
      ]
    },
    {
      "cell_type": "code",
      "metadata": {
        "colab": {
          "base_uri": "https://localhost:8080/"
        },
        "id": "X_cdyfz7zSAK",
        "outputId": "b30b46d3-d32f-4ec3-cd0a-1d151d3fc223"
      },
      "source": [
        "n = int(input(\"Enter The Number of Rows: \"))\n",
        "for i in range(n):\n",
        "  for j in range(i,-1,-1):\n",
        "    print(j+1,end=\" \")\n",
        "  print()"
      ],
      "execution_count": 11,
      "outputs": [
        {
          "output_type": "stream",
          "text": [
            "Enter The Number of Rows: 6\n",
            "1 \n",
            "2 1 \n",
            "3 2 1 \n",
            "4 3 2 1 \n",
            "5 4 3 2 1 \n",
            "6 5 4 3 2 1 \n"
          ],
          "name": "stdout"
        }
      ]
    },
    {
      "cell_type": "code",
      "metadata": {
        "colab": {
          "base_uri": "https://localhost:8080/"
        },
        "id": "leoJylhlzSFB",
        "outputId": "1c4ee884-892c-4d65-cb67-d98557f734d9"
      },
      "source": [
        "n = int(input(\"Enter The Number of Rows: \"))\n",
        "for i in range(n):\n",
        "  for j in range(n-i-1):\n",
        "    print(\" \",end=\" \")\n",
        "  for j in range(i,-1,-1):\n",
        "    print(j+1,end=\" \")\n",
        "  print()"
      ],
      "execution_count": 12,
      "outputs": [
        {
          "output_type": "stream",
          "text": [
            "Enter The Number of Rows: 7\n",
            "            1 \n",
            "          2 1 \n",
            "        3 2 1 \n",
            "      4 3 2 1 \n",
            "    5 4 3 2 1 \n",
            "  6 5 4 3 2 1 \n",
            "7 6 5 4 3 2 1 \n"
          ],
          "name": "stdout"
        }
      ]
    },
    {
      "cell_type": "code",
      "metadata": {
        "colab": {
          "base_uri": "https://localhost:8080/"
        },
        "id": "ix-TgL_Nz74J",
        "outputId": "8caca57f-fae7-41a5-8d0f-c31571a1a7da"
      },
      "source": [
        "n = int(input(\"Enter The Number of Rows: \"))\n",
        "for i in range(n):\n",
        "  for j in range(i,-1,-1):\n",
        "    print(i+1,end=\" \")\n",
        "  print()"
      ],
      "execution_count": 13,
      "outputs": [
        {
          "output_type": "stream",
          "text": [
            "Enter The Number of Rows: 6\n",
            "1 \n",
            "2 2 \n",
            "3 3 3 \n",
            "4 4 4 4 \n",
            "5 5 5 5 5 \n",
            "6 6 6 6 6 6 \n"
          ],
          "name": "stdout"
        }
      ]
    },
    {
      "cell_type": "code",
      "metadata": {
        "colab": {
          "base_uri": "https://localhost:8080/"
        },
        "id": "cOE4bBAv0XoB",
        "outputId": "aa6c82bf-0df3-4fe6-ae05-985ec809ef13"
      },
      "source": [
        "n = int(input(\"Enter The Number of Rows: \"))\n",
        "for i in range(n):\n",
        "  for j in range(n-i-1):\n",
        "    print(\" \",end=\" \")\n",
        "  for j in range(i,-1,-1):\n",
        "    print(i+1,end=\" \")\n",
        "  print()"
      ],
      "execution_count": 14,
      "outputs": [
        {
          "output_type": "stream",
          "text": [
            "Enter The Number of Rows: 7\n",
            "            1 \n",
            "          2 2 \n",
            "        3 3 3 \n",
            "      4 4 4 4 \n",
            "    5 5 5 5 5 \n",
            "  6 6 6 6 6 6 \n",
            "7 7 7 7 7 7 7 \n"
          ],
          "name": "stdout"
        }
      ]
    },
    {
      "cell_type": "code",
      "metadata": {
        "colab": {
          "base_uri": "https://localhost:8080/"
        },
        "id": "-I-e4NT00sh5",
        "outputId": "c7f6ebae-1c6a-4427-fb97-3d6847c1448c"
      },
      "source": [
        "n = int(input(\"Enter The Number of Rows: \"))\n",
        "for i in range(n):\n",
        "  for j in range(i,-1,-1):\n",
        "    print(n-i,end=\" \")\n",
        "  print()"
      ],
      "execution_count": 16,
      "outputs": [
        {
          "output_type": "stream",
          "text": [
            "Enter The Number of Rows: 9\n",
            "9 \n",
            "8 8 \n",
            "7 7 7 \n",
            "6 6 6 6 \n",
            "5 5 5 5 5 \n",
            "4 4 4 4 4 4 \n",
            "3 3 3 3 3 3 3 \n",
            "2 2 2 2 2 2 2 2 \n",
            "1 1 1 1 1 1 1 1 1 \n"
          ],
          "name": "stdout"
        }
      ]
    },
    {
      "cell_type": "code",
      "metadata": {
        "colab": {
          "base_uri": "https://localhost:8080/"
        },
        "id": "KsN8JSjF1Bwk",
        "outputId": "3b0226c8-6ed3-40f0-bc31-1ca182e0e9e1"
      },
      "source": [
        "n = int(input(\"Enter The Number of Rows: \"))\n",
        "for i in range(n):\n",
        "  for j in range(i+1):\n",
        "    print(n-j,end=\" \")\n",
        "  print()"
      ],
      "execution_count": 17,
      "outputs": [
        {
          "output_type": "stream",
          "text": [
            "Enter The Number of Rows: 7\n",
            "7 \n",
            "7 6 \n",
            "7 6 5 \n",
            "7 6 5 4 \n",
            "7 6 5 4 3 \n",
            "7 6 5 4 3 2 \n",
            "7 6 5 4 3 2 1 \n"
          ],
          "name": "stdout"
        }
      ]
    },
    {
      "cell_type": "code",
      "metadata": {
        "colab": {
          "base_uri": "https://localhost:8080/"
        },
        "id": "oDtloYsA0pME",
        "outputId": "f3ded9cd-6740-42c3-871d-9e696c54b176"
      },
      "source": [
        "n = int(input(\"Enter The Number of Rows: \"))\n",
        "for i in range(n):\n",
        "  for j in range(n-i-1):\n",
        "    print(\" \",end=\" \")\n",
        "  for j in range(i,-1,-1):\n",
        "    print(n-i,end=\" \")\n",
        "  print()"
      ],
      "execution_count": 18,
      "outputs": [
        {
          "output_type": "stream",
          "text": [
            "Enter The Number of Rows: 7\n",
            "            7 \n",
            "          6 6 \n",
            "        5 5 5 \n",
            "      4 4 4 4 \n",
            "    3 3 3 3 3 \n",
            "  2 2 2 2 2 2 \n",
            "1 1 1 1 1 1 1 \n"
          ],
          "name": "stdout"
        }
      ]
    },
    {
      "cell_type": "code",
      "metadata": {
        "colab": {
          "base_uri": "https://localhost:8080/"
        },
        "id": "kpUUd_vx1mBC",
        "outputId": "a8410de0-ce3c-430c-e8f4-7e1b90b2f95b"
      },
      "source": [
        "n = int(input(\"Enter The Number of Rows: \"))\n",
        "for i in range(n):\n",
        "  for j in range(i+1):\n",
        "    print(n-j,end=\" \")\n",
        "  print()"
      ],
      "execution_count": 20,
      "outputs": [
        {
          "output_type": "stream",
          "text": [
            "Enter The Number of Rows: 7\n",
            "7 \n",
            "7 6 \n",
            "7 6 5 \n",
            "7 6 5 4 \n",
            "7 6 5 4 3 \n",
            "7 6 5 4 3 2 \n",
            "7 6 5 4 3 2 1 \n"
          ],
          "name": "stdout"
        }
      ]
    },
    {
      "cell_type": "code",
      "metadata": {
        "colab": {
          "base_uri": "https://localhost:8080/"
        },
        "id": "kvrNi1wd2KFf",
        "outputId": "d2a9857d-1817-4c29-a3af-efc54bfe7e59"
      },
      "source": [
        "n = int(input(\"Enter The Number of Rows: \"))\n",
        "for i in range(n):\n",
        "  for j in range(n-i-1):\n",
        "    print(\" \",end=\" \")\n",
        "  for j in range(i+1):\n",
        "    print(n-j,end=\" \")\n",
        "  print()"
      ],
      "execution_count": 21,
      "outputs": [
        {
          "output_type": "stream",
          "text": [
            "Enter The Number of Rows: 7\n",
            "            7 \n",
            "          7 6 \n",
            "        7 6 5 \n",
            "      7 6 5 4 \n",
            "    7 6 5 4 3 \n",
            "  7 6 5 4 3 2 \n",
            "7 6 5 4 3 2 1 \n"
          ],
          "name": "stdout"
        }
      ]
    },
    {
      "cell_type": "code",
      "metadata": {
        "colab": {
          "base_uri": "https://localhost:8080/"
        },
        "id": "iye4kbEx2tip",
        "outputId": "9fe8368a-5d9c-4d1b-f560-09c7b801dbab"
      },
      "source": [
        "n = int(input(\"Enter The Number of Rows: \"))\n",
        "for i in range(n):\n",
        "  for j in range(n-i-1):\n",
        "    print(\" \",end=\" \")\n",
        "  for j in range(i,-1,-1):\n",
        "    print(n-j,end=\" \")\n",
        "  print()"
      ],
      "execution_count": 23,
      "outputs": [
        {
          "output_type": "stream",
          "text": [
            "Enter The Number of Rows: 7\n",
            "            7 \n",
            "          6 7 \n",
            "        5 6 7 \n",
            "      4 5 6 7 \n",
            "    3 4 5 6 7 \n",
            "  2 3 4 5 6 7 \n",
            "1 2 3 4 5 6 7 \n"
          ],
          "name": "stdout"
        }
      ]
    },
    {
      "cell_type": "code",
      "metadata": {
        "colab": {
          "base_uri": "https://localhost:8080/"
        },
        "id": "TIdwCMAk2b9b",
        "outputId": "9e90fb08-059d-4843-9667-e4af01434e82"
      },
      "source": [
        "n = int(input(\"Enter The Number of Rows: \"))\n",
        "for i in range(n):\n",
        "  for j in range(i,-1,-1):\n",
        "    print(n-j,end=\" \")\n",
        "  print()"
      ],
      "execution_count": 22,
      "outputs": [
        {
          "output_type": "stream",
          "text": [
            "Enter The Number of Rows: 8\n",
            "8 \n",
            "7 8 \n",
            "6 7 8 \n",
            "5 6 7 8 \n",
            "4 5 6 7 8 \n",
            "3 4 5 6 7 8 \n",
            "2 3 4 5 6 7 8 \n",
            "1 2 3 4 5 6 7 8 \n"
          ],
          "name": "stdout"
        }
      ]
    }
  ]
}