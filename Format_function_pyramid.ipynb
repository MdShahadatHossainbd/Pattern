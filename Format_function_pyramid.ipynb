{
  "nbformat": 4,
  "nbformat_minor": 0,
  "metadata": {
    "colab": {
      "name": "Format function pyramid.ipynb",
      "provenance": [],
      "authorship_tag": "ABX9TyMO3+w0qLjMtPTSmB+8UssP",
      "include_colab_link": true
    },
    "kernelspec": {
      "name": "python3",
      "display_name": "Python 3"
    }
  },
  "cells": [
    {
      "cell_type": "markdown",
      "metadata": {
        "id": "view-in-github",
        "colab_type": "text"
      },
      "source": [
        "<a href=\"https://colab.research.google.com/github/MdShahadatHossainbd/Pattern/blob/master/Format_function_pyramid.ipynb\" target=\"_parent\"><img src=\"https://colab.research.google.com/assets/colab-badge.svg\" alt=\"Open In Colab\"/></a>"
      ]
    },
    {
      "cell_type": "code",
      "metadata": {
        "id": "9VYZffRmynLy",
        "outputId": "3922953c-4316-4fdc-95d7-799c14217130",
        "colab": {
          "base_uri": "https://localhost:8080/"
        }
      },
      "source": [
        "num = int(input(\"Enter the Number: \"))\n",
        "for i in range(1,num+1):\n",
        "  for j in range(1,num-i+1):\n",
        "    print(end=\" \")\n",
        "  for j in range(i,0,-1):\n",
        "    print(j,end=\"\")\n",
        "  for j in range(2,i+1):\n",
        "    print(j,end=\"\")   \n",
        "  print()"
      ],
      "execution_count": 1,
      "outputs": [
        {
          "output_type": "stream",
          "text": [
            "Enter the Number: 6\n",
            "     1\n",
            "    212\n",
            "   32123\n",
            "  4321234\n",
            " 543212345\n",
            "65432123456\n"
          ],
          "name": "stdout"
        }
      ]
    },
    {
      "cell_type": "code",
      "metadata": {
        "id": "tR4vYFlD-A8L",
        "outputId": "be9e32e9-24de-4f9e-8774-ef0ef550bed9",
        "colab": {
          "base_uri": "https://localhost:8080/"
        }
      },
      "source": [
        "num = int(input(\"Enter the Number: \"))\n",
        "for i in range(1,num+1):\n",
        "  for j in range(1,num-i+1):\n",
        "    print(format(\" \",\"<3\"),end=\" \")\n",
        "  for j in range(i,0,-1):\n",
        "    print(format(j,\"<3\"),end=\"\")\n",
        "  for j in range(2,i+1):\n",
        "    print(format(j,\"<3\"),end=\"\")   \n",
        "  print()"
      ],
      "execution_count": 3,
      "outputs": [
        {
          "output_type": "stream",
          "text": [
            "Enter the Number: 7\n",
            "                        1  \n",
            "                    2  1  2  \n",
            "                3  2  1  2  3  \n",
            "            4  3  2  1  2  3  4  \n",
            "        5  4  3  2  1  2  3  4  5  \n",
            "    6  5  4  3  2  1  2  3  4  5  6  \n",
            "7  6  5  4  3  2  1  2  3  4  5  6  7  \n"
          ],
          "name": "stdout"
        }
      ]
    },
    {
      "cell_type": "code",
      "metadata": {
        "id": "aYn1VPWh-9Ks",
        "outputId": "fd9327c1-a3de-463a-ddfe-8453bda13a6e",
        "colab": {
          "base_uri": "https://localhost:8080/"
        }
      },
      "source": [
        "num = int(input(\"Enter the Number: \"))\n",
        "n = 1\n",
        "for i in range(num):\n",
        "  for j in range(num-i-1):\n",
        "    print(format(\" \",\"<3\"),end=\"\")\n",
        "  for j in range(i+1):\n",
        "    print(format(n,\"<6\"),end=\"\")\n",
        "  print()"
      ],
      "execution_count": 4,
      "outputs": [
        {
          "output_type": "stream",
          "text": [
            "Enter the Number: 8\n",
            "                     1     \n",
            "                  1     1     \n",
            "               1     1     1     \n",
            "            1     1     1     1     \n",
            "         1     1     1     1     1     \n",
            "      1     1     1     1     1     1     \n",
            "   1     1     1     1     1     1     1     \n",
            "1     1     1     1     1     1     1     1     \n"
          ],
          "name": "stdout"
        }
      ]
    },
    {
      "cell_type": "code",
      "metadata": {
        "id": "3w33lwvj_fLB",
        "outputId": "681e03cf-b751-4c0c-d150-01c54d13a413",
        "colab": {
          "base_uri": "https://localhost:8080/"
        }
      },
      "source": [
        "num = int(input(\"Enter the Number: \"))\n",
        "n = 1\n",
        "for i in range(num):\n",
        "  for j in range(num-i-1):\n",
        "    print(format(\" \",\"<3\"),end=\"\")\n",
        "  for j in range(i+1):\n",
        "    print(format(n,\"<6\"),end=\"\")\n",
        "    n =n + 1\n",
        "  print()"
      ],
      "execution_count": 5,
      "outputs": [
        {
          "output_type": "stream",
          "text": [
            "Enter the Number: 7\n",
            "                  1     \n",
            "               2     3     \n",
            "            4     5     6     \n",
            "         7     8     9     10    \n",
            "      11    12    13    14    15    \n",
            "   16    17    18    19    20    21    \n",
            "22    23    24    25    26    27    28    \n"
          ],
          "name": "stdout"
        }
      ]
    }
  ]
}