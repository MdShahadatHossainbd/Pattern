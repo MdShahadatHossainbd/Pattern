{
  "nbformat": 4,
  "nbformat_minor": 0,
  "metadata": {
    "colab": {
      "name": "Diamond Number Pattern.ipynb",
      "provenance": [],
      "authorship_tag": "ABX9TyN1tH3o7F4Fe+RWqzaElQN7",
      "include_colab_link": true
    },
    "kernelspec": {
      "name": "python3",
      "display_name": "Python 3"
    }
  },
  "cells": [
    {
      "cell_type": "markdown",
      "metadata": {
        "id": "view-in-github",
        "colab_type": "text"
      },
      "source": [
        "<a href=\"https://colab.research.google.com/github/MdShahadatHossainbd/Pattern/blob/master/Diamond_Number_Pattern.ipynb\" target=\"_parent\"><img src=\"https://colab.research.google.com/assets/colab-badge.svg\" alt=\"Open In Colab\"/></a>"
      ]
    },
    {
      "cell_type": "code",
      "metadata": {
        "colab": {
          "base_uri": "https://localhost:8080/"
        },
        "id": "rFneFVc9eNEL",
        "outputId": "ff3b5d85-6669-4519-9c3d-484a12412841"
      },
      "source": [
        "n = int(input(\"Enter The Rows: \"))\n",
        "for i in range(n):\n",
        "  k = i + 1\n",
        "  for j in range(n-i-1):\n",
        "    print(\" \",end=\" \")\n",
        "  for j in range(i+1):\n",
        "    print(k,end=\" \")\n",
        "    k =k - 1\n",
        "  print()"
      ],
      "execution_count": 8,
      "outputs": [
        {
          "output_type": "stream",
          "text": [
            "Enter The Rows: 5\n",
            "        1 \n",
            "      2 1 \n",
            "    3 2 1 \n",
            "  4 3 2 1 \n",
            "5 4 3 2 1 \n"
          ],
          "name": "stdout"
        }
      ]
    },
    {
      "cell_type": "code",
      "metadata": {
        "colab": {
          "base_uri": "https://localhost:8080/"
        },
        "id": "RARxNUoEZki5",
        "outputId": "8daa5c22-4d1c-49b7-a2ff-260167456aac"
      },
      "source": [
        "n = int(input(\"Enter The Rows: \"))\n",
        "for i in range(n):\n",
        "  k = i + 1\n",
        "  for j in range(n-i-1):\n",
        "    print(\" \",end=\"  \")\n",
        "  for j in range(i+1):\n",
        "    print(k,end=\" \")\n",
        "    k =k - 1\n",
        "  print()"
      ],
      "execution_count": 10,
      "outputs": [
        {
          "output_type": "stream",
          "text": [
            "Enter The Rows: 5\n",
            "            1 \n",
            "         2 1 \n",
            "      3 2 1 \n",
            "   4 3 2 1 \n",
            "5 4 3 2 1 \n"
          ],
          "name": "stdout"
        }
      ]
    },
    {
      "cell_type": "code",
      "metadata": {
        "colab": {
          "base_uri": "https://localhost:8080/"
        },
        "id": "0B_d7rPjcugH",
        "outputId": "82dc8a07-b0a1-4319-8c3f-92f2a5706277"
      },
      "source": [
        "n = int(input(\"Enter The Rows: \"))\n",
        "for i in range(n):\n",
        "  k = i + 1\n",
        "  for j in range(n-i-1):\n",
        "    print(\" \",end=\"  \")\n",
        "  for j in range(i+1):\n",
        "    print(k,end=\" \")\n",
        "    k =k - 1\n",
        "\n",
        "  if i > 0:\n",
        "      for j in range(i-1):\n",
        "        print(\" \",end=\" \")\n",
        "      for j in range(i+1):\n",
        "        k = k + 1\n",
        "        print(k,end=\" \")\n",
        "  print()\n",
        "\n"
      ],
      "execution_count": 11,
      "outputs": [
        {
          "output_type": "stream",
          "text": [
            "Enter The Rows: 5\n",
            "            1 \n",
            "         2 1 1 2 \n",
            "      3 2 1   1 2 3 \n",
            "   4 3 2 1     1 2 3 4 \n",
            "5 4 3 2 1       1 2 3 4 5 \n"
          ],
          "name": "stdout"
        }
      ]
    },
    {
      "cell_type": "code",
      "metadata": {
        "colab": {
          "base_uri": "https://localhost:8080/"
        },
        "id": "h1sbJ3oneisR",
        "outputId": "e6cbb672-142a-4177-95fb-8d380c9e3cce"
      },
      "source": [
        "n = int(input(\"Enter The Rows: \"))\n",
        "for i in range(n):\n",
        "  k = i + 1\n",
        "  for j in range(n-i-1):\n",
        "    print(\" \",end=\"  \")\n",
        "  for j in range(i+1):\n",
        "    print(k,end=\" \")\n",
        "    k =k - 1\n",
        "  if i > 0:\n",
        "      for j in range(i-1):\n",
        "        print(\" \",end=\" \")\n",
        "      for j in range(i+1):\n",
        "        k = k + 1\n",
        "        print(k,end=\" \")\n",
        "  print()\n",
        "\n",
        "for i in range(1,n):\n",
        "  k = n - i\n",
        "  for j in range(i):\n",
        "    print(\" \",end=\"  \")\n",
        "  for j in range(n-i):\n",
        "    print(k,end=\" \")\n",
        "    k =k - 1\n",
        "  if i<(n-1):\n",
        "     for j in range(n-i-2):\n",
        "       print(\" \",end=\" \")\n",
        "     for j in range(n-i):\n",
        "       k = k + 1\n",
        "       print(k,end=\" \")\n",
        "  print()\n",
        "\n"
      ],
      "execution_count": 30,
      "outputs": [
        {
          "output_type": "stream",
          "text": [
            "Enter The Rows: 5\n",
            "            1 \n",
            "         2 1 1 2 \n",
            "      3 2 1   1 2 3 \n",
            "   4 3 2 1     1 2 3 4 \n",
            "5 4 3 2 1       1 2 3 4 5 \n",
            "   4 3 2 1     1 2 3 4 \n",
            "      3 2 1   1 2 3 \n",
            "         2 1 1 2 \n",
            "            1 \n"
          ],
          "name": "stdout"
        }
      ]
    }
  ]
}