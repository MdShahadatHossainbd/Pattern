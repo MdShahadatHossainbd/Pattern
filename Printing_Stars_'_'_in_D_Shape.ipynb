{
  "nbformat": 4,
  "nbformat_minor": 0,
  "metadata": {
    "colab": {
      "name": "Printing Stars '*' in D Shape.ipynb",
      "provenance": [],
      "authorship_tag": "ABX9TyOq6WR0FsjyKcnnG1HHTd1b",
      "include_colab_link": true
    },
    "kernelspec": {
      "name": "python3",
      "display_name": "Python 3"
    }
  },
  "cells": [
    {
      "cell_type": "markdown",
      "metadata": {
        "id": "view-in-github",
        "colab_type": "text"
      },
      "source": [
        "<a href=\"https://colab.research.google.com/github/MdShahadatHossainbd/Pattern/blob/master/Printing_Stars_'_'_in_D_Shape.ipynb\" target=\"_parent\"><img src=\"https://colab.research.google.com/assets/colab-badge.svg\" alt=\"Open In Colab\"/></a>"
      ]
    },
    {
      "cell_type": "code",
      "metadata": {
        "id": "TbIWh6eQ_Kor",
        "colab_type": "code",
        "colab": {
          "base_uri": "https://localhost:8080/",
          "height": 146
        },
        "outputId": "ac0ec68f-1e32-4d77-a42c-4ef690357558"
      },
      "source": [
        "\n",
        "\n",
        "for row in range(7):\n",
        "  for col in range(5):\n",
        "    if (col==0) or (col==4 and (row != 0 and row != 6)) or ((row == 0 or row == 6) and (col>0 and col < 4 )):\n",
        "      print(\"*\", end=\"\")\n",
        "    else:\n",
        "      print(end=\" \")\n",
        "  print()\n",
        "\n"
      ],
      "execution_count": 6,
      "outputs": [
        {
          "output_type": "stream",
          "text": [
            "**** \n",
            "*   *\n",
            "*   *\n",
            "*   *\n",
            "*   *\n",
            "*   *\n",
            "**** \n"
          ],
          "name": "stdout"
        }
      ]
    }
  ]
}