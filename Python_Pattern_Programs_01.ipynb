{
  "nbformat": 4,
  "nbformat_minor": 0,
  "metadata": {
    "colab": {
      "name": "Python Pattern Programs 01.ipynb",
      "provenance": [],
      "authorship_tag": "ABX9TyOvconlMAiWo1dJaBPMcxjh",
      "include_colab_link": true
    },
    "kernelspec": {
      "name": "python3",
      "display_name": "Python 3"
    }
  },
  "cells": [
    {
      "cell_type": "markdown",
      "metadata": {
        "id": "view-in-github",
        "colab_type": "text"
      },
      "source": [
        "<a href=\"https://colab.research.google.com/github/MdShahadatHossainbd/Pattern/blob/master/Python_Pattern_Programs_01.ipynb\" target=\"_parent\"><img src=\"https://colab.research.google.com/assets/colab-badge.svg\" alt=\"Open In Colab\"/></a>"
      ]
    },
    {
      "cell_type": "code",
      "metadata": {
        "id": "GMKCYfdAlCUJ",
        "colab_type": "code",
        "colab": {
          "base_uri": "https://localhost:8080/",
          "height": 127
        },
        "outputId": "8b319ed0-1375-4840-8415-ed079d005e63"
      },
      "source": [
        "# Printing Stars '*' in Right Angle Triangle Shape\n",
        "\n",
        "num = int(input(\"Enter the number of rows\"))\n",
        "for i in range(1, num+1):\n",
        "  for j in range(1, i+1):\n",
        "    print(\"*\",end=\"\")\n",
        "  print()"
      ],
      "execution_count": null,
      "outputs": [
        {
          "output_type": "stream",
          "text": [
            "Enter the number of rows5\n",
            "*\n",
            "**\n",
            "***\n",
            "****\n",
            "*****\n"
          ],
          "name": "stdout"
        }
      ]
    },
    {
      "cell_type": "code",
      "metadata": {
        "id": "FH9LmPS6nST2",
        "colab_type": "code",
        "colab": {
          "base_uri": "https://localhost:8080/",
          "height": 164
        },
        "outputId": "67b95326-dfb1-4a0b-aee6-f2593f580195"
      },
      "source": [
        "num = int(input(\"Enter the number of rows \"))\n",
        "for i in range(1, num+1):\n",
        "  for j in range(1, i+1):\n",
        "    print(\"a\",end=\"\")\n",
        "  print()"
      ],
      "execution_count": null,
      "outputs": [
        {
          "output_type": "stream",
          "text": [
            "Enter the number of rows 7\n",
            "a\n",
            "aa\n",
            "aaa\n",
            "aaaa\n",
            "aaaaa\n",
            "aaaaaa\n",
            "aaaaaaa\n"
          ],
          "name": "stdout"
        }
      ]
    },
    {
      "cell_type": "code",
      "metadata": {
        "id": "vgqVHmdFonGJ",
        "colab_type": "code",
        "colab": {
          "base_uri": "https://localhost:8080/",
          "height": 184
        },
        "outputId": "ee84d1af-64e5-4569-aa1d-ede9c7387af8"
      },
      "source": [
        "num = int(input(\"Enter the number of rows \"))\n",
        "k = 1\n",
        "for i in range(1, num+1):\n",
        "  for j in range(1, k+1):\n",
        "    print(\"s\",end=\"\")\n",
        "    k = k + 2\n",
        "  print()"
      ],
      "execution_count": null,
      "outputs": [
        {
          "output_type": "stream",
          "text": [
            "Enter the number of rows 7\n",
            "s\n",
            "sss\n",
            "sssssssss\n",
            "sssssssssssssssssssssssssss\n",
            "sssssssssssssssssssssssssssssssssssssssssssssssssssssssssssssssssssssssssssssssss\n",
            "sssssssssssssssssssssssssssssssssssssssssssssssssssssssssssssssssssssssssssssssssssssssssssssssssssssssssssssssssssssssssssssssssssssssssssssssssssssssssssssssssssssssssssssssssssssssssssssssssssssssssssssssssssssssssssssssssssssssssssssssssss\n",
            "sssssssssssssssssssssssssssssssssssssssssssssssssssssssssssssssssssssssssssssssssssssssssssssssssssssssssssssssssssssssssssssssssssssssssssssssssssssssssssssssssssssssssssssssssssssssssssssssssssssssssssssssssssssssssssssssssssssssssssssssssssssssssssssssssssssssssssssssssssssssssssssssssssssssssssssssssssssssssssssssssssssssssssssssssssssssssssssssssssssssssssssssssssssssssssssssssssssssssssssssssssssssssssssssssssssssssssssssssssssssssssssssssssssssssssssssssssssssssssssssssssssssssssssssssssssssssssssssssssssssssssssssssssssssssssssssssssssssssssssssssssssssssssssssssssssssssssssssssssssssssssssssssssssssssssssssssssssssssssssssssssssssssssssssssssssssssssssssssssssssssssssssssssssssssssssssssssssssssssssssssssssssss\n"
          ],
          "name": "stdout"
        }
      ]
    },
    {
      "cell_type": "code",
      "metadata": {
        "id": "VjjRPdHlpSQH",
        "colab_type": "code",
        "colab": {
          "base_uri": "https://localhost:8080/",
          "height": 164
        },
        "outputId": "394a5ee9-db5d-4f70-f77a-3e155d806fa3"
      },
      "source": [
        "#Printing Stars '*' in Pyramid Shape\n",
        "\n",
        "num = int(input(\"Enter the number of rows \"))\n",
        "for i in range(0, num):\n",
        "  for j in range(0, num-i-1):\n",
        "    print(end=\" \")\n",
        "  for j in range(0, i+1): \n",
        "    print(\"*\",end=\" \")\n",
        "  print()"
      ],
      "execution_count": null,
      "outputs": [
        {
          "output_type": "stream",
          "text": [
            "Enter the number of rows 7\n",
            "      * \n",
            "     * * \n",
            "    * * * \n",
            "   * * * * \n",
            "  * * * * * \n",
            " * * * * * * \n",
            "* * * * * * * \n"
          ],
          "name": "stdout"
        }
      ]
    },
    {
      "cell_type": "code",
      "metadata": {
        "id": "OJNpE3NqvUHw",
        "colab_type": "code",
        "colab": {
          "base_uri": "https://localhost:8080/",
          "height": 164
        },
        "outputId": "008316a1-8aa0-4857-d92a-3c886cb92b36"
      },
      "source": [
        "num = int(input(\"Enter the number of rows \"))\n",
        "for i in range(0, num):\n",
        "  for j in range(0, num-i-1):\n",
        "    print(end=\"\") #space change pattern\n",
        "  for j in range(0, i+1): \n",
        "    print(\"*\",end=\" \")\n",
        "  print()"
      ],
      "execution_count": null,
      "outputs": [
        {
          "output_type": "stream",
          "text": [
            "Enter the number of rows 7\n",
            "* \n",
            "* * \n",
            "* * * \n",
            "* * * * \n",
            "* * * * * \n",
            "* * * * * * \n",
            "* * * * * * * \n"
          ],
          "name": "stdout"
        }
      ]
    },
    {
      "cell_type": "code",
      "metadata": {
        "id": "HMnqUEYuvaZI",
        "colab_type": "code",
        "colab": {
          "base_uri": "https://localhost:8080/",
          "height": 164
        },
        "outputId": "72813c63-7204-43f9-adf7-bdab0aab2ec8"
      },
      "source": [
        "num = int(input(\"Enter the number of rows \"))\n",
        "for i in range(0, num):\n",
        "  for j in range(0, num-i-1):\n",
        "    print(end=\" \")\n",
        "  for j in range(0, i+1): \n",
        "    print(\"*\",end=\"\") #space change pattern\n",
        "  print()"
      ],
      "execution_count": null,
      "outputs": [
        {
          "output_type": "stream",
          "text": [
            "Enter the number of rows 7\n",
            "      *\n",
            "     **\n",
            "    ***\n",
            "   ****\n",
            "  *****\n",
            " ******\n",
            "*******\n"
          ],
          "name": "stdout"
        }
      ]
    },
    {
      "cell_type": "code",
      "metadata": {
        "id": "OByVRpNOt_zx",
        "colab_type": "code",
        "colab": {
          "base_uri": "https://localhost:8080/",
          "height": 127
        },
        "outputId": "feda3df5-523d-42df-ec79-2f2122ff79af"
      },
      "source": [
        "raw=int(input(\"enter the number of raw \"))\n",
        "s=raw-1\n",
        "for num in range(1,raw):\n",
        " print(\" \"*s,\"* \"*num)\n",
        " s-=1\n"
      ],
      "execution_count": null,
      "outputs": [
        {
          "output_type": "stream",
          "text": [
            "enter the number of raw 6\n",
            "      * \n",
            "     * * \n",
            "    * * * \n",
            "   * * * * \n",
            "  * * * * * \n"
          ],
          "name": "stdout"
        }
      ]
    },
    {
      "cell_type": "code",
      "metadata": {
        "id": "uCaCdOfsuCqu",
        "colab_type": "code",
        "colab": {
          "base_uri": "https://localhost:8080/",
          "height": 109
        },
        "outputId": "6c7a483e-421c-4e69-90a1-9e5c8404ef1f"
      },
      "source": [
        "raw=int(input(\"enter number of raw \"))\n",
        "num=1\n",
        "s=raw-1\n",
        "while num<raw:\n",
        "\n",
        "  print( \" \"*s,\"* \"*num)\n",
        "\n",
        "  num+=1\n",
        "  s-=1"
      ],
      "execution_count": null,
      "outputs": [
        {
          "output_type": "stream",
          "text": [
            "enter number of raw 5\n",
            "     * \n",
            "    * * \n",
            "   * * * \n",
            "  * * * * \n"
          ],
          "name": "stdout"
        }
      ]
    },
    {
      "cell_type": "code",
      "metadata": {
        "id": "m1_wkZiCrW3n",
        "colab_type": "code",
        "colab": {
          "base_uri": "https://localhost:8080/",
          "height": 127
        },
        "outputId": "a5e20fd7-7d0d-4385-f889-bfc52966cd3a"
      },
      "source": [
        "n = int(input(\"number: \"))\n",
        "for i in range(n):\n",
        "    print(\" \"*(n-1-i)+\"* \"*(i+1))"
      ],
      "execution_count": null,
      "outputs": [
        {
          "output_type": "stream",
          "text": [
            "number: 5\n",
            "    * \n",
            "   * * \n",
            "  * * * \n",
            " * * * * \n",
            "* * * * * \n"
          ],
          "name": "stdout"
        }
      ]
    },
    {
      "cell_type": "code",
      "metadata": {
        "id": "z77CVCOq8fmm",
        "colab_type": "code",
        "colab": {
          "base_uri": "https://localhost:8080/",
          "height": 127
        },
        "outputId": "043145f8-3381-4366-a0a6-0fdb1aeb8677"
      },
      "source": [
        "n = int(input(\"number: \"))\n",
        "for i in range(n):\n",
        "    print(\" \"*(n-1-i)+\"* \"*(i+1))"
      ],
      "execution_count": 2,
      "outputs": [
        {
          "output_type": "stream",
          "text": [
            "number: 5\n",
            "    * \n",
            "   * * \n",
            "  * * * \n",
            " * * * * \n",
            "* * * * * \n"
          ],
          "name": "stdout"
        }
      ]
    },
    {
      "cell_type": "code",
      "metadata": {
        "id": "TVFzFknavF51",
        "colab_type": "code",
        "colab": {
          "base_uri": "https://localhost:8080/",
          "height": 164
        },
        "outputId": "a4fd3d55-4746-424d-8470-3f60ccdfc154"
      },
      "source": [
        "n=int(input(\"enter the number of rows:\"))\n",
        "\n",
        "for i in range(n+1):\n",
        "\n",
        "  print(\" \"*(n-i)+\"* \"*(i))"
      ],
      "execution_count": null,
      "outputs": [
        {
          "output_type": "stream",
          "text": [
            "enter the number of rows:6\n",
            "      \n",
            "     * \n",
            "    * * \n",
            "   * * * \n",
            "  * * * * \n",
            " * * * * * \n",
            "* * * * * * \n"
          ],
          "name": "stdout"
        }
      ]
    },
    {
      "cell_type": "code",
      "metadata": {
        "id": "LqTgB4k8v2KQ",
        "colab_type": "code",
        "colab": {
          "base_uri": "https://localhost:8080/",
          "height": 127
        },
        "outputId": "4e9053e9-2dfc-4a32-89f9-4a3724263101"
      },
      "source": [
        "n = int(input(\"number of rows:\"))\n",
        "num=1\n",
        "for i in range(n):\n",
        "  for j in range(n-i-1):\n",
        "    print(\"_\",end=\"\")\n",
        "  for j in range(i+1):\n",
        "    print(num,end=\"_\")\n",
        "    num=num+1\n",
        "  print() "
      ],
      "execution_count": null,
      "outputs": [
        {
          "output_type": "stream",
          "text": [
            "number of rows:5\n",
            "____1_\n",
            "___2_3_\n",
            "__4_5_6_\n",
            "_7_8_9_10_\n",
            "11_12_13_14_15_\n"
          ],
          "name": "stdout"
        }
      ]
    },
    {
      "cell_type": "code",
      "metadata": {
        "id": "c7nkENuuwKex",
        "colab_type": "code",
        "colab": {
          "base_uri": "https://localhost:8080/",
          "height": 35
        },
        "outputId": "2f62ad26-5769-42e5-f180-c1936b117108"
      },
      "source": [
        "rows = int(input(\"number of rows:\"))\n",
        "def pyramid(rows):\n",
        "\n",
        "    for i in range(rows):\n",
        "\n",
        "        print(' '*(rows-i-1)+(\"*\"+' ')*(i+1))"
      ],
      "execution_count": null,
      "outputs": [
        {
          "output_type": "stream",
          "text": [
            "number of rows:4\n"
          ],
          "name": "stdout"
        }
      ]
    }
  ]
}