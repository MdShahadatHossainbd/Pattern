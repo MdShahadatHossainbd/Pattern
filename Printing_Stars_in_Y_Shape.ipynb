{
  "nbformat": 4,
  "nbformat_minor": 0,
  "metadata": {
    "colab": {
      "name": "Printing Stars in Y Shape.ipynb",
      "provenance": [],
      "authorship_tag": "ABX9TyPQjaYy9s2WXppKOWVYjZRE",
      "include_colab_link": true
    },
    "kernelspec": {
      "name": "python3",
      "display_name": "Python 3"
    }
  },
  "cells": [
    {
      "cell_type": "markdown",
      "metadata": {
        "id": "view-in-github",
        "colab_type": "text"
      },
      "source": [
        "<a href=\"https://colab.research.google.com/github/MdShahadatHossainbd/Pattern/blob/master/Printing_Stars_in_Y_Shape.ipynb\" target=\"_parent\"><img src=\"https://colab.research.google.com/assets/colab-badge.svg\" alt=\"Open In Colab\"/></a>"
      ]
    },
    {
      "cell_type": "code",
      "metadata": {
        "id": "gARfLTU16IVD",
        "outputId": "275751de-9790-462c-85d9-b103656550b4",
        "colab": {
          "base_uri": "https://localhost:8080/",
          "height": 109
        }
      },
      "source": [
        "for row in range(5):\n",
        "    for col in range(5):\n",
        "        if (col == 2 and row > 1) or (row == col and col < 2) or (row == 0 and col == 4) or (row == 1 and col == 3):\n",
        "         print(\"*\",end=\"\")\n",
        "        else:\n",
        "         print(end=\" \" )\n",
        "    print()"
      ],
      "execution_count": 2,
      "outputs": [
        {
          "output_type": "stream",
          "text": [
            "*   *\n",
            " * * \n",
            "  *  \n",
            "  *  \n",
            "  *  \n"
          ],
          "name": "stdout"
        }
      ]
    }
  ]
}