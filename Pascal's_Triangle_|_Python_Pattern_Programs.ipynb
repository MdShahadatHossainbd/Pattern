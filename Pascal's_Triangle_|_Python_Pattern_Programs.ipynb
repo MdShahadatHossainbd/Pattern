{
  "nbformat": 4,
  "nbformat_minor": 0,
  "metadata": {
    "colab": {
      "name": "Pascal's Triangle | Python Pattern Programs.ipynb",
      "provenance": [],
      "authorship_tag": "ABX9TyOoA5hi+VHG8KMlBMz3Z/lV",
      "include_colab_link": true
    },
    "kernelspec": {
      "name": "python3",
      "display_name": "Python 3"
    }
  },
  "cells": [
    {
      "cell_type": "markdown",
      "metadata": {
        "id": "view-in-github",
        "colab_type": "text"
      },
      "source": [
        "<a href=\"https://colab.research.google.com/github/MdShahadatHossainbd/Pattern/blob/master/Pascal's_Triangle_%7C_Python_Pattern_Programs.ipynb\" target=\"_parent\"><img src=\"https://colab.research.google.com/assets/colab-badge.svg\" alt=\"Open In Colab\"/></a>"
      ]
    },
    {
      "cell_type": "code",
      "metadata": {
        "colab": {
          "base_uri": "https://localhost:8080/"
        },
        "id": "0nq7LLxAArdk",
        "outputId": "b2c8c169-7250-4a51-8d7e-24b25a19fa04"
      },
      "source": [
        "n = int(input(\"Enter The row: \"))\n",
        "list1 = []\n",
        "for i in range(n):\n",
        "  temp_list = []\n",
        "  for j in range(i + 1):\n",
        "    if j==0 or j == i:\n",
        "      temp_list.append(1)\n",
        "    else:\n",
        "      temp_list.append(list1[i-1][j-1]+list1[i-1][j])\n",
        "  list1.append(temp_list)\n",
        "#print(list1)\n",
        "\n",
        "for i in range(n):\n",
        "  for j in range(n-i-1):\n",
        "    print(\" \",end=\"\")\n",
        "  for j in range(i+1):\n",
        "    print(list1[i][j],end=\" \")\n",
        "  print()\n"
      ],
      "execution_count": 8,
      "outputs": [
        {
          "output_type": "stream",
          "text": [
            "Enter The row: 5\n",
            "    1 \n",
            "   1 1 \n",
            "  1 2 1 \n",
            " 1 3 3 1 \n",
            "1 4 6 4 1 \n"
          ],
          "name": "stdout"
        }
      ]
    }
  ]
}