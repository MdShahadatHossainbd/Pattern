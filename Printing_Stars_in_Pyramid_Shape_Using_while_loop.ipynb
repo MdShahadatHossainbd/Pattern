{
  "nbformat": 4,
  "nbformat_minor": 0,
  "metadata": {
    "colab": {
      "name": "Printing Stars in Pyramid Shape Using while loop.ipynb",
      "provenance": [],
      "authorship_tag": "ABX9TyMQRwWJmsvvN3/vFaJyFTlK",
      "include_colab_link": true
    },
    "kernelspec": {
      "name": "python3",
      "display_name": "Python 3"
    }
  },
  "cells": [
    {
      "cell_type": "markdown",
      "metadata": {
        "id": "view-in-github",
        "colab_type": "text"
      },
      "source": [
        "<a href=\"https://colab.research.google.com/github/MdShahadatHossainbd/Pattern/blob/master/Printing_Stars_in_Pyramid_Shape_Using_while_loop.ipynb\" target=\"_parent\"><img src=\"https://colab.research.google.com/assets/colab-badge.svg\" alt=\"Open In Colab\"/></a>"
      ]
    },
    {
      "cell_type": "code",
      "metadata": {
        "id": "nS_1azdvwt54"
      },
      "source": [
        "num = int(input(\"Enter The Number: \"))\n",
        "row = 0\n",
        "while row < num:\n",
        "  space = num - row - 1\n",
        "  while space > 0:\n",
        "    print(end=\" \")\n",
        "    space = space - 1\n",
        "  star = row + 1\n",
        "  while star > 0:\n",
        "    print(\"*\",end=\"\")\n",
        "    star =star - 1\n",
        "  row = row + 1\n",
        "  print() "
      ],
      "execution_count": null,
      "outputs": []
    }
  ]
}