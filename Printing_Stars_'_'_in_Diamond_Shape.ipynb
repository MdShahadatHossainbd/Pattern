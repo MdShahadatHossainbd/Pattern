{
  "nbformat": 4,
  "nbformat_minor": 0,
  "metadata": {
    "colab": {
      "name": "Printing Stars '*' in Diamond Shape.ipynb",
      "provenance": [],
      "authorship_tag": "ABX9TyM9UsNr1TSsgJjy36zKWjCg",
      "include_colab_link": true
    },
    "kernelspec": {
      "name": "python3",
      "display_name": "Python 3"
    }
  },
  "cells": [
    {
      "cell_type": "markdown",
      "metadata": {
        "id": "view-in-github",
        "colab_type": "text"
      },
      "source": [
        "<a href=\"https://colab.research.google.com/github/MdShahadatHossainbd/Pattern/blob/master/Printing_Stars_'_'_in_Diamond_Shape.ipynb\" target=\"_parent\"><img src=\"https://colab.research.google.com/assets/colab-badge.svg\" alt=\"Open In Colab\"/></a>"
      ]
    },
    {
      "cell_type": "code",
      "metadata": {
        "id": "Fpqm7zLerZ2a",
        "colab_type": "code",
        "colab": {
          "base_uri": "https://localhost:8080/",
          "height": 201
        },
        "outputId": "95da7b9c-904b-4dd2-9b14-d4a305cb4916"
      },
      "source": [
        "\n",
        "def pyramid(rows):\n",
        "  for i in range(rows):\n",
        "    print(\" \"*(rows-i-1)+\"* \"*(i+1))\n",
        "  for j in range(rows-1,0,-1):\n",
        "    print(\" \"*(rows-j)+\"* \"*(j))\n",
        "\n",
        "rows = int(input(\"Enter number of rows : \").strip())\n",
        "\n",
        "pyramid(rows)"
      ],
      "execution_count": 7,
      "outputs": [
        {
          "output_type": "stream",
          "text": [
            "Enter number of rows : 5\n",
            "    * \n",
            "   * * \n",
            "  * * * \n",
            " * * * * \n",
            "* * * * * \n",
            " * * * * \n",
            "  * * * \n",
            "   * * \n",
            "    * \n"
          ],
          "name": "stdout"
        }
      ]
    },
    {
      "cell_type": "code",
      "metadata": {
        "id": "60Fpxdg4yx27",
        "colab_type": "code",
        "colab": {
          "base_uri": "https://localhost:8080/",
          "height": 201
        },
        "outputId": "347e3c74-d284-4ad6-b550-2f2f93e6fe92"
      },
      "source": [
        "def pyramid(rows):\n",
        "\n",
        "    for i  in range(rows):\n",
        "\n",
        "        print(\" \"*(rows-i-1)+\"*\"*(2*i+1))\n",
        "\n",
        "    for j in range(rows-1,0,-1):\n",
        "\n",
        "        print(\" \"*(rows-j)+\"*\"*(2*j-1))\n",
        "\n",
        "\n",
        "\n",
        "rows = int(input(\"Enter number of rows : \").strip())\n",
        "\n",
        "pyramid(rows)"
      ],
      "execution_count": 6,
      "outputs": [
        {
          "output_type": "stream",
          "text": [
            "Enter number of rows : 5\n",
            "    *\n",
            "   ***\n",
            "  *****\n",
            " *******\n",
            "*********\n",
            " *******\n",
            "  *****\n",
            "   ***\n",
            "    *\n"
          ],
          "name": "stdout"
        }
      ]
    },
    {
      "cell_type": "code",
      "metadata": {
        "id": "shLrHb1ozWEP",
        "colab_type": "code",
        "colab": {
          "base_uri": "https://localhost:8080/",
          "height": 201
        },
        "outputId": "5a287105-9a89-48b0-f0d5-ffb3e5a1d393"
      },
      "source": [
        "def pyramid(rows):\n",
        "    for i in range(rows):\n",
        "        print(' '*(rows-i-1)+'* '*(i+1))\n",
        "    for j in range(rows-1,0,-1):\n",
        "        print(' '*(rows-j)+'* '*(j))\n",
        "    print()\n",
        "\n",
        "pyramid(5)"
      ],
      "execution_count": 9,
      "outputs": [
        {
          "output_type": "stream",
          "text": [
            "    * \n",
            "   * * \n",
            "  * * * \n",
            " * * * * \n",
            "* * * * * \n",
            " * * * * \n",
            "  * * * \n",
            "   * * \n",
            "    * \n",
            "\n"
          ],
          "name": "stdout"
        }
      ]
    },
    {
      "cell_type": "code",
      "metadata": {
        "id": "tw9sZfC3zqrG",
        "colab_type": "code",
        "colab": {
          "base_uri": "https://localhost:8080/",
          "height": 237
        },
        "outputId": "4a292806-2850-4c31-e1f6-2cc23d344233"
      },
      "source": [
        "rows=eval(input('Enter rows: '))\n",
        "for i in range(0,rows):\n",
        " if i==0:\n",
        "  print('7')\n",
        " elif i==rows-1:\n",
        "  print('7'*(2*i+1))\n",
        " else:\n",
        "  print('6'*i+'7'+'6'*i)\n",
        "for i in range(rows-2,-1,-1):\n",
        " if i==0:\n",
        "  print('7')\n",
        " else:\n",
        "  print('6'*i+'7'+'6'*i)"
      ],
      "execution_count": 10,
      "outputs": [
        {
          "output_type": "stream",
          "text": [
            "Enter rows: 6\n",
            "7\n",
            "676\n",
            "66766\n",
            "6667666\n",
            "666676666\n",
            "77777777777\n",
            "666676666\n",
            "6667666\n",
            "66766\n",
            "676\n",
            "7\n"
          ],
          "name": "stdout"
        }
      ]
    }
  ]
}