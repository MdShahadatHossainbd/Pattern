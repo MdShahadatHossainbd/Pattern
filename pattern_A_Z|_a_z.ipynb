{
  "nbformat": 4,
  "nbformat_minor": 0,
  "metadata": {
    "colab": {
      "name": "pattern A - Z| a - z.ipynb",
      "provenance": [],
      "authorship_tag": "ABX9TyPj2yAd6nnOaxXIU6SMV9W+",
      "include_colab_link": true
    },
    "kernelspec": {
      "name": "python3",
      "display_name": "Python 3"
    }
  },
  "cells": [
    {
      "cell_type": "markdown",
      "metadata": {
        "id": "view-in-github",
        "colab_type": "text"
      },
      "source": [
        "<a href=\"https://colab.research.google.com/github/MdShahadatHossainbd/Pattern/blob/master/pattern_A_Z%7C_a_z.ipynb\" target=\"_parent\"><img src=\"https://colab.research.google.com/assets/colab-badge.svg\" alt=\"Open In Colab\"/></a>"
      ]
    },
    {
      "cell_type": "code",
      "metadata": {
        "colab": {
          "base_uri": "https://localhost:8080/"
        },
        "id": "HzL-PO-XTDe2",
        "outputId": "bbb79cd9-d4e8-47c0-b806-af5dee96fb27"
      },
      "source": [
        "ch = 65\n",
        "for i in range(7):\n",
        "  for j in range(i+1):\n",
        "    print(chr(ch),end=\"\")\n",
        "    ch = ch+1\n",
        "  print()"
      ],
      "execution_count": 4,
      "outputs": [
        {
          "output_type": "stream",
          "text": [
            "A\n",
            "BC\n",
            "DEF\n",
            "GHIJ\n",
            "KLMNO\n",
            "PQRSTU\n",
            "VWXYZ[\\\n"
          ],
          "name": "stdout"
        }
      ]
    },
    {
      "cell_type": "code",
      "metadata": {
        "colab": {
          "base_uri": "https://localhost:8080/"
        },
        "id": "SP1i3MTmUDz3",
        "outputId": "3a3171b3-f395-4480-a801-a3b516af3db4"
      },
      "source": [
        "ch = 65\n",
        "for i in range(26):\n",
        "  for j in range(i+1):\n",
        "    print(chr(ch),end=\"\")\n",
        "    ch = ch+1\n",
        "    break\n",
        "  print()"
      ],
      "execution_count": 9,
      "outputs": [
        {
          "output_type": "stream",
          "text": [
            "A\n",
            "B\n",
            "C\n",
            "D\n",
            "E\n",
            "F\n",
            "G\n",
            "H\n",
            "I\n",
            "J\n",
            "K\n",
            "L\n",
            "M\n",
            "N\n",
            "O\n",
            "P\n",
            "Q\n",
            "R\n",
            "S\n",
            "T\n",
            "U\n",
            "V\n",
            "W\n",
            "X\n",
            "Y\n",
            "Z\n"
          ],
          "name": "stdout"
        }
      ]
    },
    {
      "cell_type": "code",
      "metadata": {
        "colab": {
          "base_uri": "https://localhost:8080/"
        },
        "id": "7TplNiNmT5PQ",
        "outputId": "d0429d25-a644-4870-eff1-1627da7d6ea7"
      },
      "source": [
        "ch = 97\n",
        "for i in range(7):\n",
        "  for j in range(i+1):\n",
        "    print(chr(ch),end=\"\")\n",
        "    ch = ch+1\n",
        "  print()"
      ],
      "execution_count": 8,
      "outputs": [
        {
          "output_type": "stream",
          "text": [
            "a\n",
            "bc\n",
            "def\n",
            "ghij\n",
            "klmno\n",
            "pqrstu\n",
            "vwxyz{|\n"
          ],
          "name": "stdout"
        }
      ]
    },
    {
      "cell_type": "code",
      "metadata": {
        "colab": {
          "base_uri": "https://localhost:8080/"
        },
        "id": "sQZGQWwiTg3a",
        "outputId": "d359dbb1-cea4-4a72-bd62-27389dee3b50"
      },
      "source": [
        "ch = 97\n",
        "for i in range(26):\n",
        "  for j in range(i+1):\n",
        "    print(chr(ch),end=\"\")\n",
        "    ch = ch+1\n",
        "    break\n",
        "  print()"
      ],
      "execution_count": 7,
      "outputs": [
        {
          "output_type": "stream",
          "text": [
            "a\n",
            "b\n",
            "c\n",
            "d\n",
            "e\n",
            "f\n",
            "g\n",
            "h\n",
            "i\n",
            "j\n",
            "k\n",
            "l\n",
            "m\n",
            "n\n",
            "o\n",
            "p\n",
            "q\n",
            "r\n",
            "s\n",
            "t\n",
            "u\n",
            "v\n",
            "w\n",
            "x\n",
            "y\n",
            "z\n"
          ],
          "name": "stdout"
        }
      ]
    }
  ]
}