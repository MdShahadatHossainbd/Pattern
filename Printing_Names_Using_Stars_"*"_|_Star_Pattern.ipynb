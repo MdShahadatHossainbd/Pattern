{
  "nbformat": 4,
  "nbformat_minor": 0,
  "metadata": {
    "colab": {
      "name": "Printing Names Using Stars \"*\" | Star Pattern.ipynb",
      "provenance": [],
      "authorship_tag": "ABX9TyP0Nj9YmInvGJFqZ2K4kqj4",
      "include_colab_link": true
    },
    "kernelspec": {
      "name": "python3",
      "display_name": "Python 3"
    }
  },
  "cells": [
    {
      "cell_type": "markdown",
      "metadata": {
        "id": "view-in-github",
        "colab_type": "text"
      },
      "source": [
        "<a href=\"https://colab.research.google.com/github/MdShahadatHossainbd/Pattern/blob/master/Printing_Names_Using_Stars_%22*%22_%7C_Star_Pattern.ipynb\" target=\"_parent\"><img src=\"https://colab.research.google.com/assets/colab-badge.svg\" alt=\"Open In Colab\"/></a>"
      ]
    },
    {
      "cell_type": "code",
      "metadata": {
        "id": "mmk6_ABw1MWq",
        "outputId": "5abd2eb9-2a71-4b1f-8e21-ff897fb6aa54",
        "colab": {
          "base_uri": "https://localhost:8080/"
        }
      },
      "source": [
        "str1 = \"NO\"\n",
        "print_N = [[\" \" for i in range(6)] for j in range(6)] \n",
        "print_O = [[\" \" for i in range(6)] for j in range(6)] \n",
        "\n",
        "# Code for N\n",
        "for row in range(6):\n",
        "  for col in range(6):\n",
        "    if col == 0 or col == 5 or row == col:\n",
        "      print_N[row][col] = \"*\" \n",
        "\n",
        "# Code for O\n",
        "for row in range(6):\n",
        "  for col in range(6):\n",
        "    if ((row == 0 or row ==5) and (col != 0 and col != 5)) or (col == 0 or col == 5) and (row != 0 and row != 5):\n",
        "      print_O[row][col] = \"*\" \n",
        "\n",
        "for i in range(6):\n",
        "  for j in range(6):\n",
        "    print(print_N[i][j], end=\" \")\n",
        "  print(end=\"  \")\n",
        "  for j in range(6):\n",
        "    print(print_O[i][j], end=\" \")\n",
        "  print()"
      ],
      "execution_count": 2,
      "outputs": [
        {
          "output_type": "stream",
          "text": [
            "*         *     * * * *   \n",
            "* *       *   *         * \n",
            "*   *     *   *         * \n",
            "*     *   *   *         * \n",
            "*       * *   *         * \n",
            "*         *     * * * *   \n"
          ],
          "name": "stdout"
        }
      ]
    }
  ]
}