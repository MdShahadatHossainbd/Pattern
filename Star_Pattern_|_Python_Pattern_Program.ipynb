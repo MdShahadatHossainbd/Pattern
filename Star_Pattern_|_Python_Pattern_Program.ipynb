{
  "nbformat": 4,
  "nbformat_minor": 0,
  "metadata": {
    "colab": {
      "name": "Star Pattern | Python Pattern Program.ipynb",
      "provenance": [],
      "authorship_tag": "ABX9TyMP4YDI4Yhfu+fKbBvuQYPl",
      "include_colab_link": true
    },
    "kernelspec": {
      "name": "python3",
      "display_name": "Python 3"
    }
  },
  "cells": [
    {
      "cell_type": "markdown",
      "metadata": {
        "id": "view-in-github",
        "colab_type": "text"
      },
      "source": [
        "<a href=\"https://colab.research.google.com/github/MdShahadatHossainbd/Pattern/blob/master/Star_Pattern_%7C_Python_Pattern_Program.ipynb\" target=\"_parent\"><img src=\"https://colab.research.google.com/assets/colab-badge.svg\" alt=\"Open In Colab\"/></a>"
      ]
    },
    {
      "cell_type": "code",
      "metadata": {
        "colab": {
          "base_uri": "https://localhost:8080/"
        },
        "id": "ifz-ZNovKdCP",
        "outputId": "910cb549-e0bf-4e81-e602-14d2dca34ed7"
      },
      "source": [
        "n = int(input(\"Number of rows(>5): \"))\n",
        "col = n+n-5\n",
        "mid = col//2\n",
        "for i in range(n):\n",
        "  for j in range(col):\n",
        "    if i == 2 or i == (n-3) or i+j==mid or j-i==mid or i-j==2 or i+j==col+1:\n",
        "      print(\"*\",end=\"\")\n",
        "    else:\n",
        "      print(\" \",end=\"\")\n",
        "  print()\n"
      ],
      "execution_count": 4,
      "outputs": [
        {
          "output_type": "stream",
          "text": [
            "Number of rows: 13\n",
            "          *          \n",
            "         * *         \n",
            "*********************\n",
            " *     *     *     * \n",
            "  *   *       *   *  \n",
            "   * *         * *   \n",
            "    *           *    \n",
            "   * *         * *   \n",
            "  *   *       *   *  \n",
            " *     *     *     * \n",
            "*********************\n",
            "         * *         \n",
            "          *          \n"
          ],
          "name": "stdout"
        }
      ]
    }
  ]
}