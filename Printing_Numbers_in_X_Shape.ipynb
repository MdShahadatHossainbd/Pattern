{
  "nbformat": 4,
  "nbformat_minor": 0,
  "metadata": {
    "colab": {
      "name": " Printing Numbers in X Shape.ipynb",
      "provenance": [],
      "authorship_tag": "ABX9TyNrysKWlWFmPihWDoFiuGpO",
      "include_colab_link": true
    },
    "kernelspec": {
      "name": "python3",
      "display_name": "Python 3"
    }
  },
  "cells": [
    {
      "cell_type": "markdown",
      "metadata": {
        "id": "view-in-github",
        "colab_type": "text"
      },
      "source": [
        "<a href=\"https://colab.research.google.com/github/MdShahadatHossainbd/Pattern/blob/master/Printing_Numbers_in_X_Shape.ipynb\" target=\"_parent\"><img src=\"https://colab.research.google.com/assets/colab-badge.svg\" alt=\"Open In Colab\"/></a>"
      ]
    },
    {
      "cell_type": "code",
      "metadata": {
        "colab": {
          "base_uri": "https://localhost:8080/"
        },
        "id": "JG5aYeZcYm6E",
        "outputId": "50995e44-086b-4b71-bb11-98e52900ec40"
      },
      "source": [
        "num = input(\"Enter an odd length Number: \")\n",
        "length = len(num)\n",
        "for i in range(length):\n",
        "  for j in range(length):\n",
        "    if i == j or i + j == length - 1:\n",
        "      print(num[i],end=\" \")\n",
        "    else:\n",
        "      print(\" \",end=\" \")\n",
        "  print()"
      ],
      "execution_count": 6,
      "outputs": [
        {
          "output_type": "stream",
          "text": [
            "Enter an odd length Number: 12345\n",
            "1       1 \n",
            "  2   2   \n",
            "    3     \n",
            "  4   4   \n",
            "5       5 \n"
          ],
          "name": "stdout"
        }
      ]
    },
    {
      "cell_type": "code",
      "metadata": {
        "colab": {
          "base_uri": "https://localhost:8080/"
        },
        "id": "JcM2-AB1c0Oy",
        "outputId": "3d7e4ce4-4933-4cb3-9883-f936ac80a2c0"
      },
      "source": [
        "num = input(\"Enter an odd length Number: \")\n",
        "length = len(num)\n",
        "for i in range(length):\n",
        "  for j in range(length):\n",
        "    if i == j or i + j == length - 1:\n",
        "      print(num[i],end=\" \")\n",
        "    else:\n",
        "      print(\" \",end=\" \")\n",
        "  print()"
      ],
      "execution_count": 7,
      "outputs": [
        {
          "output_type": "stream",
          "text": [
            "Enter an odd length Number: 1234567890\n",
            "1                 1 \n",
            "  2             2   \n",
            "    3         3     \n",
            "      4     4       \n",
            "        5 5         \n",
            "        6 6         \n",
            "      7     7       \n",
            "    8         8     \n",
            "  9             9   \n",
            "0                 0 \n"
          ],
          "name": "stdout"
        }
      ]
    }
  ]
}