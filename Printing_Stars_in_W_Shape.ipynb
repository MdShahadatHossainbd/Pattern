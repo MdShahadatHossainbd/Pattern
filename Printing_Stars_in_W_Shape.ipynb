{
  "nbformat": 4,
  "nbformat_minor": 0,
  "metadata": {
    "colab": {
      "name": "Printing Stars in W Shape.ipynb",
      "provenance": [],
      "authorship_tag": "ABX9TyPSj/DxDf+ZYqh0MHsckkLC",
      "include_colab_link": true
    },
    "kernelspec": {
      "name": "python3",
      "display_name": "Python 3"
    }
  },
  "cells": [
    {
      "cell_type": "markdown",
      "metadata": {
        "id": "view-in-github",
        "colab_type": "text"
      },
      "source": [
        "<a href=\"https://colab.research.google.com/github/MdShahadatHossainbd/Pattern/blob/master/Printing_Stars_in_W_Shape.ipynb\" target=\"_parent\"><img src=\"https://colab.research.google.com/assets/colab-badge.svg\" alt=\"Open In Colab\"/></a>"
      ]
    },
    {
      "cell_type": "code",
      "metadata": {
        "id": "sT5l6RBi6QKW",
        "outputId": "cc5011b8-c065-4e43-ec19-fed550c3f462",
        "colab": {
          "base_uri": "https://localhost:8080/",
          "height": 90
        }
      },
      "source": [
        "i = 0\n",
        "j = 3\n",
        "for row in range(4):\n",
        "    for col in range(7):\n",
        "        if col == 0 or col == 6 or (col == 5 and row == 2) or (col == 4 and row == 1):\n",
        "         print(\"*\",end=\"\")\n",
        "        elif row == i and col == j:\n",
        "         print(\"*\",end=\"\") \n",
        "         i = i + 1\n",
        "         j = j - 1\n",
        "        else:\n",
        "         print(end=\" \")\n",
        "    print()"
      ],
      "execution_count": 7,
      "outputs": [
        {
          "output_type": "stream",
          "text": [
            "*  *  *\n",
            "* * * *\n",
            "**   **\n",
            "*     *\n"
          ],
          "name": "stdout"
        }
      ]
    },
    {
      "cell_type": "code",
      "metadata": {
        "id": "tbhV4xl594pR",
        "outputId": "2fe60d28-3bb2-410a-8742-7b827c02f260",
        "colab": {
          "base_uri": "https://localhost:8080/",
          "height": 90
        }
      },
      "source": [
        "n= int(input(\"rows:\")) # input odd number\n",
        "mid = int(n/2)\n",
        "for i in range(n):\n",
        "  for j in range(n):\n",
        "    if j==0 or j==n-1 or ((i+j==(n-1)) and j<=mid) or (i==j and j>mid):\n",
        "      print(\"*\",end=\" \")\n",
        "    else:\n",
        "      print(end=\"  \")\n",
        "  print()"
      ],
      "execution_count": 9,
      "outputs": [
        {
          "output_type": "stream",
          "text": [
            "rows:3\n",
            "*   * \n",
            "* * * \n",
            "*   * \n"
          ],
          "name": "stdout"
        }
      ]
    }
  ]
}