{
  "nbformat": 4,
  "nbformat_minor": 0,
  "metadata": {
    "colab": {
      "name": "Floyd's Triangle | Printing Numbers in Right Triangle Shape.ipynb",
      "provenance": [],
      "authorship_tag": "ABX9TyNWQxlmZxWE8dn0/HA7XEHN",
      "include_colab_link": true
    },
    "kernelspec": {
      "name": "python3",
      "display_name": "Python 3"
    }
  },
  "cells": [
    {
      "cell_type": "markdown",
      "metadata": {
        "id": "view-in-github",
        "colab_type": "text"
      },
      "source": [
        "<a href=\"https://colab.research.google.com/github/MdShahadatHossainbd/Pattern/blob/master/Floyd's_Triangle_%7C_Printing_Numbers_in_Right_Triangle_Shape.ipynb\" target=\"_parent\"><img src=\"https://colab.research.google.com/assets/colab-badge.svg\" alt=\"Open In Colab\"/></a>"
      ]
    },
    {
      "cell_type": "code",
      "metadata": {
        "id": "wV4jiuVlnwx8",
        "outputId": "53360fc2-4daa-4766-a6d0-6086dff86a86",
        "colab": {
          "base_uri": "https://localhost:8080/",
          "height": 109
        }
      },
      "source": [
        "n = int(input(\"Enter the Number of rows: \"))\n",
        "num = 1\n",
        "for row in range(1, n+1):  \n",
        "  for col in range(1, row + 1):\n",
        "    print(num,end=\"\") \n",
        "    num = num + 1\n",
        "  print()"
      ],
      "execution_count": 3,
      "outputs": [
        {
          "output_type": "stream",
          "text": [
            "Enter the Number of rows: 4\n",
            "1\n",
            "23\n",
            "456\n",
            "78910\n"
          ],
          "name": "stdout"
        }
      ]
    }
  ]
}