{
  "nbformat": 4,
  "nbformat_minor": 0,
  "metadata": {
    "colab": {
      "name": "Print Numbers in Triangle Shape | Pattern Program.ipynb",
      "provenance": [],
      "authorship_tag": "ABX9TyPX+KPwhfe8M46L/7p73j+x",
      "include_colab_link": true
    },
    "kernelspec": {
      "name": "python3",
      "display_name": "Python 3"
    }
  },
  "cells": [
    {
      "cell_type": "markdown",
      "metadata": {
        "id": "view-in-github",
        "colab_type": "text"
      },
      "source": [
        "<a href=\"https://colab.research.google.com/github/MdShahadatHossainbd/Pattern/blob/master/Print_Numbers_in_Triangle_Shape_%7C_Pattern_Program.ipynb\" target=\"_parent\"><img src=\"https://colab.research.google.com/assets/colab-badge.svg\" alt=\"Open In Colab\"/></a>"
      ]
    },
    {
      "cell_type": "code",
      "metadata": {
        "colab": {
          "base_uri": "https://localhost:8080/"
        },
        "id": "P7BDain9vuOv",
        "outputId": "44a03530-1668-46c3-fbf6-977480729573"
      },
      "source": [
        "num = int(input(\"Number of rows: \"))\n",
        "for i in range(num):\n",
        "  k = 111\n",
        "  for j in range(i+1):\n",
        "    print(k,end=\"\")\n",
        "    k = k + 111\n",
        "  print()"
      ],
      "execution_count": 3,
      "outputs": [
        {
          "output_type": "stream",
          "text": [
            "Number of rows: 5\n",
            "111 \n",
            "111 222 \n",
            "111 222 333 \n",
            "111 222 333 444 \n",
            "111 222 333 444 555 \n"
          ],
          "name": "stdout"
        }
      ]
    },
    {
      "cell_type": "code",
      "metadata": {
        "colab": {
          "base_uri": "https://localhost:8080/"
        },
        "id": "3aePUQqzw0wA",
        "outputId": "c2c4d230-1261-44f8-dc63-3fc2039213dc"
      },
      "source": [
        "num = int(input(\"Number of rows: \"))\n",
        "for i in range(num):\n",
        "  k = 111\n",
        "  for j in range(i+1):\n",
        "    print(format(k,\"<4\"),end=\"\")\n",
        "    k = k + 111\n",
        "  print()"
      ],
      "execution_count": 6,
      "outputs": [
        {
          "output_type": "stream",
          "text": [
            "Number of rows: 5\n",
            "111 \n",
            "111 222 \n",
            "111 222 333 \n",
            "111 222 333 444 \n",
            "111 222 333 444 555 \n"
          ],
          "name": "stdout"
        }
      ]
    },
    {
      "cell_type": "code",
      "metadata": {
        "colab": {
          "base_uri": "https://localhost:8080/"
        },
        "id": "J86KfxAWw1Qz",
        "outputId": "e35f580a-e628-4abe-8a78-d61615cbd520"
      },
      "source": [
        "num = int(input(\"Number of rows: \"))\n",
        "for i in range(num):\n",
        "  k = 111\n",
        "  for j in range(i+1):\n",
        "    print(k,end=\" \")\n",
        "    k = k + 111\n",
        "  print()"
      ],
      "execution_count": 7,
      "outputs": [
        {
          "output_type": "stream",
          "text": [
            "Number of rows: 7\n",
            "111 \n",
            "111 222 \n",
            "111 222 333 \n",
            "111 222 333 444 \n",
            "111 222 333 444 555 \n",
            "111 222 333 444 555 666 \n",
            "111 222 333 444 555 666 777 \n"
          ],
          "name": "stdout"
        }
      ]
    },
    {
      "cell_type": "code",
      "metadata": {
        "colab": {
          "base_uri": "https://localhost:8080/"
        },
        "id": "RpmRCWdxxj_o",
        "outputId": "2ff5d6ca-f733-41c2-8de8-73fe19575cf6"
      },
      "source": [
        "num = int(input(\"Number of rows: \"))\n",
        "k = 111\n",
        "for i in range(num):\n",
        "  for j in range(i+1):\n",
        "    print(format(k,\"<5\"),end=\"\")\n",
        "    k = k + 111\n",
        "  print()"
      ],
      "execution_count": 9,
      "outputs": [
        {
          "output_type": "stream",
          "text": [
            "Number of rows: 5\n",
            "111  \n",
            "222  333  \n",
            "444  555  666  \n",
            "777  888  999  1110 \n",
            "1221 1332 1443 1554 1665 \n"
          ],
          "name": "stdout"
        }
      ]
    },
    {
      "cell_type": "code",
      "metadata": {
        "colab": {
          "base_uri": "https://localhost:8080/"
        },
        "id": "YCk7sfQLxwLy",
        "outputId": "e12cea5a-4827-4e7d-b5aa-e423636919ac"
      },
      "source": [
        "num = int(input(\"Number of rows: \"))\n",
        "k = 111\n",
        "for i in range(num):\n",
        "  for j in range(i+1):\n",
        "    print(k,end=\" \")\n",
        "    k = k + 111\n",
        "  print()"
      ],
      "execution_count": 10,
      "outputs": [
        {
          "output_type": "stream",
          "text": [
            "Number of rows: 7\n",
            "111 \n",
            "222 333 \n",
            "444 555 666 \n",
            "777 888 999 1110 \n",
            "1221 1332 1443 1554 1665 \n",
            "1776 1887 1998 2109 2220 2331 \n",
            "2442 2553 2664 2775 2886 2997 3108 \n"
          ],
          "name": "stdout"
        }
      ]
    },
    {
      "cell_type": "code",
      "metadata": {
        "colab": {
          "base_uri": "https://localhost:8080/"
        },
        "id": "8VqoH2jzyJSp",
        "outputId": "9539cd7e-5913-416d-c19d-b494e102e6dc"
      },
      "source": [
        "num = int(input(\"Number of rows: \"))\n",
        "for i in range(num):\n",
        "  k = 111\n",
        "  for j in range(num-i-1):\n",
        "    print(format(\" \",\"<5\"),end=\"\")\n",
        "  for j in range(i+1):\n",
        "    print(format(k,\"<5\"),end=\"\") \n",
        "    k = k + 111\n",
        "  print()"
      ],
      "execution_count": 11,
      "outputs": [
        {
          "output_type": "stream",
          "text": [
            "Number of rows: 5\n",
            "                    111  \n",
            "               111  222  \n",
            "          111  222  333  \n",
            "     111  222  333  444  \n",
            "111  222  333  444  555  \n"
          ],
          "name": "stdout"
        }
      ]
    },
    {
      "cell_type": "code",
      "metadata": {
        "colab": {
          "base_uri": "https://localhost:8080/"
        },
        "id": "lfMGKB3yys2c",
        "outputId": "9647279d-4bfd-46cc-d11f-cf96d038f3aa"
      },
      "source": [
        "num = int(input(\"Number of rows: \"))\n",
        "for i in range(num):\n",
        "  k = 111\n",
        "  for j in range(num-i-1):\n",
        "    print(format(\" \",\"<5\"),end=\"\")\n",
        "  k = k * (i + 1)\n",
        "  for j in range(i+1):\n",
        "    print(format(k,\"<5\"),end=\"\") \n",
        "    k = k - 111\n",
        "  print()"
      ],
      "execution_count": 14,
      "outputs": [
        {
          "output_type": "stream",
          "text": [
            "Number of rows: 5\n",
            "                    111  \n",
            "               222  111  \n",
            "          333  222  111  \n",
            "     444  333  222  111  \n",
            "555  444  333  222  111  \n"
          ],
          "name": "stdout"
        }
      ]
    },
    {
      "cell_type": "code",
      "metadata": {
        "colab": {
          "base_uri": "https://localhost:8080/"
        },
        "id": "HzWiv4gyzSbD",
        "outputId": "4ae1f57b-529d-447a-bb56-df5262c79e39"
      },
      "source": [
        "num = int(input(\"Number of rows: \"))\n",
        "for i in range(num):\n",
        "  k = 111\n",
        "  for j in range(num-i-1):\n",
        "    print(format(\" \",\"<5\"),end=\"\")\n",
        "  k = k * (i + 1)\n",
        "  for j in range(i+1):\n",
        "    print(format(k,\"<5\"),end=\"\") \n",
        "    k = k + 111\n",
        "  print()"
      ],
      "execution_count": 15,
      "outputs": [
        {
          "output_type": "stream",
          "text": [
            "Number of rows: 6\n",
            "                         111  \n",
            "                    222  333  \n",
            "               333  444  555  \n",
            "          444  555  666  777  \n",
            "     555  666  777  888  999  \n",
            "666  777  888  999  1110 1221 \n"
          ],
          "name": "stdout"
        }
      ]
    },
    {
      "cell_type": "code",
      "metadata": {
        "colab": {
          "base_uri": "https://localhost:8080/"
        },
        "id": "cf-R70Yzzgq-",
        "outputId": "d5100022-bc17-4dc3-a5ba-a3341a755ce1"
      },
      "source": [
        "num = int(input(\"Number of rows: \"))\n",
        "for i in range(num):\n",
        "  k = 111\n",
        "  for j in range(num-i-1):\n",
        "    print(format(\" \",\"<5\"),end=\"\")\n",
        " # k = k * (i + 1)\n",
        "  for j in range(i+1):\n",
        "    print(format(k,\"<5\"),end=\"\") \n",
        "    k = k + k\n",
        "  print()"
      ],
      "execution_count": 18,
      "outputs": [
        {
          "output_type": "stream",
          "text": [
            "Number of rows: 5\n",
            "                    111  \n",
            "               111  222  \n",
            "          111  222  444  \n",
            "     111  222  444  888  \n",
            "111  222  444  888  1776 \n"
          ],
          "name": "stdout"
        }
      ]
    }
  ]
}