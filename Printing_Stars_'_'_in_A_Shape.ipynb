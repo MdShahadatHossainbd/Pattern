{
  "nbformat": 4,
  "nbformat_minor": 0,
  "metadata": {
    "colab": {
      "name": "Printing Stars '*' in A Shape",
      "provenance": [],
      "authorship_tag": "ABX9TyMhnFwoqSypX03tmEsQI/Uq",
      "include_colab_link": true
    },
    "kernelspec": {
      "name": "python3",
      "display_name": "Python 3"
    }
  },
  "cells": [
    {
      "cell_type": "markdown",
      "metadata": {
        "id": "view-in-github",
        "colab_type": "text"
      },
      "source": [
        "<a href=\"https://colab.research.google.com/github/MdShahadatHossainbd/Pattern/blob/master/Printing_Stars_'_'_in_A_Shape.ipynb\" target=\"_parent\"><img src=\"https://colab.research.google.com/assets/colab-badge.svg\" alt=\"Open In Colab\"/></a>"
      ]
    },
    {
      "cell_type": "code",
      "metadata": {
        "id": "dZHH0ZQdLFEX",
        "colab_type": "code",
        "colab": {
          "base_uri": "https://localhost:8080/",
          "height": 164
        },
        "outputId": "8f1c21b8-4ad0-4571-d9e2-c2933e53b703"
      },
      "source": [
        "str1 = \"\"\n",
        "for row in range(7):\n",
        "   for col in range (5):\n",
        "     if ((col==0 or col==4) and row!=0) or ((row==0 or row==3) and (col>0 and col<4)):\n",
        "        str1 = str1+\"*\"\n",
        "     else:\n",
        "        str1 = str1+\" \"\n",
        "   str1 = str1+\"\\n\"\n",
        "print(str1)\n"
      ],
      "execution_count": null,
      "outputs": [
        {
          "output_type": "stream",
          "text": [
            " ***   \n",
            "*   *  \n",
            "*   *  \n",
            "*****  \n",
            "*   *  \n",
            "*   *  \n",
            "*   *  \n",
            "\n"
          ],
          "name": "stdout"
        }
      ]
    }
  ]
}