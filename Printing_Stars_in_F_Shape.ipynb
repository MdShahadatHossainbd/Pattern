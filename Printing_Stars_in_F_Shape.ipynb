{
  "nbformat": 4,
  "nbformat_minor": 0,
  "metadata": {
    "colab": {
      "name": "Printing Stars in F Shape.ipynb",
      "provenance": [],
      "authorship_tag": "ABX9TyMZ64kTsfx0VQYn7IoGU8UQ",
      "include_colab_link": true
    },
    "kernelspec": {
      "name": "python3",
      "display_name": "Python 3"
    }
  },
  "cells": [
    {
      "cell_type": "markdown",
      "metadata": {
        "id": "view-in-github",
        "colab_type": "text"
      },
      "source": [
        "<a href=\"https://colab.research.google.com/github/MdShahadatHossainbd/Pattern/blob/master/Printing_Stars_in_F_Shape.ipynb\" target=\"_parent\"><img src=\"https://colab.research.google.com/assets/colab-badge.svg\" alt=\"Open In Colab\"/></a>"
      ]
    },
    {
      "cell_type": "code",
      "metadata": {
        "id": "fQSK8pcEeNjU",
        "colab_type": "code",
        "colab": {
          "base_uri": "https://localhost:8080/",
          "height": 146
        },
        "outputId": "40977de4-431b-4cba-d44b-33633b424284"
      },
      "source": [
        "for row in range(7):\n",
        "  for col in range(5):\n",
        "    if (col==0) or ((row == 0 or row == 3 ) and col > 0):\n",
        "      print(\"*\", end=\"\")\n",
        "    else:\n",
        "      print(end=\" \")\n",
        "  print()\n"
      ],
      "execution_count": 2,
      "outputs": [
        {
          "output_type": "stream",
          "text": [
            "*****\n",
            "*    \n",
            "*    \n",
            "*****\n",
            "*    \n",
            "*    \n",
            "*    \n"
          ],
          "name": "stdout"
        }
      ]
    }
  ]
}