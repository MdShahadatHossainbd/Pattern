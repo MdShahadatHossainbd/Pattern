{
  "nbformat": 4,
  "nbformat_minor": 0,
  "metadata": {
    "colab": {
      "name": " Printing Stars in R Shape.ipynb",
      "provenance": [],
      "authorship_tag": "ABX9TyPxy9QjVXEf9uoxgeKHg+Rj",
      "include_colab_link": true
    },
    "kernelspec": {
      "name": "python3",
      "display_name": "Python 3"
    }
  },
  "cells": [
    {
      "cell_type": "markdown",
      "metadata": {
        "id": "view-in-github",
        "colab_type": "text"
      },
      "source": [
        "<a href=\"https://colab.research.google.com/github/MdShahadatHossainbd/Pattern/blob/master/Printing_Stars_in_R_Shape.ipynb\" target=\"_parent\"><img src=\"https://colab.research.google.com/assets/colab-badge.svg\" alt=\"Open In Colab\"/></a>"
      ]
    },
    {
      "cell_type": "code",
      "metadata": {
        "id": "H6xks7Kf9Jjx",
        "outputId": "bcc9add8-7c0b-41b9-bf81-c7534eaa873e",
        "colab": {
          "base_uri": "https://localhost:8080/",
          "height": 146
        }
      },
      "source": [
        "\n",
        "\n",
        "for row in range(7):\n",
        "    for col in range(5):\n",
        "        if col == 0 or (col == 4 and (row != 0 and row !=3)) or ((row == 0 or row == 3 ) and (col >0 and col < 4)):\n",
        "            print(\"*\",end=\"\")\n",
        "        else:\n",
        "            print(end=\" \")\n",
        "    print()\n",
        "\n"
      ],
      "execution_count": 2,
      "outputs": [
        {
          "output_type": "stream",
          "text": [
            "**** \n",
            "*   *\n",
            "*   *\n",
            "**** \n",
            "*   *\n",
            "*   *\n",
            "*   *\n"
          ],
          "name": "stdout"
        }
      ]
    }
  ]
}