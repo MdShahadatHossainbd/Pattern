{
  "nbformat": 4,
  "nbformat_minor": 0,
  "metadata": {
    "colab": {
      "name": "Printing Stars in K Shape",
      "provenance": [],
      "authorship_tag": "ABX9TyNF6oDbjWLvFPpe+rP5IhYi",
      "include_colab_link": true
    },
    "kernelspec": {
      "name": "python3",
      "display_name": "Python 3"
    }
  },
  "cells": [
    {
      "cell_type": "markdown",
      "metadata": {
        "id": "view-in-github",
        "colab_type": "text"
      },
      "source": [
        "<a href=\"https://colab.research.google.com/github/MdShahadatHossainbd/Pattern/blob/master/Printing_Stars_in_K_Shape.ipynb\" target=\"_parent\"><img src=\"https://colab.research.google.com/assets/colab-badge.svg\" alt=\"Open In Colab\"/></a>"
      ]
    },
    {
      "cell_type": "code",
      "metadata": {
        "id": "z0ssOFcqY2DY",
        "outputId": "d5e7751f-3969-4307-ee6d-72bce94d0c55",
        "colab": {
          "base_uri": "https://localhost:8080/",
          "height": 146
        }
      },
      "source": [
        "i = 0\n",
        "j = 4\n",
        "for row in range(7):\n",
        "  for col in range(5):\n",
        "\n",
        "    if col == 0 or (row == col+2 and col > 1 ):\n",
        "\n",
        "      print(\"*\", end=\"\")\n",
        "    elif ((row == i and col == j ) and col >0):\n",
        "      print(\"*\", end=\"\")\n",
        "      i = i + 1\n",
        "      j = j - 1\n",
        "\n",
        "    else:\n",
        "      print(end=\" \")\n",
        "  print()"
      ],
      "execution_count": 6,
      "outputs": [
        {
          "output_type": "stream",
          "text": [
            "*   *\n",
            "*  * \n",
            "* *  \n",
            "**   \n",
            "* *  \n",
            "*  * \n",
            "*   *\n"
          ],
          "name": "stdout"
        }
      ]
    }
  ]
}