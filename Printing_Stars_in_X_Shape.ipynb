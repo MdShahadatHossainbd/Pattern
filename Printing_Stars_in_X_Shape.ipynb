{
  "nbformat": 4,
  "nbformat_minor": 0,
  "metadata": {
    "colab": {
      "name": "Printing Stars in X Shape.ipynb",
      "provenance": [],
      "authorship_tag": "ABX9TyMdqKaNTFCiZL4IurNcC5V8",
      "include_colab_link": true
    },
    "kernelspec": {
      "name": "python3",
      "display_name": "Python 3"
    }
  },
  "cells": [
    {
      "cell_type": "markdown",
      "metadata": {
        "id": "view-in-github",
        "colab_type": "text"
      },
      "source": [
        "<a href=\"https://colab.research.google.com/github/MdShahadatHossainbd/Pattern/blob/master/Printing_Stars_in_X_Shape.ipynb\" target=\"_parent\"><img src=\"https://colab.research.google.com/assets/colab-badge.svg\" alt=\"Open In Colab\"/></a>"
      ]
    },
    {
      "cell_type": "code",
      "metadata": {
        "id": "wGOvak0l186o",
        "outputId": "d164b463-c631-4e79-ac40-d086b694c514",
        "colab": {
          "base_uri": "https://localhost:8080/",
          "height": 146
        }
      },
      "source": [
        "for row in range(7):\n",
        "    for col in range(10):\n",
        "        if (row == col) or (row+col==6):\n",
        "         print(\"*\",end=\"\")\n",
        "        else:\n",
        "         print(end=\" \" )\n",
        "    print()"
      ],
      "execution_count": 1,
      "outputs": [
        {
          "output_type": "stream",
          "text": [
            "*     *   \n",
            " *   *    \n",
            "  * *     \n",
            "   *      \n",
            "  * *     \n",
            " *   *    \n",
            "*     *   \n"
          ],
          "name": "stdout"
        }
      ]
    },
    {
      "cell_type": "code",
      "metadata": {
        "id": "vqpOUpbV24Uq",
        "outputId": "d173a7c2-aaf6-4ed0-c5dc-08f9982525f2",
        "colab": {
          "base_uri": "https://localhost:8080/",
          "height": 109
        }
      },
      "source": [
        "i = 0\n",
        "j = 4\n",
        "for row in range(5):\n",
        "    for col in range(5):\n",
        "        if row == i and col==j:\n",
        "            print(\"*\",end=\"\")\n",
        "            i = i + 1\n",
        "            j = j - 1\n",
        "        elif row == col:\n",
        "          print(\"*\",end=\"\")\n",
        "        else:\n",
        "            print(end=\" \" )\n",
        "    print()"
      ],
      "execution_count": 12,
      "outputs": [
        {
          "output_type": "stream",
          "text": [
            "*   *\n",
            " * * \n",
            "  *  \n",
            " * * \n",
            "*   *\n"
          ],
          "name": "stdout"
        }
      ]
    }
  ]
}