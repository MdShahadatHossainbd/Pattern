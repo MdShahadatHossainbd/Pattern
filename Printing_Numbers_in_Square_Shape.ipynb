{
  "nbformat": 4,
  "nbformat_minor": 0,
  "metadata": {
    "colab": {
      "name": "Printing Numbers in Square Shape.ipynb",
      "provenance": [],
      "authorship_tag": "ABX9TyNnghi/5sdLndq6GMIILjOc",
      "include_colab_link": true
    },
    "kernelspec": {
      "name": "python3",
      "display_name": "Python 3"
    }
  },
  "cells": [
    {
      "cell_type": "markdown",
      "metadata": {
        "id": "view-in-github",
        "colab_type": "text"
      },
      "source": [
        "<a href=\"https://colab.research.google.com/github/MdShahadatHossainbd/Pattern/blob/master/Printing_Numbers_in_Square_Shape.ipynb\" target=\"_parent\"><img src=\"https://colab.research.google.com/assets/colab-badge.svg\" alt=\"Open In Colab\"/></a>"
      ]
    },
    {
      "cell_type": "code",
      "metadata": {
        "id": "cDO5h2O4CteA",
        "outputId": "dfb9c2a6-32c0-4d67-e9d1-f31ed17abcca",
        "colab": {
          "base_uri": "https://localhost:8080/"
        }
      },
      "source": [
        "num = int(input(\"Enter The Row :\"))\n",
        "n_list = [[0 for x in range(num)]for y in range(num)]\n",
        "n=1\n",
        "low =0\n",
        "high = num-1\n",
        "count = int((num+1)/2)\n",
        "for i in range(count):\n",
        "  for j in range(low, high + 1):\n",
        "    n_list[i][j] = n\n",
        "    n=n+1\n",
        "\n",
        "  for j in range(low+1,high+1):\n",
        "    n_list[j][high] = n\n",
        "    n=n+1\n",
        "\n",
        "  for j in range(high-1,low-1,-1):\n",
        "    n_list[high][j] = n\n",
        "    n=n+1\n",
        "\n",
        "  for j in range(high-1,low,-1):\n",
        "    n_list[j][low] = n\n",
        "    n=n+1\n",
        "  low = low+1\n",
        "  high=high-1\n",
        "\n",
        "\n",
        "for i in range(num):\n",
        "  for j in range(num):\n",
        "    print(n_list[i][j],end=\"\\t\")\n",
        "  print()"
      ],
      "execution_count": 7,
      "outputs": [
        {
          "output_type": "stream",
          "text": [
            "Enter The Row :5\n",
            "1\t2\t3\t4\t5\t\n",
            "16\t17\t18\t19\t6\t\n",
            "15\t24\t25\t20\t7\t\n",
            "14\t23\t22\t21\t8\t\n",
            "13\t12\t11\t10\t9\t\n"
          ],
          "name": "stdout"
        }
      ]
    },
    {
      "cell_type": "code",
      "metadata": {
        "id": "raYZ2bWuB9jG",
        "outputId": "dc0e1b6f-dc45-4600-f1aa-4bff5f3797dd",
        "colab": {
          "base_uri": "https://localhost:8080/"
        }
      },
      "source": [
        "num = int(input(\"Enter The Row :\"))\n",
        "matrix = [[\" \" for i in range(num)]for j in range(num)]\n",
        "n=num*num\n",
        "low =0\n",
        "top = num-1\n",
        "count = int((num+1)/2)\n",
        "for i in range(count):\n",
        "  for j in range(top,low-1,-1):\n",
        "    matrix[top][j] = n\n",
        "    n=n-1\n",
        "\n",
        "  for j in range(top-1,low-1,-1):\n",
        "    matrix[j][low] = n\n",
        "    n=n-1\n",
        "\n",
        "  for j in range(low+1,top+1):\n",
        "    matrix[low][j] = n\n",
        "    n=n-1\n",
        "\n",
        "  for j in range(low+1,top):\n",
        "    matrix[j][top] = n\n",
        "    n=n-1\n",
        "  low = low+1\n",
        "  top=top-1\n",
        "\n",
        "\n",
        "for i in range(num):\n",
        "  for j in range(num):\n",
        "    print(matrix[i][j],end=\"\\t\")\n",
        "  print()"
      ],
      "execution_count": 1,
      "outputs": [
        {
          "output_type": "stream",
          "text": [
            ":5\n",
            "17\t16\t15\t14\t13\t\n",
            "18\t5\t4\t3\t12\t\n",
            "19\t6\t1\t2\t11\t\n",
            "20\t7\t8\t9\t10\t\n",
            "21\t22\t23\t24\t25\t\n"
          ],
          "name": "stdout"
        }
      ]
    },
    {
      "cell_type": "code",
      "metadata": {
        "id": "3io71H-eCCSR",
        "outputId": "e37002b4-b58c-458a-f570-0e37039121cc",
        "colab": {
          "base_uri": "https://localhost:8080/"
        }
      },
      "source": [
        "n = int(input(\"enter your number: \"))\n",
        "\n",
        "num = n\n",
        "\n",
        "low = 0\n",
        "\n",
        "high = 2*n-2\n",
        "\n",
        "n_list = [[0 for x in range(2*n-1)] for y in range(2*n-1)]\n",
        "\n",
        "for i in range(n):\n",
        "\n",
        "    for j in range(low,high+1):\n",
        "\n",
        "        n_list[i][j] = num\n",
        "\n",
        "    for j in range(low+1,high+1):\n",
        "\n",
        "        n_list[j][high] = num\n",
        "\n",
        "    for j in range(high-1,low-1,-1):\n",
        "\n",
        "        n_list[high][j] = num\n",
        "\n",
        "    for j in range(high-1,low,-1):\n",
        "\n",
        "        n_list[j][low] = num\n",
        "\n",
        "    num -= 1\n",
        "\n",
        "    low +=1\n",
        "\n",
        "    high -=1\n",
        "\n",
        "\n",
        "\n",
        "for i in range(2*n-1):\n",
        "\n",
        "    for j in range(2*n-1):\n",
        "\n",
        "        print(n_list[i][j], end=\"  \")\n",
        "\n",
        "    print()"
      ],
      "execution_count": 2,
      "outputs": [
        {
          "output_type": "stream",
          "text": [
            "enter your number: 4\n",
            "4  4  4  4  4  4  4  \n",
            "4  3  3  3  3  3  4  \n",
            "4  3  2  2  2  3  4  \n",
            "4  3  2  1  2  3  4  \n",
            "4  3  2  2  2  3  4  \n",
            "4  3  3  3  3  3  4  \n",
            "4  4  4  4  4  4  4  \n"
          ],
          "name": "stdout"
        }
      ]
    },
    {
      "cell_type": "code",
      "metadata": {
        "id": "4aJ_gAVXCefT",
        "outputId": "90e42efa-d90b-45a7-8546-e00f9333afc8",
        "colab": {
          "base_uri": "https://localhost:8080/"
        }
      },
      "source": [
        "matrix = [[\" \" for x in range(4)] for y in range(4)]\n",
        "n=1\n",
        "low=0\n",
        "high=3\n",
        "while low<high:\n",
        "  for j in range(4):\n",
        "    matrix[low][j]=n\n",
        "    n=n+1\n",
        "  for j in range(4):\n",
        "    matrix[high][j] = n\n",
        "    n=n+1\n",
        "  low=low+1\n",
        "  high=high-1\n",
        "\n",
        "for i in range(4):\n",
        "  for j in range(4):\n",
        "    print(matrix[i][j], end=\"\\t\")\n",
        "  print()"
      ],
      "execution_count": 3,
      "outputs": [
        {
          "output_type": "stream",
          "text": [
            "1\t2\t3\t4\t\n",
            "9\t10\t11\t12\t\n",
            "13\t14\t15\t16\t\n",
            "5\t6\t7\t8\t\n"
          ],
          "name": "stdout"
        }
      ]
    },
    {
      "cell_type": "code",
      "metadata": {
        "id": "Jc1JllGmCgOS",
        "outputId": "8dd6338d-e9a1-4929-c50a-551e01fa8bc4",
        "colab": {
          "base_uri": "https://localhost:8080/"
        }
      },
      "source": [
        "num = int(input(\"enter the number of rows:\"))\n",
        "n = 1\n",
        "matrix = [[0 for x in range(num)] for y in range(num)]\n",
        "\n",
        "for i in range(num):\n",
        "  for j in range(num):\n",
        "    matrix[i][j]=n\n",
        "    n=n+1\n",
        "  \n",
        "i=0\n",
        "j = num\n",
        "while i<j:\n",
        "    matrix[i][i], matrix[j - 1][j - 1] = matrix[j - 1][j - 1],matrix[i][i]\n",
        " \n",
        "    matrix[i][j - 1],matrix[j - 1][i] = matrix[j - 1][i],matrix[i][j - 1]\n",
        "    i=i+1\n",
        "    j=j-1\n",
        "\n",
        "for i in range(num):\n",
        "  for j in range(num):\n",
        "    print(matrix[i][j],end=\"\\t\")\n",
        "  print()"
      ],
      "execution_count": 4,
      "outputs": [
        {
          "output_type": "stream",
          "text": [
            "enter the number of rows:5\n",
            "25\t2\t3\t4\t21\t\n",
            "6\t19\t8\t17\t10\t\n",
            "11\t12\t13\t14\t15\t\n",
            "16\t9\t18\t7\t20\t\n",
            "5\t22\t23\t24\t1\t\n"
          ],
          "name": "stdout"
        }
      ]
    }
  ]
}