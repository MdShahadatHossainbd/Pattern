{
  "nbformat": 4,
  "nbformat_minor": 0,
  "metadata": {
    "colab": {
      "name": "Alphabet Pattern - Printing Alphabet in Right Triangle Shape | Python Programs.ipynb",
      "provenance": [],
      "authorship_tag": "ABX9TyMB0ULdY4HkBP2f5CM2Poxp",
      "include_colab_link": true
    },
    "kernelspec": {
      "name": "python3",
      "display_name": "Python 3"
    }
  },
  "cells": [
    {
      "cell_type": "markdown",
      "metadata": {
        "id": "view-in-github",
        "colab_type": "text"
      },
      "source": [
        "<a href=\"https://colab.research.google.com/github/MdShahadatHossainbd/Pattern/blob/master/Alphabet_Pattern_Printing_Alphabet_in_Right_Triangle_Shape_%7C_Python_Programs.ipynb\" target=\"_parent\"><img src=\"https://colab.research.google.com/assets/colab-badge.svg\" alt=\"Open In Colab\"/></a>"
      ]
    },
    {
      "cell_type": "code",
      "metadata": {
        "colab": {
          "base_uri": "https://localhost:8080/"
        },
        "id": "FJS4NsGKijFI",
        "outputId": "36852a09-0ec3-450a-a779-969cff524507"
      },
      "source": [
        "n = int(input(\"Enter The Rows: \"))\n",
        "for i in range(n):\n",
        "  for j in range(i+1):\n",
        "    print(\"*\",end=\" \")\n",
        "  print()"
      ],
      "execution_count": 2,
      "outputs": [
        {
          "output_type": "stream",
          "text": [
            "Enter The Rows: 5\n",
            "* \n",
            "* * \n",
            "* * * \n",
            "* * * * \n",
            "* * * * * \n"
          ],
          "name": "stdout"
        }
      ]
    },
    {
      "cell_type": "code",
      "metadata": {
        "colab": {
          "base_uri": "https://localhost:8080/"
        },
        "id": "L1IAbu2Qjt2K",
        "outputId": "7a7636c4-ce6d-47a7-9fff-4f451dd078cc"
      },
      "source": [
        "n = int(input(\"Enter The Rows: \"))\n",
        "k = ord(\"A\")\n",
        "for i in range(n):\n",
        "  for j in range(i+1):\n",
        "    print(chr(k),end=\" \")\n",
        "    k = k+1\n",
        "  print()"
      ],
      "execution_count": 5,
      "outputs": [
        {
          "output_type": "stream",
          "text": [
            "Enter The Rows: 5\n",
            "A \n",
            "B C \n",
            "D E F \n",
            "G H I J \n",
            "K L M N O \n"
          ],
          "name": "stdout"
        }
      ]
    },
    {
      "cell_type": "code",
      "metadata": {
        "colab": {
          "base_uri": "https://localhost:8080/"
        },
        "id": "o-8LRBJGk6b5",
        "outputId": "4de0e826-7e6a-4e68-b25e-9f2f19c434ac"
      },
      "source": [
        "n = int(input(\"Enter The Rows: \"))\n",
        "for i in range(n):\n",
        "  k = ord(\"A\")+i\n",
        "  for j in range(i+1):\n",
        "    print(chr(k),end=\" \")\n",
        "    k = k+1\n",
        "  print()"
      ],
      "execution_count": 6,
      "outputs": [
        {
          "output_type": "stream",
          "text": [
            "Enter The Rows: 5\n",
            "A \n",
            "B C \n",
            "C D E \n",
            "D E F G \n",
            "E F G H I \n"
          ],
          "name": "stdout"
        }
      ]
    }
  ]
}