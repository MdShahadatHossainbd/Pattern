{
  "nbformat": 4,
  "nbformat_minor": 0,
  "metadata": {
    "colab": {
      "name": "Printing Strings in Right Triangle Shape.ipynb",
      "provenance": [],
      "authorship_tag": "ABX9TyNhiAEjC3HFBDwDzDlSog9B",
      "include_colab_link": true
    },
    "kernelspec": {
      "name": "python3",
      "display_name": "Python 3"
    }
  },
  "cells": [
    {
      "cell_type": "markdown",
      "metadata": {
        "id": "view-in-github",
        "colab_type": "text"
      },
      "source": [
        "<a href=\"https://colab.research.google.com/github/MdShahadatHossainbd/Pattern/blob/master/Printing_Strings_in_Right_Triangle_Shape.ipynb\" target=\"_parent\"><img src=\"https://colab.research.google.com/assets/colab-badge.svg\" alt=\"Open In Colab\"/></a>"
      ]
    },
    {
      "cell_type": "code",
      "metadata": {
        "id": "vv2FuRsBhY59",
        "outputId": "956b9e30-418f-472a-8781-ad65a952b7ba",
        "colab": {
          "base_uri": "https://localhost:8080/",
          "height": 146
        }
      },
      "source": [
        "string = input(\"Enter the string: \")\n",
        "length = len(string)\n",
        "for row in range(length):\n",
        "  for col in range(row+1):\n",
        "    print(string[col],end=\"\")\n",
        "  print()\n"
      ],
      "execution_count": 15,
      "outputs": [
        {
          "output_type": "stream",
          "text": [
            "Enter the string: python\n",
            "p\n",
            "py\n",
            "pyt\n",
            "pyth\n",
            "pytho\n",
            "python\n"
          ],
          "name": "stdout"
        }
      ]
    },
    {
      "cell_type": "code",
      "metadata": {
        "id": "qyWOftVOiI6i",
        "outputId": "987de9f1-b79b-4733-8cae-0554bdf75947",
        "colab": {
          "base_uri": "https://localhost:8080/",
          "height": 127
        }
      },
      "source": [
        "text = \"python\"\n",
        "for index in range(len(text)): \n",
        "    print(*text[:index + 1])"
      ],
      "execution_count": 1,
      "outputs": [
        {
          "output_type": "stream",
          "text": [
            "p\n",
            "p y\n",
            "p y t\n",
            "p y t h\n",
            "p y t h o\n",
            "p y t h o n\n"
          ],
          "name": "stdout"
        }
      ]
    },
    {
      "cell_type": "code",
      "metadata": {
        "id": "Xjl1xN_Xiazq",
        "outputId": "290b7126-0b02-4631-9bea-a6c5b8e0c7d6",
        "colab": {
          "base_uri": "https://localhost:8080/",
          "height": 146
        }
      },
      "source": [
        "string=input(\"enter string: \")\n",
        "\n",
        "length=len(string)\n",
        "\n",
        "for i in range(1,length+1):\n",
        "\n",
        "    print(string[0:i])"
      ],
      "execution_count": 3,
      "outputs": [
        {
          "output_type": "stream",
          "text": [
            "enter string: python\n",
            "p\n",
            "py\n",
            "pyt\n",
            "pyth\n",
            "pytho\n",
            "python\n"
          ],
          "name": "stdout"
        }
      ]
    },
    {
      "cell_type": "code",
      "metadata": {
        "id": "kQs_GoI1io46",
        "outputId": "c628026b-3dc8-4915-e0e8-f02063401907",
        "colab": {
          "base_uri": "https://localhost:8080/",
          "height": 127
        }
      },
      "source": [
        "str = \"PYTHON\"\n",
        "for i, char in enumerate(str):\n",
        "    print(str[0:i+1])"
      ],
      "execution_count": 4,
      "outputs": [
        {
          "output_type": "stream",
          "text": [
            "P\n",
            "PY\n",
            "PYT\n",
            "PYTH\n",
            "PYTHO\n",
            "PYTHON\n"
          ],
          "name": "stdout"
        }
      ]
    },
    {
      "cell_type": "code",
      "metadata": {
        "id": "VMXFD4oYiw0J",
        "outputId": "3baa1a2a-8a38-4d95-9b3d-a92e297a59d7",
        "colab": {
          "base_uri": "https://localhost:8080/",
          "height": 109
        }
      },
      "source": [
        "def fun(List):\n",
        "    for i in range(len(List)):\n",
        "        print (List[0 : i + 1])\n",
        "\n",
        "List = \"Hello\"\n",
        "fun(List)"
      ],
      "execution_count": 5,
      "outputs": [
        {
          "output_type": "stream",
          "text": [
            "H\n",
            "He\n",
            "Hel\n",
            "Hell\n",
            "Hello\n"
          ],
          "name": "stdout"
        }
      ]
    },
    {
      "cell_type": "code",
      "metadata": {
        "id": "OCXr2qXaizOA",
        "outputId": "eddc7d6b-0cfd-4278-e3e4-cb0a025a290a",
        "colab": {
          "base_uri": "https://localhost:8080/",
          "height": 146
        }
      },
      "source": [
        "String = input()\n",
        "for i in range(len(string)): print(string[:i+1])"
      ],
      "execution_count": 9,
      "outputs": [
        {
          "output_type": "stream",
          "text": [
            "python\n",
            "p\n",
            "py\n",
            "pyt\n",
            "pyth\n",
            "pytho\n",
            "python\n"
          ],
          "name": "stdout"
        }
      ]
    },
    {
      "cell_type": "code",
      "metadata": {
        "id": "KLDmQUtWjMd-",
        "outputId": "78414cbf-6504-4c74-85a8-802f17c9d0c4",
        "colab": {
          "base_uri": "https://localhost:8080/",
          "height": 72
        }
      },
      "source": [
        "string='Python'\n",
        "\n",
        "i=0\n",
        "\n",
        "while i<2:\n",
        "\n",
        "    print(string[i])\n",
        "\n",
        "    break\n",
        "\n",
        "i=i+1\n",
        "\n",
        "while i<3:\n",
        "\n",
        "    print(string[i:i+2])\n",
        "\n",
        "    break\n",
        "\n",
        "while i<6:\n",
        "\n",
        "    print(string[i+2:])\n",
        "\n",
        "    break"
      ],
      "execution_count": 10,
      "outputs": [
        {
          "output_type": "stream",
          "text": [
            "P\n",
            "yt\n",
            "hon\n"
          ],
          "name": "stdout"
        }
      ]
    },
    {
      "cell_type": "code",
      "metadata": {
        "id": "zUWr1jE7jUP8",
        "outputId": "c3490185-4d61-45f6-d076-6519c4aa7668",
        "colab": {
          "base_uri": "https://localhost:8080/",
          "height": 219
        }
      },
      "source": [
        "string = input(\"Enter your name\")\n",
        "\n",
        "a = 1\n",
        "for i in string:\n",
        "    print(string[0:a],end=\" \")\n",
        "    a+=1\n",
        "    print()"
      ],
      "execution_count": 11,
      "outputs": [
        {
          "output_type": "stream",
          "text": [
            "Enter your nameBangladesh\n",
            "B \n",
            "Ba \n",
            "Ban \n",
            "Bang \n",
            "Bangl \n",
            "Bangla \n",
            "Banglad \n",
            "Banglade \n",
            "Banglades \n",
            "Bangladesh \n"
          ],
          "name": "stdout"
        }
      ]
    },
    {
      "cell_type": "code",
      "metadata": {
        "id": "6LuUIUY-jb-c",
        "outputId": "96c8f726-c172-4370-be7d-541b41927f9e",
        "colab": {
          "base_uri": "https://localhost:8080/",
          "height": 146
        }
      },
      "source": [
        "string = input(\"enter the string:-\")\n",
        "\n",
        "\n",
        "print(\"\\n\".join([string[:i+1] for i in range(len(string))]))"
      ],
      "execution_count": 12,
      "outputs": [
        {
          "output_type": "stream",
          "text": [
            "enter the string:-bangla\n",
            "b\n",
            "ba\n",
            "ban\n",
            "bang\n",
            "bangl\n",
            "bangla\n"
          ],
          "name": "stdout"
        }
      ]
    }
  ]
}