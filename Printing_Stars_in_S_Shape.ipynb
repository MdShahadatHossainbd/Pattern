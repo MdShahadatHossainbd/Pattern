{
  "nbformat": 4,
  "nbformat_minor": 0,
  "metadata": {
    "colab": {
      "name": " Printing Stars in S Shape.ipynb",
      "provenance": [],
      "authorship_tag": "ABX9TyNnSakRmtdbLwqMj3Ev0JUb",
      "include_colab_link": true
    },
    "kernelspec": {
      "name": "python3",
      "display_name": "Python 3"
    }
  },
  "cells": [
    {
      "cell_type": "markdown",
      "metadata": {
        "id": "view-in-github",
        "colab_type": "text"
      },
      "source": [
        "<a href=\"https://colab.research.google.com/github/MdShahadatHossainbd/Pattern/blob/master/Printing_Stars_in_S_Shape.ipynb\" target=\"_parent\"><img src=\"https://colab.research.google.com/assets/colab-badge.svg\" alt=\"Open In Colab\"/></a>"
      ]
    },
    {
      "cell_type": "code",
      "metadata": {
        "id": "iGCtUdaTCfdK",
        "outputId": "7b7293ea-72ca-4e1a-9268-5506862402aa",
        "colab": {
          "base_uri": "https://localhost:8080/",
          "height": 164
        }
      },
      "source": [
        "for row in range(8):\n",
        "    for col in range(5):\n",
        "        if ((row == 0 or row == 3 or row == 6) and (col > 0 and col < 4)) or (col == 0 and (row > 0 and row < 3)) or (col == 4 and (row > 3 and row < 6)):\n",
        "            print(\"*\",end=\"\")\n",
        "        else:\n",
        "            print(end=\" \")\n",
        "    print()"
      ],
      "execution_count": 3,
      "outputs": [
        {
          "output_type": "stream",
          "text": [
            " *** \n",
            "*    \n",
            "*    \n",
            " *** \n",
            "    *\n",
            "    *\n",
            " *** \n",
            "     \n"
          ],
          "name": "stdout"
        }
      ]
    }
  ]
}