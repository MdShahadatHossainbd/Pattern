{
  "nbformat": 4,
  "nbformat_minor": 0,
  "metadata": {
    "colab": {
      "name": "Printing Numbers in Right Triangle Shape 2 | Column wise.ipynb",
      "provenance": [],
      "authorship_tag": "ABX9TyO9GiW54r2nwigr5DZovcW8",
      "include_colab_link": true
    },
    "kernelspec": {
      "name": "python3",
      "display_name": "Python 3"
    }
  },
  "cells": [
    {
      "cell_type": "markdown",
      "metadata": {
        "id": "view-in-github",
        "colab_type": "text"
      },
      "source": [
        "<a href=\"https://colab.research.google.com/github/MdShahadatHossainbd/Pattern/blob/master/Printing_Numbers_in_Right_Triangle_Shape_2_%7C_Column_wise.ipynb\" target=\"_parent\"><img src=\"https://colab.research.google.com/assets/colab-badge.svg\" alt=\"Open In Colab\"/></a>"
      ]
    },
    {
      "cell_type": "code",
      "metadata": {
        "id": "Fl4Soj70sv-g",
        "outputId": "5dbfef4f-e720-434e-bb64-eb7221f42973",
        "colab": {
          "base_uri": "https://localhost:8080/"
        }
      },
      "source": [
        "n=int(input(\"Enter no of rows:\"))\n",
        "for i in range(n):\n",
        "  for j in range(i+1):\n",
        "    x = 0\n",
        "    for k in range(j):\n",
        "      x = x + n - k\n",
        "    if j % 2 == 0:\n",
        "      print(x+i-j+1,end=\" \")\n",
        "    else:\n",
        "      print(x+n-i,end=\" \")\n",
        "  print()"
      ],
      "execution_count": 1,
      "outputs": [
        {
          "output_type": "stream",
          "text": [
            "Enter no of rows:12\n",
            "1 \n",
            "2 23 \n",
            "3 22 24 \n",
            "4 21 25 42 \n",
            "5 20 26 41 43 \n",
            "6 19 27 40 44 57 \n",
            "7 18 28 39 45 56 58 \n",
            "8 17 29 38 46 55 59 68 \n",
            "9 16 30 37 47 54 60 67 69 \n",
            "10 15 31 36 48 53 61 66 70 75 \n",
            "11 14 32 35 49 52 62 65 71 74 76 \n",
            "12 13 33 34 50 51 63 64 72 73 77 78 \n"
          ],
          "name": "stdout"
        }
      ]
    },
    {
      "cell_type": "code",
      "metadata": {
        "id": "lYk5ub-7wqfG",
        "outputId": "7afe24b8-ae85-45e2-90b4-813e0e81b1fb",
        "colab": {
          "base_uri": "https://localhost:8080/"
        }
      },
      "source": [
        "n = int(input(\"rows:\"))\n",
        "for i in range(n):\n",
        "    k=i+1\n",
        "    for j in range(n-i):\n",
        "        print(j+k,end=\"\")\n",
        "    print()"
      ],
      "execution_count": 3,
      "outputs": [
        {
          "output_type": "stream",
          "text": [
            "rows:9\n",
            "123456789\n",
            "23456789\n",
            "3456789\n",
            "456789\n",
            "56789\n",
            "6789\n",
            "789\n",
            "89\n",
            "9\n"
          ],
          "name": "stdout"
        }
      ]
    }
  ]
}