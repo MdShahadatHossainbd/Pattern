{
  "nbformat": 4,
  "nbformat_minor": 0,
  "metadata": {
    "colab": {
      "name": "Printing Stars '*' in Right Angle Triangle Shape.ipynb",
      "provenance": [],
      "authorship_tag": "ABX9TyONU/QinwyuYqEEOd8Ccv2N",
      "include_colab_link": true
    },
    "kernelspec": {
      "name": "python3",
      "display_name": "Python 3"
    }
  },
  "cells": [
    {
      "cell_type": "markdown",
      "metadata": {
        "id": "view-in-github",
        "colab_type": "text"
      },
      "source": [
        "<a href=\"https://colab.research.google.com/github/MdShahadatHossainbd/Pattern/blob/master/Printing_Stars_'_'_in_Right_Angle_Triangle_Shape.ipynb\" target=\"_parent\"><img src=\"https://colab.research.google.com/assets/colab-badge.svg\" alt=\"Open In Colab\"/></a>"
      ]
    },
    {
      "cell_type": "code",
      "metadata": {
        "id": "AG96rMja0X1u",
        "colab_type": "code",
        "colab": {
          "base_uri": "https://localhost:8080/",
          "height": 109
        },
        "outputId": "83c68039-0810-4e75-8b2e-48f3bfeaa44b"
      },
      "source": [
        "n = 5\n",
        "for i in reversed(range(n)):\n",
        "    print(\"*\"*(i+1))\n"
      ],
      "execution_count": 2,
      "outputs": [
        {
          "output_type": "stream",
          "text": [
            "*****\n",
            "****\n",
            "***\n",
            "**\n",
            "*\n"
          ],
          "name": "stdout"
        }
      ]
    },
    {
      "cell_type": "code",
      "metadata": {
        "id": "3LljmDjA04pO",
        "colab_type": "code",
        "colab": {
          "base_uri": "https://localhost:8080/",
          "height": 127
        },
        "outputId": "fe1c3436-2550-4b0c-fc54-54f5c92fd55f"
      },
      "source": [
        "num=int(input(\"Enter Rows\"))\n",
        "for i in range(0,num):\n",
        "    print('* '*(num-i))"
      ],
      "execution_count": 3,
      "outputs": [
        {
          "output_type": "stream",
          "text": [
            "Enter Rows5\n",
            "* * * * * \n",
            "* * * * \n",
            "* * * \n",
            "* * \n",
            "* \n"
          ],
          "name": "stdout"
        }
      ]
    },
    {
      "cell_type": "code",
      "metadata": {
        "id": "37MA5jlc1At2",
        "colab_type": "code",
        "colab": {
          "base_uri": "https://localhost:8080/",
          "height": 164
        },
        "outputId": "e22ab543-1379-4e4a-8464-6380ce11f9f3"
      },
      "source": [
        "row= int(input(\"Enter number of row: \"))\n",
        "k=row+1\n",
        "for i in range(1,row+1): \n",
        "  for j in range(1,k):\n",
        "      print(\"*\", end=\"\")\n",
        "  k=k-1\n",
        "  print()"
      ],
      "execution_count": 4,
      "outputs": [
        {
          "output_type": "stream",
          "text": [
            "Enter number of row: 7\n",
            "*******\n",
            "******\n",
            "*****\n",
            "****\n",
            "***\n",
            "**\n",
            "*\n"
          ],
          "name": "stdout"
        }
      ]
    },
    {
      "cell_type": "code",
      "metadata": {
        "id": "jw3Udg6d1UUG",
        "colab_type": "code",
        "colab": {
          "base_uri": "https://localhost:8080/",
          "height": 146
        },
        "outputId": "f7496217-7cfe-4dd2-bbf7-4436b4fcd3dd"
      },
      "source": [
        "num=int(input(\"enter rows\"))\n",
        "\n",
        "for i in range(num):\n",
        "    print(\" \"*(i)+\"*\"*(num-i))"
      ],
      "execution_count": 7,
      "outputs": [
        {
          "output_type": "stream",
          "text": [
            "enter rows6\n",
            "******\n",
            " *****\n",
            "  ****\n",
            "   ***\n",
            "    **\n",
            "     *\n"
          ],
          "name": "stdout"
        }
      ]
    }
  ]
}