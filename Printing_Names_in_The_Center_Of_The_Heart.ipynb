{
  "nbformat": 4,
  "nbformat_minor": 0,
  "metadata": {
    "colab": {
      "name": "Printing Names in The Center Of The Heart.ipynb",
      "provenance": [],
      "authorship_tag": "ABX9TyOmF2Btp05XO5vDvu7LOVe/",
      "include_colab_link": true
    },
    "kernelspec": {
      "name": "python3",
      "display_name": "Python 3"
    }
  },
  "cells": [
    {
      "cell_type": "markdown",
      "metadata": {
        "id": "view-in-github",
        "colab_type": "text"
      },
      "source": [
        "<a href=\"https://colab.research.google.com/github/MdShahadatHossainbd/Pattern/blob/master/Printing_Names_in_The_Center_Of_The_Heart.ipynb\" target=\"_parent\"><img src=\"https://colab.research.google.com/assets/colab-badge.svg\" alt=\"Open In Colab\"/></a>"
      ]
    },
    {
      "cell_type": "code",
      "metadata": {
        "id": "10OqUu7zWLT1",
        "outputId": "45cf5e65-fca7-4c2f-c6bd-1bd65d943eda",
        "colab": {
          "base_uri": "https://localhost:8080/"
        }
      },
      "source": [
        "num = int(input(\"Enter The Number: \"))\n",
        "n = num//2\n",
        "for i in range(n):\n",
        "  print(\" \"*(n-i-1)+\"* \"*(i+1),end=\"\")\n",
        "  if num % 2 == 0:\n",
        "    for j in range(2*(n-i-1)):\n",
        "      print(\" \",end=\"\")\n",
        "  else:\n",
        "    for j in range(2*(n-i-1)+1):\n",
        "      print(\" \",end=\"\")\n",
        "  for j in range(i+1):\n",
        "    print(\"* \",end=\"\")\n",
        "  print()\n",
        "\n",
        "for i in range(num,0,-1):\n",
        "  print(\" \"*(num-i)+\"* \"*(i))"
      ],
      "execution_count": 2,
      "outputs": [
        {
          "output_type": "stream",
          "text": [
            "Enter The Number: 10\n",
            "    *         * \n",
            "   * *       * * \n",
            "  * * *     * * * \n",
            " * * * *   * * * * \n",
            "* * * * * * * * * * \n",
            "* * * * * * * * * * \n",
            " * * * * * * * * * \n",
            "  * * * * * * * * \n",
            "   * * * * * * * \n",
            "    * * * * * * \n",
            "     * * * * * \n",
            "      * * * * \n",
            "       * * * \n",
            "        * * \n",
            "         * \n"
          ],
          "name": "stdout"
        }
      ]
    },
    {
      "cell_type": "code",
      "metadata": {
        "id": "vZxXgPEAYZOz",
        "outputId": "05c2858b-2083-486c-d50c-0cad9fb32c76",
        "colab": {
          "base_uri": "https://localhost:8080/"
        }
      },
      "source": [
        "num = int(input(\"Enter The Number: \"))\n",
        "msg = input(\"Enter any Msg: \")\n",
        "l = len(msg)\n",
        "n = num//2\n",
        "for i in range(n):\n",
        "  print(\" \"*(n-i-1)+\"* \"*(i+1),end=\"\")\n",
        "  if num % 2 == 0:\n",
        "    for j in range(2*(n-i-1)):\n",
        "      print(\" \",end=\"\")\n",
        "  else:\n",
        "    for j in range(2*(n-i-1)+1):\n",
        "      print(\" \",end=\"\")\n",
        "  for j in range(i+1):\n",
        "    print(\"* \",end=\"\")\n",
        "  print()\n",
        "print(msg)\n",
        "for i in range(num,0,-1):\n",
        "  print(\" \"*(num-i)+\"* \"*(i))"
      ],
      "execution_count": 5,
      "outputs": [
        {
          "output_type": "stream",
          "text": [
            "Enter The Number: 10\n",
            "Enter any Msg:  Shahadat  Hossain\n",
            "    *         * \n",
            "   * *       * * \n",
            "  * * *     * * * \n",
            " * * * *   * * * * \n",
            "* * * * * * * * * * \n",
            " Shahadat  Hossain\n",
            "* * * * * * * * * * \n",
            " * * * * * * * * * \n",
            "  * * * * * * * * \n",
            "   * * * * * * * \n",
            "    * * * * * * \n",
            "     * * * * * \n",
            "      * * * * \n",
            "       * * * \n",
            "        * * \n",
            "         * \n"
          ],
          "name": "stdout"
        }
      ]
    },
    {
      "cell_type": "code",
      "metadata": {
        "id": "Hfxoz0tDZ_vW",
        "outputId": "1f4972c1-ad79-4293-ddfc-4f27afc63e6e",
        "colab": {
          "base_uri": "https://localhost:8080/"
        }
      },
      "source": [
        "num = int(input(\"Enter The Number: \"))\n",
        "msg = input(\"Enter any Msg: \")\n",
        "l = len(msg)\n",
        "n = num//2\n",
        "for i in range(n):\n",
        "    print(\" \"*(n-i-1)+\"* \"*(i+1),end=\"\" )\n",
        "    if num % 2 == 0:\n",
        "      for j in range(2*(n-i-1)):\n",
        "        print(\" \",end=\"\")\n",
        "    else:\n",
        "      for j in range(2*(n-i-1)+1):\n",
        "        print(\" \",end=\"\")\n",
        "    for j in range(i+1):\n",
        "      print(\"* \",end=\"\")\n",
        "    print()\n",
        "\n",
        "if num %2==0:\n",
        "  if 1%2 == 0:\n",
        "    print(\"* \"*((num-1)//2)+ \" \".join(msg) + \" *\"*((num-1)//2))\n",
        "  else:\n",
        "    print(\"* \"*((num-1)//2)+ \" \".join(msg) + \" *\"*(((num-1)//2)+1))\n",
        "for i in range(num,0,-1):\n",
        "  print(\" \"*(num-i)+\"* \"*(i))"
      ],
      "execution_count": 11,
      "outputs": [
        {
          "output_type": "stream",
          "text": [
            "Enter The Number: 10\n",
            "Enter any Msg: md\n",
            "    *         * \n",
            "   * *       * * \n",
            "  * * *     * * * \n",
            " * * * *   * * * * \n",
            "* * * * * * * * * * \n",
            "* * * * m d * * * * *\n",
            "* * * * * * * * * * \n",
            " * * * * * * * * * \n",
            "  * * * * * * * * \n",
            "   * * * * * * * \n",
            "    * * * * * * \n",
            "     * * * * * \n",
            "      * * * * \n",
            "       * * * \n",
            "        * * \n",
            "         * \n"
          ],
          "name": "stdout"
        }
      ]
    },
    {
      "cell_type": "code",
      "metadata": {
        "id": "JvwpI_q2dYh9",
        "outputId": "973dd5a0-c769-4709-b999-96ebc21b11ae",
        "colab": {
          "base_uri": "https://localhost:8080/"
        }
      },
      "source": [
        "num = int(input(\"Enter The Number: \"))\n",
        "msg = input(\"Enter any Msg: \")\n",
        "l = len(msg)\n",
        "n = num//2\n",
        "for i in range(n):\n",
        "    print(\" \"*(n-i-1)+\"* \"*(i+1),end=\"\" )\n",
        "    if num % 2 == 0:\n",
        "      for j in range(2*(n-i-1)):\n",
        "        print(\" \",end=\"\")\n",
        "    else:\n",
        "      for j in range(2*(n-i-1)+1):\n",
        "        print(\" \",end=\"\")\n",
        "    for j in range(i+1):\n",
        "      print(\"* \",end=\"\")\n",
        "    print()\n",
        "\n",
        "if num %2==0:\n",
        "  if 1%2 == 0:\n",
        "    print(\"* \"*((num-1)//2)+ \" \".join(msg) + \" *\"*((num-1)//2))\n",
        "  else:\n",
        "    print(\"* \"*((num-1)//2)+ \" \".join(msg) + \" *\"*(((num-1)//2)+1))\n",
        "else:\n",
        "  if 1%2 == 0:\n",
        "    print(\"* \"*((num-1)//2)+ \" \".join(msg) + \" *\"*(((num-1)//2))+1)\n",
        "  else:\n",
        "    print(\"* \"*((num-1)//2)+ \" \".join(msg) + \" *\"*((num-1)//2))\n",
        "\n",
        "for i in range(num,0,-1):\n",
        "  print(\" \"*(num-i)+\"* \"*(i))"
      ],
      "execution_count": 17,
      "outputs": [
        {
          "output_type": "stream",
          "text": [
            "Enter The Number: 20\n",
            "Enter any Msg: md\n",
            "         *                   * \n",
            "        * *                 * * \n",
            "       * * *               * * * \n",
            "      * * * *             * * * * \n",
            "     * * * * *           * * * * * \n",
            "    * * * * * *         * * * * * * \n",
            "   * * * * * * *       * * * * * * * \n",
            "  * * * * * * * *     * * * * * * * * \n",
            " * * * * * * * * *   * * * * * * * * * \n",
            "* * * * * * * * * * * * * * * * * * * * \n",
            "* * * * * * * * * m d * * * * * * * * * *\n",
            "* * * * * * * * * * * * * * * * * * * * \n",
            " * * * * * * * * * * * * * * * * * * * \n",
            "  * * * * * * * * * * * * * * * * * * \n",
            "   * * * * * * * * * * * * * * * * * \n",
            "    * * * * * * * * * * * * * * * * \n",
            "     * * * * * * * * * * * * * * * \n",
            "      * * * * * * * * * * * * * * \n",
            "       * * * * * * * * * * * * * \n",
            "        * * * * * * * * * * * * \n",
            "         * * * * * * * * * * * \n",
            "          * * * * * * * * * * \n",
            "           * * * * * * * * * \n",
            "            * * * * * * * * \n",
            "             * * * * * * * \n",
            "              * * * * * * \n",
            "               * * * * * \n",
            "                * * * * \n",
            "                 * * * \n",
            "                  * * \n",
            "                   * \n"
          ],
          "name": "stdout"
        }
      ]
    }
  ]
}