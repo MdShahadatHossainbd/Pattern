{
  "nbformat": 4,
  "nbformat_minor": 0,
  "metadata": {
    "colab": {
      "name": " Printing Stars in Right Triangle Shape Using while loop.ipynb",
      "provenance": [],
      "authorship_tag": "ABX9TyM0qGcVXozhUg2r3SNoG4+b",
      "include_colab_link": true
    },
    "kernelspec": {
      "name": "python3",
      "display_name": "Python 3"
    }
  },
  "cells": [
    {
      "cell_type": "markdown",
      "metadata": {
        "id": "view-in-github",
        "colab_type": "text"
      },
      "source": [
        "<a href=\"https://colab.research.google.com/github/MdShahadatHossainbd/Pattern/blob/master/Printing_Stars_in_Right_Triangle_Shape_Using_while_loop.ipynb\" target=\"_parent\"><img src=\"https://colab.research.google.com/assets/colab-badge.svg\" alt=\"Open In Colab\"/></a>"
      ]
    },
    {
      "cell_type": "code",
      "metadata": {
        "id": "osTKgzyOvlHR",
        "outputId": "62aa43dc-3090-493a-ba76-3ef24eeee7cc",
        "colab": {
          "base_uri": "https://localhost:8080/",
          "height": 171
        }
      },
      "source": [
        "num = int(input(\"Enter The Number: \"))\n",
        "row = 0\n",
        "while row < num:\n",
        "  star = row + 1\n",
        "  while star > 0:\n",
        "    print(\"*\",end=\"\")\n",
        "    star = star - 1\n",
        "  row = row + 1\n",
        "  print()"
      ],
      "execution_count": 1,
      "outputs": [
        {
          "output_type": "stream",
          "text": [
            "Enter The Number: 7\n",
            "*\n",
            "**\n",
            "***\n",
            "****\n",
            "*****\n",
            "******\n",
            "*******\n"
          ],
          "name": "stdout"
        }
      ]
    },
    {
      "cell_type": "code",
      "metadata": {
        "id": "VaOnOmYvwOEg",
        "outputId": "ffebb421-a107-43d0-f3df-1ca43ad8c697",
        "colab": {
          "base_uri": "https://localhost:8080/",
          "height": 190
        }
      },
      "source": [
        "num = int(input(\"Enter The Number: \"))\n",
        "row = 0\n",
        "while row < num:\n",
        "  star = row + 1\n",
        "  while star > 0:\n",
        "    print(\"*\",end=\" \")\n",
        "    star = star - 1\n",
        "  row = row + 1\n",
        "  print()"
      ],
      "execution_count": 2,
      "outputs": [
        {
          "output_type": "stream",
          "text": [
            "Enter The Number: 8\n",
            "* \n",
            "* * \n",
            "* * * \n",
            "* * * * \n",
            "* * * * * \n",
            "* * * * * * \n",
            "* * * * * * * \n",
            "* * * * * * * * \n"
          ],
          "name": "stdout"
        }
      ]
    }
  ]
}