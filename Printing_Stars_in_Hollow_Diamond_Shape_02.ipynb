{
  "nbformat": 4,
  "nbformat_minor": 0,
  "metadata": {
    "colab": {
      "name": "Printing Stars in Hollow Diamond Shape 02.ipynb",
      "provenance": [],
      "authorship_tag": "ABX9TyNFhJSBvgTaOaxp5Kw13o9d",
      "include_colab_link": true
    },
    "kernelspec": {
      "name": "python3",
      "display_name": "Python 3"
    }
  },
  "cells": [
    {
      "cell_type": "markdown",
      "metadata": {
        "id": "view-in-github",
        "colab_type": "text"
      },
      "source": [
        "<a href=\"https://colab.research.google.com/github/MdShahadatHossainbd/Pattern/blob/master/Printing_Stars_in_Hollow_Diamond_Shape_02.ipynb\" target=\"_parent\"><img src=\"https://colab.research.google.com/assets/colab-badge.svg\" alt=\"Open In Colab\"/></a>"
      ]
    },
    {
      "cell_type": "code",
      "metadata": {
        "id": "R0j6zCriHjXk"
      },
      "source": [
        "for row in range(7):\n",
        "  for col in range(7):\n",
        "    if row + col == 3 or col - row == 3 or row - col == 3 or row + col == 9:\n",
        "      print(\"*\",end=\"\")\n",
        "    else:\n",
        "      print(end=\" \")\n",
        "  print()\n"
      ],
      "execution_count": null,
      "outputs": []
    }
  ]
}