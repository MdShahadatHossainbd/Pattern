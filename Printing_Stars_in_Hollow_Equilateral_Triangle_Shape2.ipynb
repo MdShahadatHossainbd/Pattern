{
  "nbformat": 4,
  "nbformat_minor": 0,
  "metadata": {
    "colab": {
      "name": "Printing Stars in Hollow Equilateral Triangle Shape2.ipynb",
      "provenance": [],
      "authorship_tag": "ABX9TyMovHjUGSsnA3NXNUvArg1F",
      "include_colab_link": true
    },
    "kernelspec": {
      "name": "python3",
      "display_name": "Python 3"
    }
  },
  "cells": [
    {
      "cell_type": "markdown",
      "metadata": {
        "id": "view-in-github",
        "colab_type": "text"
      },
      "source": [
        "<a href=\"https://colab.research.google.com/github/MdShahadatHossainbd/Pattern/blob/master/Printing_Stars_in_Hollow_Equilateral_Triangle_Shape2.ipynb\" target=\"_parent\"><img src=\"https://colab.research.google.com/assets/colab-badge.svg\" alt=\"Open In Colab\"/></a>"
      ]
    },
    {
      "cell_type": "code",
      "metadata": {
        "id": "ldz5M4urF60X",
        "outputId": "3d6910e9-69e5-451b-dcf8-cf09ba7b8984",
        "colab": {
          "base_uri": "https://localhost:8080/",
          "height": 90
        }
      },
      "source": [
        "for row in range(1,5):\n",
        "  for col in range(1,8):\n",
        "    if row == 4 or row+col == 5 or col-row == 3:\n",
        "      print(\"*\",end=\"\")\n",
        "    else:\n",
        "      print(end=\" \")\n",
        "  print()"
      ],
      "execution_count": 2,
      "outputs": [
        {
          "output_type": "stream",
          "text": [
            "   *   \n",
            "  * *  \n",
            " *   * \n",
            "*******\n"
          ],
          "name": "stdout"
        }
      ]
    },
    {
      "cell_type": "code",
      "metadata": {
        "id": "_ioJ7W4gG5Mt",
        "outputId": "1a57b89c-0484-4a16-ff86-52d8f091d464",
        "colab": {
          "base_uri": "https://localhost:8080/",
          "height": 164
        }
      },
      "source": [
        "n = int(input(\"Enter The Number: \"))\n",
        "for row in range(1,n+1):\n",
        "  for col in range(1,2*n):\n",
        "    if row == n or row+col == n+1 or col-row == n-1:\n",
        "      print(\"*\",end=\"\")\n",
        "    else:\n",
        "      print(end=\" \")\n",
        "  print()"
      ],
      "execution_count": 3,
      "outputs": [
        {
          "output_type": "stream",
          "text": [
            "Enter The Number: 7\n",
            "      *      \n",
            "     * *     \n",
            "    *   *    \n",
            "   *     *   \n",
            "  *       *  \n",
            " *         * \n",
            "*************\n"
          ],
          "name": "stdout"
        }
      ]
    },
    {
      "cell_type": "code",
      "metadata": {
        "id": "FsEGalXlH4-P",
        "outputId": "309d1be4-b313-43b4-983f-c4d187cc9c90",
        "colab": {
          "base_uri": "https://localhost:8080/",
          "height": 182
        }
      },
      "source": [
        "n = int(input(\"Enter The Number: \"))\n",
        "k = 2\n",
        "for row in range(1,n+1):\n",
        "  for col in range(1,2*n):\n",
        "    if row+col == n+1 or col-row == n-1:\n",
        "      print(\"*\",end=\"\")\n",
        "    elif row == n and col != k:\n",
        "      print(\"*\",end=\"\")\n",
        "      k = k + 2\n",
        "    else:\n",
        "      print(end=\" \")\n",
        "  print()"
      ],
      "execution_count": 7,
      "outputs": [
        {
          "output_type": "stream",
          "text": [
            "Enter The Number: 8\n",
            "       *       \n",
            "      * *      \n",
            "     *   *     \n",
            "    *     *    \n",
            "   *       *   \n",
            "  *         *  \n",
            " *           * \n",
            "* * * * * * * *\n"
          ],
          "name": "stdout"
        }
      ]
    },
    {
      "cell_type": "code",
      "metadata": {
        "id": "loJxy1GHQaYV",
        "outputId": "63dc1331-2817-414d-f91d-22a08564048e",
        "colab": {
          "base_uri": "https://localhost:8080/",
          "height": 164
        }
      },
      "source": [
        "n=int (input(\"enter the number of row :\"))\n",
        "for row in range (1,n+1):\n",
        "\n",
        "  for col in range (1,2*n):\n",
        "\n",
        "    if (row==n or row+col==n+1 or col-row==n-1):\n",
        "\n",
        "      print(\"*\",end=\"\") \n",
        "\n",
        "    else:\n",
        "\n",
        "      print(end=\"\")  \n",
        "\n",
        "  print()"
      ],
      "execution_count": 5,
      "outputs": [
        {
          "output_type": "stream",
          "text": [
            "enter the number of row :7\n",
            "*\n",
            "**\n",
            "**\n",
            "**\n",
            "**\n",
            "**\n",
            "*************\n"
          ],
          "name": "stdout"
        }
      ]
    },
    {
      "cell_type": "code",
      "metadata": {
        "id": "l-nw7g2IQqSV",
        "outputId": "c8910b26-10eb-4430-c170-a57af6b30e3e",
        "colab": {
          "base_uri": "https://localhost:8080/",
          "height": 90
        }
      },
      "source": [
        "for row in range(1,5):\n",
        "    for col in range(1,8):\n",
        "        if (row==4 or row+col==5 or col-row==3):\n",
        "            print(\"*\",end=\"\")\n",
        "        else:\n",
        "            print(\" \",end=\"\")\n",
        "    print()\n"
      ],
      "execution_count": 6,
      "outputs": [
        {
          "output_type": "stream",
          "text": [
            "   *   \n",
            "  * *  \n",
            " *   * \n",
            "*******\n"
          ],
          "name": "stdout"
        }
      ]
    }
  ]
}