{
  "nbformat": 4,
  "nbformat_minor": 0,
  "metadata": {
    "colab": {
      "name": "Printing Stars '$' in Different Shapes | Star Pattern.ipynb",
      "provenance": [],
      "authorship_tag": "ABX9TyO1ZC9s102351DJ4mwylnUw",
      "include_colab_link": true
    },
    "kernelspec": {
      "name": "python3",
      "display_name": "Python 3"
    }
  },
  "cells": [
    {
      "cell_type": "markdown",
      "metadata": {
        "id": "view-in-github",
        "colab_type": "text"
      },
      "source": [
        "<a href=\"https://colab.research.google.com/github/MdShahadatHossainbd/Pattern/blob/master/Printing_Stars_'%24'_in_Different_Shapes_%7C_Star_Pattern.ipynb\" target=\"_parent\"><img src=\"https://colab.research.google.com/assets/colab-badge.svg\" alt=\"Open In Colab\"/></a>"
      ]
    },
    {
      "cell_type": "code",
      "metadata": {
        "id": "EDe4wmlDxAcH",
        "outputId": "667a4e2d-bf23-4ef6-cbe3-5232bf17312f",
        "colab": {
          "base_uri": "https://localhost:8080/"
        }
      },
      "source": [
        "num=int(input(\"Enter no of rows:\"))\n",
        "for i in range(num):\n",
        "  for j in range(num):\n",
        "    print(\"$\",end=\" \")\n",
        "  print()"
      ],
      "execution_count": 1,
      "outputs": [
        {
          "output_type": "stream",
          "text": [
            "Enter no of rows:7\n",
            "$ $ $ $ $ $ $ \n",
            "$ $ $ $ $ $ $ \n",
            "$ $ $ $ $ $ $ \n",
            "$ $ $ $ $ $ $ \n",
            "$ $ $ $ $ $ $ \n",
            "$ $ $ $ $ $ $ \n",
            "$ $ $ $ $ $ $ \n"
          ],
          "name": "stdout"
        }
      ]
    },
    {
      "cell_type": "code",
      "metadata": {
        "id": "pj1TbG02AXDy",
        "outputId": "f85886ef-ec89-43c5-d917-984ecbc699d3",
        "colab": {
          "base_uri": "https://localhost:8080/"
        }
      },
      "source": [
        "num=int(input(\"Enter no of rows:\"))\n",
        "for i in range(num):\n",
        "  print(\"$\"*num)"
      ],
      "execution_count": 3,
      "outputs": [
        {
          "output_type": "stream",
          "text": [
            "Enter no of rows:7\n",
            "$$$$$$$\n",
            "$$$$$$$\n",
            "$$$$$$$\n",
            "$$$$$$$\n",
            "$$$$$$$\n",
            "$$$$$$$\n",
            "$$$$$$$\n"
          ],
          "name": "stdout"
        }
      ]
    },
    {
      "cell_type": "code",
      "metadata": {
        "id": "_E4Ziv0iAyty",
        "outputId": "37ce7927-03ac-4147-8595-96b73c3cfa65",
        "colab": {
          "base_uri": "https://localhost:8080/"
        }
      },
      "source": [
        "num=int(input(\"Enter no of rows:\"))\n",
        "for i in range(num):\n",
        "  print(\"$ \"*num)"
      ],
      "execution_count": 4,
      "outputs": [
        {
          "output_type": "stream",
          "text": [
            "Enter no of rows:7\n",
            "$ $ $ $ $ $ $ \n",
            "$ $ $ $ $ $ $ \n",
            "$ $ $ $ $ $ $ \n",
            "$ $ $ $ $ $ $ \n",
            "$ $ $ $ $ $ $ \n",
            "$ $ $ $ $ $ $ \n",
            "$ $ $ $ $ $ $ \n"
          ],
          "name": "stdout"
        }
      ]
    },
    {
      "cell_type": "code",
      "metadata": {
        "id": "a8YEMPyGAvED",
        "outputId": "3c494893-5abc-4733-ec2f-cd49a8c36a77",
        "colab": {
          "base_uri": "https://localhost:8080/"
        }
      },
      "source": [
        "num=int(input(\"Enter no of rows:\"))\n",
        "for i in range(1,num+1):\n",
        "  print(\"$ \"*i)"
      ],
      "execution_count": 5,
      "outputs": [
        {
          "output_type": "stream",
          "text": [
            "Enter no of rows:7\n",
            "$ \n",
            "$ $ \n",
            "$ $ $ \n",
            "$ $ $ $ \n",
            "$ $ $ $ $ \n",
            "$ $ $ $ $ $ \n",
            "$ $ $ $ $ $ $ \n"
          ],
          "name": "stdout"
        }
      ]
    },
    {
      "cell_type": "code",
      "metadata": {
        "id": "OLObqmB_BFUV",
        "outputId": "9c3dc0e4-39fd-4c1f-810a-246cf94d106d",
        "colab": {
          "base_uri": "https://localhost:8080/"
        }
      },
      "source": [
        "num=int(input(\"Enter no of rows:\"))\n",
        "for i in range(1,num+1):\n",
        "  print(\" \"*(num-i)+\"$ \"*i)"
      ],
      "execution_count": 6,
      "outputs": [
        {
          "output_type": "stream",
          "text": [
            "Enter no of rows:7\n",
            "      $ \n",
            "     $ $ \n",
            "    $ $ $ \n",
            "   $ $ $ $ \n",
            "  $ $ $ $ $ \n",
            " $ $ $ $ $ $ \n",
            "$ $ $ $ $ $ $ \n"
          ],
          "name": "stdout"
        }
      ]
    },
    {
      "cell_type": "code",
      "metadata": {
        "id": "-8AjNTNGBngo",
        "outputId": "eda1ce8b-886e-4e52-ccfb-a7e50c182469",
        "colab": {
          "base_uri": "https://localhost:8080/"
        }
      },
      "source": [
        "num=int(input(\"Enter no of rows:\"))\n",
        "for i in range(1,num+1):\n",
        "  print(\" \"*(num-i)+\"$\"*i)"
      ],
      "execution_count": 7,
      "outputs": [
        {
          "output_type": "stream",
          "text": [
            "Enter no of rows:7\n",
            "      $\n",
            "     $$\n",
            "    $$$\n",
            "   $$$$\n",
            "  $$$$$\n",
            " $$$$$$\n",
            "$$$$$$$\n"
          ],
          "name": "stdout"
        }
      ]
    },
    {
      "cell_type": "code",
      "metadata": {
        "id": "q7Y4nP_2B1n9",
        "outputId": "3a6909d5-20f2-4570-fb07-fad417068aa2",
        "colab": {
          "base_uri": "https://localhost:8080/"
        }
      },
      "source": [
        "num=int(input(\"Enter no of rows:\"))\n",
        "for i in range(1,num+1):\n",
        "  print(\"  \"*(num-i)+\"$ \"*i)"
      ],
      "execution_count": 8,
      "outputs": [
        {
          "output_type": "stream",
          "text": [
            "Enter no of rows:7\n",
            "            $ \n",
            "          $ $ \n",
            "        $ $ $ \n",
            "      $ $ $ $ \n",
            "    $ $ $ $ $ \n",
            "  $ $ $ $ $ $ \n",
            "$ $ $ $ $ $ $ \n"
          ],
          "name": "stdout"
        }
      ]
    },
    {
      "cell_type": "code",
      "metadata": {
        "id": "OgDJ928ACDzY",
        "outputId": "be28ae79-82f0-4b25-8b6d-9ee7784fa30c",
        "colab": {
          "base_uri": "https://localhost:8080/"
        }
      },
      "source": [
        "num=int(input(\"Enter no of rows:\"))\n",
        "for i in range(1,num+1):\n",
        "  print(\" \"*(num-i)+\"$ \"*i)\n",
        "for i in range(num,0,-1):\n",
        "  print(\" \"*(num-i)+\"$ \"*i)"
      ],
      "execution_count": 9,
      "outputs": [
        {
          "output_type": "stream",
          "text": [
            "Enter no of rows:7\n",
            "      $ \n",
            "     $ $ \n",
            "    $ $ $ \n",
            "   $ $ $ $ \n",
            "  $ $ $ $ $ \n",
            " $ $ $ $ $ $ \n",
            "$ $ $ $ $ $ $ \n",
            "$ $ $ $ $ $ $ \n",
            " $ $ $ $ $ $ \n",
            "  $ $ $ $ $ \n",
            "   $ $ $ $ \n",
            "    $ $ $ \n",
            "     $ $ \n",
            "      $ \n"
          ],
          "name": "stdout"
        }
      ]
    },
    {
      "cell_type": "code",
      "metadata": {
        "id": "x8IIik3uCbAj",
        "outputId": "2b31e76b-f6d6-4ac2-9107-2c56fc718332",
        "colab": {
          "base_uri": "https://localhost:8080/"
        }
      },
      "source": [
        "num=int(input(\"Enter no of rows:\"))\n",
        "for i in range(1,num+1):\n",
        "  print(\" \"*(num-i)+\"$ \"*i)\n",
        "for i in range(num-1,0,-1):\n",
        "  print(\" \"*(num-i)+\"$ \"*i)"
      ],
      "execution_count": 10,
      "outputs": [
        {
          "output_type": "stream",
          "text": [
            "Enter no of rows:7\n",
            "      $ \n",
            "     $ $ \n",
            "    $ $ $ \n",
            "   $ $ $ $ \n",
            "  $ $ $ $ $ \n",
            " $ $ $ $ $ $ \n",
            "$ $ $ $ $ $ $ \n",
            " $ $ $ $ $ $ \n",
            "  $ $ $ $ $ \n",
            "   $ $ $ $ \n",
            "    $ $ $ \n",
            "     $ $ \n",
            "      $ \n"
          ],
          "name": "stdout"
        }
      ]
    },
    {
      "cell_type": "code",
      "metadata": {
        "id": "AyhgIaPyCwG-",
        "outputId": "7a07e892-2c55-421c-d4f0-2c5a34bca74b",
        "colab": {
          "base_uri": "https://localhost:8080/"
        }
      },
      "source": [
        "num=int(input(\"Enter no of rows:\"))\n",
        "for i in range(1,num+1):\n",
        "  print(\" \"*(num-i)+\"$ \"*i)"
      ],
      "execution_count": 12,
      "outputs": [
        {
          "output_type": "stream",
          "text": [
            "Enter no of rows:7\n",
            "      $ \n",
            "     $ $ \n",
            "    $ $ $ \n",
            "   $ $ $ $ \n",
            "  $ $ $ $ $ \n",
            " $ $ $ $ $ $ \n",
            "$ $ $ $ $ $ $ \n"
          ],
          "name": "stdout"
        }
      ]
    },
    {
      "cell_type": "code",
      "metadata": {
        "id": "c-SVvUqZCztb",
        "outputId": "db0a80a6-2f7d-4f29-c516-2a95e76d0318",
        "colab": {
          "base_uri": "https://localhost:8080/"
        }
      },
      "source": [
        "num=int(input(\"Enter no of rows:\"))\n",
        "for i in range(num-1,0,-1):\n",
        "  print(\" \"*(num-i)+\"$ \"*i)"
      ],
      "execution_count": 13,
      "outputs": [
        {
          "output_type": "stream",
          "text": [
            "Enter no of rows:7\n",
            " $ $ $ $ $ $ \n",
            "  $ $ $ $ $ \n",
            "   $ $ $ $ \n",
            "    $ $ $ \n",
            "     $ $ \n",
            "      $ \n"
          ],
          "name": "stdout"
        }
      ]
    },
    {
      "cell_type": "code",
      "metadata": {
        "id": "d6FoHEcRC-oR",
        "outputId": "2c25133c-552d-40f4-96af-b6f907409710",
        "colab": {
          "base_uri": "https://localhost:8080/"
        }
      },
      "source": [
        "num=int(input(\"Enter no of rows:\"))\n",
        "for i in range(num-1,0,-1):\n",
        "  print(\"$ \"*i)"
      ],
      "execution_count": 14,
      "outputs": [
        {
          "output_type": "stream",
          "text": [
            "Enter no of rows:7\n",
            "$ $ $ $ $ $ \n",
            "$ $ $ $ $ \n",
            "$ $ $ $ \n",
            "$ $ $ \n",
            "$ $ \n",
            "$ \n"
          ],
          "name": "stdout"
        }
      ]
    },
    {
      "cell_type": "code",
      "metadata": {
        "id": "ZibOmHOQDeY2",
        "outputId": "95ab480a-ae1c-45ec-ed01-f0df32dd1441",
        "colab": {
          "base_uri": "https://localhost:8080/"
        }
      },
      "source": [
        "num=int(input(\"Enter no of rows:\"))\n",
        "for i in range(1,num+1):\n",
        "  print(\"$ \"*i)\n",
        "for i in range(num,0,-1):\n",
        "  print(\"$ \"*i)"
      ],
      "execution_count": 16,
      "outputs": [
        {
          "output_type": "stream",
          "text": [
            "Enter no of rows:7\n",
            "$ \n",
            "$ $ \n",
            "$ $ $ \n",
            "$ $ $ $ \n",
            "$ $ $ $ $ \n",
            "$ $ $ $ $ $ \n",
            "$ $ $ $ $ $ $ \n",
            "$ $ $ $ $ $ $ \n",
            "$ $ $ $ $ $ \n",
            "$ $ $ $ $ \n",
            "$ $ $ $ \n",
            "$ $ $ \n",
            "$ $ \n",
            "$ \n"
          ],
          "name": "stdout"
        }
      ]
    },
    {
      "cell_type": "code",
      "metadata": {
        "id": "mIsDbVUoDL6S",
        "outputId": "55f2dbc2-e1ff-437b-c4ae-58131eb9fd86",
        "colab": {
          "base_uri": "https://localhost:8080/"
        }
      },
      "source": [
        "num=int(input(\"Enter no of rows:\"))\n",
        "for i in range(1,num+1):\n",
        "  print(\"$ \"*i)\n",
        "for i in range(num-1,0,-1):\n",
        "  print(\"$ \"*i)"
      ],
      "execution_count": 17,
      "outputs": [
        {
          "output_type": "stream",
          "text": [
            "Enter no of rows:7\n",
            "$ \n",
            "$ $ \n",
            "$ $ $ \n",
            "$ $ $ $ \n",
            "$ $ $ $ $ \n",
            "$ $ $ $ $ $ \n",
            "$ $ $ $ $ $ $ \n",
            "$ $ $ $ $ $ \n",
            "$ $ $ $ $ \n",
            "$ $ $ $ \n",
            "$ $ $ \n",
            "$ $ \n",
            "$ \n"
          ],
          "name": "stdout"
        }
      ]
    },
    {
      "cell_type": "code",
      "metadata": {
        "id": "KKL4cvPKDuVg",
        "outputId": "e2e3b79e-0672-443a-b7a7-00f80ebf28c3",
        "colab": {
          "base_uri": "https://localhost:8080/"
        }
      },
      "source": [
        "num=int(input(\"Enter no of rows:\"))\n",
        "for i in range(1,num+1):\n",
        "  print(\"  \"*(num-i)+\"$ \"*i)\n",
        "for i in range(num-1,0,-1):\n",
        "  print(\"  \"*(num-i)+\"$ \"*i)"
      ],
      "execution_count": 18,
      "outputs": [
        {
          "output_type": "stream",
          "text": [
            "Enter no of rows:7\n",
            "            $ \n",
            "          $ $ \n",
            "        $ $ $ \n",
            "      $ $ $ $ \n",
            "    $ $ $ $ $ \n",
            "  $ $ $ $ $ $ \n",
            "$ $ $ $ $ $ $ \n",
            "  $ $ $ $ $ $ \n",
            "    $ $ $ $ $ \n",
            "      $ $ $ $ \n",
            "        $ $ $ \n",
            "          $ $ \n",
            "            $ \n"
          ],
          "name": "stdout"
        }
      ]
    }
  ]
}