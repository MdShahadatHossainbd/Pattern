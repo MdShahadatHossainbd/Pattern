{
  "nbformat": 4,
  "nbformat_minor": 0,
  "metadata": {
    "colab": {
      "name": "Printing Numbers in Right Triangle Shape.ipynb",
      "provenance": [],
      "authorship_tag": "ABX9TyObytZeEOPM6+BSlow9h8Rk",
      "include_colab_link": true
    },
    "kernelspec": {
      "name": "python3",
      "display_name": "Python 3"
    }
  },
  "cells": [
    {
      "cell_type": "markdown",
      "metadata": {
        "id": "view-in-github",
        "colab_type": "text"
      },
      "source": [
        "<a href=\"https://colab.research.google.com/github/MdShahadatHossainbd/Pattern/blob/master/Printing_Numbers_in_Right_Triangle_Shape.ipynb\" target=\"_parent\"><img src=\"https://colab.research.google.com/assets/colab-badge.svg\" alt=\"Open In Colab\"/></a>"
      ]
    },
    {
      "cell_type": "code",
      "metadata": {
        "id": "SVoWI_ZKUeFv",
        "outputId": "5bdfe245-4b81-4be5-a404-275de5c4b248",
        "colab": {
          "base_uri": "https://localhost:8080/",
          "height": 164
        }
      },
      "source": [
        "n = int(input(\"Enter The Number: \"))\n",
        "for row in range(n,0,-1):\n",
        "  for col in range(1,row+1):\n",
        "    print(col,end=\"\")\n",
        "  print()"
      ],
      "execution_count": 15,
      "outputs": [
        {
          "output_type": "stream",
          "text": [
            "Enter The Number: 7\n",
            "1234567\n",
            "123456\n",
            "12345\n",
            "1234\n",
            "123\n",
            "12\n",
            "1\n"
          ],
          "name": "stdout"
        }
      ]
    },
    {
      "cell_type": "code",
      "metadata": {
        "id": "kUtC4ABxVHlv",
        "outputId": "217f63e0-c339-442d-9c8c-d437e84749cf",
        "colab": {
          "base_uri": "https://localhost:8080/",
          "height": 164
        }
      },
      "source": [
        "n = int(input(\"Enter The Number: \"))\n",
        "for row in range(n,0,-1):\n",
        "  for col in range(1,row+1):\n",
        "    print(row,end=\"\")\n",
        "  print()"
      ],
      "execution_count": 16,
      "outputs": [
        {
          "output_type": "stream",
          "text": [
            "Enter The Number: 7\n",
            "7777777\n",
            "666666\n",
            "55555\n",
            "4444\n",
            "333\n",
            "22\n",
            "1\n"
          ],
          "name": "stdout"
        }
      ]
    },
    {
      "cell_type": "code",
      "metadata": {
        "id": "7aWvU2exR7t2",
        "outputId": "b19c22de-25d4-4449-ba85-53e52dc80c37",
        "colab": {
          "base_uri": "https://localhost:8080/",
          "height": 109
        }
      },
      "source": [
        "for i in '54321':\n",
        "\tfor j in range(int(i)):\n",
        "\t\tprint(i,end=\" \")\n",
        "\tprint()\n"
      ],
      "execution_count": 1,
      "outputs": [
        {
          "output_type": "stream",
          "text": [
            "5 5 5 5 5 \n",
            "4 4 4 4 \n",
            "3 3 3 \n",
            "2 2 \n",
            "1 \n"
          ],
          "name": "stdout"
        }
      ]
    },
    {
      "cell_type": "code",
      "metadata": {
        "id": "g0Eh_o2MSJ38",
        "outputId": "5a8991c5-33fd-4aba-ead3-258746d71b97",
        "colab": {
          "base_uri": "https://localhost:8080/",
          "height": 109
        }
      },
      "source": [
        "n=5\n",
        "for i in range(n):\n",
        "  for j in range(1,n+1-i):\n",
        "   print(j,end=\"\")\n",
        "  print()"
      ],
      "execution_count": 2,
      "outputs": [
        {
          "output_type": "stream",
          "text": [
            "12345\n",
            "1234\n",
            "123\n",
            "12\n",
            "1\n"
          ],
          "name": "stdout"
        }
      ]
    },
    {
      "cell_type": "code",
      "metadata": {
        "id": "_pHz4R85TRy-",
        "outputId": "f713005a-740e-4f63-bbf3-22a2e9eb30ed",
        "colab": {
          "base_uri": "https://localhost:8080/",
          "height": 35
        }
      },
      "source": [
        "n = 5\n",
        "for i in range(n):\n",
        "    for j in range(i+1):\n",
        "        print(n,end=\"\")\n",
        "    print(end=\" \")"
      ],
      "execution_count": 9,
      "outputs": [
        {
          "output_type": "stream",
          "text": [
            "5 55 555 5555 55555 "
          ],
          "name": "stdout"
        }
      ]
    },
    {
      "cell_type": "code",
      "metadata": {
        "id": "FkxyQvkbTmiU",
        "outputId": "60dc1103-23fd-4b40-a657-4a453802a650",
        "colab": {
          "base_uri": "https://localhost:8080/",
          "height": 127
        }
      },
      "source": [
        "a=''\n",
        "\n",
        "b=0\n",
        "\n",
        "for i in range(6,0,-1):\n",
        "\n",
        "    a='t'*i\n",
        "\n",
        "    print(' '*b,a)\n",
        "\n",
        "    b+=1"
      ],
      "execution_count": 12,
      "outputs": [
        {
          "output_type": "stream",
          "text": [
            " tttttt\n",
            "  ttttt\n",
            "   tttt\n",
            "    ttt\n",
            "     tt\n",
            "      t\n"
          ],
          "name": "stdout"
        }
      ]
    },
    {
      "cell_type": "code",
      "metadata": {
        "id": "VP9RZCO7Txrw",
        "outputId": "99a2b3c4-e12a-4d0b-afc0-461ca21ceb25",
        "colab": {
          "base_uri": "https://localhost:8080/",
          "height": 109
        }
      },
      "source": [
        "a=''\n",
        "\n",
        "for i in range(1,6):\n",
        "\n",
        "    a+=str(i)\n",
        "\n",
        "    print(a[::-1])"
      ],
      "execution_count": 13,
      "outputs": [
        {
          "output_type": "stream",
          "text": [
            "1\n",
            "21\n",
            "321\n",
            "4321\n",
            "54321\n"
          ],
          "name": "stdout"
        }
      ]
    },
    {
      "cell_type": "code",
      "metadata": {
        "id": "VxjruAVvT8ch",
        "outputId": "4136381f-3e00-4196-a6aa-1bb1d38f6ac0",
        "colab": {
          "base_uri": "https://localhost:8080/",
          "height": 182
        }
      },
      "source": [
        "for i in range(1,6):\n",
        "\n",
        "    for j in range(1,i+1):\n",
        "\n",
        "        print(i,end='')\n",
        "\n",
        "    print('')\n",
        "\n",
        "for i in range(4,0,-1):\n",
        "\n",
        "    for j in range(1,i+1):\n",
        "\n",
        "        print(i, end='')\n",
        "\n",
        "    print('')"
      ],
      "execution_count": 14,
      "outputs": [
        {
          "output_type": "stream",
          "text": [
            "1\n",
            "22\n",
            "333\n",
            "4444\n",
            "55555\n",
            "4444\n",
            "333\n",
            "22\n",
            "1\n"
          ],
          "name": "stdout"
        }
      ]
    }
  ]
}