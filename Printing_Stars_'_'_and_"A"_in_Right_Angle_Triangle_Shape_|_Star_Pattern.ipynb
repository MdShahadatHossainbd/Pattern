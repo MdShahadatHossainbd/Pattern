{
  "nbformat": 4,
  "nbformat_minor": 0,
  "metadata": {
    "colab": {
      "name": "Printing Stars '*' and \"A\" in Right Angle Triangle Shape | Star Pattern.ipynb",
      "provenance": [],
      "authorship_tag": "ABX9TyP4C9qQJfXJJqqU4RVoP+3A",
      "include_colab_link": true
    },
    "kernelspec": {
      "name": "python3",
      "display_name": "Python 3"
    }
  },
  "cells": [
    {
      "cell_type": "markdown",
      "metadata": {
        "id": "view-in-github",
        "colab_type": "text"
      },
      "source": [
        "<a href=\"https://colab.research.google.com/github/MdShahadatHossainbd/Pattern/blob/master/Printing_Stars_'_'_and_%22A%22_in_Right_Angle_Triangle_Shape_%7C_Star_Pattern.ipynb\" target=\"_parent\"><img src=\"https://colab.research.google.com/assets/colab-badge.svg\" alt=\"Open In Colab\"/></a>"
      ]
    },
    {
      "cell_type": "code",
      "metadata": {
        "colab": {
          "base_uri": "https://localhost:8080/"
        },
        "id": "Pe6rCvQv0PpW",
        "outputId": "8be3a321-4bc5-4c7c-9e0a-3ca1792d21fb"
      },
      "source": [
        "n = int(input(\"Enter The Number Rows: \"))\n",
        "for i in range(n):\n",
        "  count = 0\n",
        "  for j in range(n-i-1):\n",
        "    print(\" \",end=\"\")\n",
        "  for j in range(i+1):\n",
        "    print(\"*\",end=\"\")\n",
        "    if count < i:\n",
        "      print(\"A\",end=\"\")\n",
        "      count=count+1\n",
        "  print()\n",
        "\n",
        "\n"
      ],
      "execution_count": 3,
      "outputs": [
        {
          "output_type": "stream",
          "text": [
            "Enter The Number Rows: 6\n",
            "     *\n",
            "    *A*\n",
            "   *A*A*\n",
            "  *A*A*A*\n",
            " *A*A*A*A*\n",
            "*A*A*A*A*A*\n"
          ],
          "name": "stdout"
        }
      ]
    },
    {
      "cell_type": "code",
      "metadata": {
        "colab": {
          "base_uri": "https://localhost:8080/"
        },
        "id": "tACW_tsO2ibz",
        "outputId": "e609adf7-0172-40c3-a351-21f7ba02ee0c"
      },
      "source": [
        "n = int(input(\"rows:\"))\n",
        "\n",
        "mid = n//2+1\n",
        "k =mid\n",
        "for i in range(1,mid+1):\n",
        "  count =1\n",
        "  for j in range(1,i+1):\n",
        "    print(i,end=\"\")\n",
        "    if count<i:\n",
        "      print(\"*\",end=\"\")\n",
        "      count=count+1\n",
        "  print()\n",
        "for i in range(mid-1,0,-1):\n",
        "  k=k-1\n",
        "  count=1\n",
        "  for j in range(i,0,-1):\n",
        "    print(k,end=\"\")\n",
        "   \n",
        "    if count<k:\n",
        "      print(\"*\",end=\"\")\n",
        "      count=count+1\n",
        "  print()"
      ],
      "execution_count": 4,
      "outputs": [
        {
          "output_type": "stream",
          "text": [
            "rows:7\n",
            "1\n",
            "2*2\n",
            "3*3*3\n",
            "4*4*4*4\n",
            "3*3*3\n",
            "2*2\n",
            "1\n"
          ],
          "name": "stdout"
        }
      ]
    }
  ]
}