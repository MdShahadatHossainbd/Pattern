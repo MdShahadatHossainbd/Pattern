{
  "nbformat": 4,
  "nbformat_minor": 0,
  "metadata": {
    "colab": {
      "name": "Printing Numbers in Triangle Shape | Column wise",
      "provenance": [],
      "authorship_tag": "ABX9TyNIchjEVsklJTLHU4K+jSr/",
      "include_colab_link": true
    },
    "kernelspec": {
      "name": "python3",
      "display_name": "Python 3"
    }
  },
  "cells": [
    {
      "cell_type": "markdown",
      "metadata": {
        "id": "view-in-github",
        "colab_type": "text"
      },
      "source": [
        "<a href=\"https://colab.research.google.com/github/MdShahadatHossainbd/Pattern/blob/master/Printing_Numbers_in_Triangle_Shape_%7C_Column_wise.ipynb\" target=\"_parent\"><img src=\"https://colab.research.google.com/assets/colab-badge.svg\" alt=\"Open In Colab\"/></a>"
      ]
    },
    {
      "cell_type": "code",
      "metadata": {
        "id": "EW9lgyh9udYo",
        "colab": {
          "base_uri": "https://localhost:8080/"
        },
        "outputId": "00a910aa-7054-4ed0-ced6-9cc8de14a5b4"
      },
      "source": [
        "n = 5\n",
        "k = 15\n",
        "for row in range(n):\n",
        "  val = k - row \n",
        "  dec = n - 1\n",
        "  for col in range(row+1):\n",
        "    print(val,end=\" \")\n",
        "    val = val - dec\n",
        "    dec = dec - 1\n",
        "  print()"
      ],
      "execution_count": 10,
      "outputs": [
        {
          "output_type": "stream",
          "text": [
            "15 \n",
            "14 10 \n",
            "13 9 6 \n",
            "12 8 5 3 \n",
            "11 7 4 2 1 \n"
          ],
          "name": "stdout"
        }
      ]
    },
    {
      "cell_type": "code",
      "metadata": {
        "colab": {
          "base_uri": "https://localhost:8080/"
        },
        "id": "hJlQZKb05QUG",
        "outputId": "f6111940-8af0-4227-d031-c8541ec96885"
      },
      "source": [
        "def num(n1):\n",
        "  if n1 == 1:\n",
        "    return 1\n",
        "  else:\n",
        "    return n1 + num(n1 - 1) \n",
        "\n",
        "n = int(input(\"Enter The Row: \"))\n",
        "k = num(n)\n",
        "for row in range(n):\n",
        "  val = k - row \n",
        "  dec = n - 1\n",
        "  for col in range(row+1):\n",
        "    print(val,end=\" \")\n",
        "    val = val - dec\n",
        "    dec = dec - 1\n",
        "  print()"
      ],
      "execution_count": 11,
      "outputs": [
        {
          "output_type": "stream",
          "text": [
            "Enter The Row: 7\n",
            "28 \n",
            "27 21 \n",
            "26 20 15 \n",
            "25 19 14 10 \n",
            "24 18 13 9 6 \n",
            "23 17 12 8 5 3 \n",
            "22 16 11 7 4 2 1 \n"
          ],
          "name": "stdout"
        }
      ]
    },
    {
      "cell_type": "code",
      "metadata": {
        "colab": {
          "base_uri": "https://localhost:8080/"
        },
        "id": "iqcazovy6AWY",
        "outputId": "af7e3f50-13c9-47a2-bd1e-190dfc0941e5"
      },
      "source": [
        "def num(n1):\n",
        "  if n1 == 1:\n",
        "    return 1\n",
        "  else:\n",
        "    return n1 + num(n1 - 1) \n",
        "\n",
        "n = int(input(\"Enter The Row: \"))\n",
        "k = num(n)\n",
        "for row in range(n):\n",
        "  val = k - row \n",
        "  dec = n - 1\n",
        "  for col in range(row+1):\n",
        "    print(format(val,\"<3\"),end=\"\")\n",
        "    val = val - dec\n",
        "    dec = dec - 1\n",
        "  print()"
      ],
      "execution_count": 12,
      "outputs": [
        {
          "output_type": "stream",
          "text": [
            "Enter The Row: 10\n",
            "55 \n",
            "54 45 \n",
            "53 44 36 \n",
            "52 43 35 28 \n",
            "51 42 34 27 21 \n",
            "50 41 33 26 20 15 \n",
            "49 40 32 25 19 14 10 \n",
            "48 39 31 24 18 13 9  6  \n",
            "47 38 30 23 17 12 8  5  3  \n",
            "46 37 29 22 16 11 7  4  2  1  \n"
          ],
          "name": "stdout"
        }
      ]
    },
    {
      "cell_type": "code",
      "metadata": {
        "colab": {
          "base_uri": "https://localhost:8080/"
        },
        "id": "ey_RblZGuB9l",
        "outputId": "1a244fc0-b0ff-4bef-e6f1-7b0429172c21"
      },
      "source": [
        "n = int(input(\"Enter the number of rows: \"))\n",
        "for row in range(n):\n",
        "    val = row +1\n",
        "    dec = n - 1\n",
        "    for j in range(row+1):\n",
        "        print(val,end=\" \")\n",
        "        val += dec+n+1\n",
        "    print()"
      ],
      "execution_count": 13,
      "outputs": [
        {
          "output_type": "stream",
          "text": [
            "Enter the number of rows: 7\n",
            "1 \n",
            "2 16 \n",
            "3 17 31 \n",
            "4 18 32 46 \n",
            "5 19 33 47 61 \n",
            "6 20 34 48 62 76 \n",
            "7 21 35 49 63 77 91 \n"
          ],
          "name": "stdout"
        }
      ]
    },
    {
      "cell_type": "code",
      "metadata": {
        "colab": {
          "base_uri": "https://localhost:8080/"
        },
        "id": "R8ssYvmt7fTa",
        "outputId": "82377a30-a6ea-4060-ab30-fd60d3f94078"
      },
      "source": [
        "n = int(input(\"Enter the number of rows: \"))\n",
        "for row in range(n):\n",
        "    val = row +1\n",
        "    dec = n - 1\n",
        "    for j in range(row+1):\n",
        "        print(val,end=\" \")\n",
        "        val = val + row\n",
        "        dec = dec - 1\n",
        "    print()"
      ],
      "execution_count": 14,
      "outputs": [
        {
          "output_type": "stream",
          "text": [
            "Enter the number of rows: 6\n",
            "1 \n",
            "2 3 \n",
            "3 5 7 \n",
            "4 7 10 13 \n",
            "5 9 13 17 21 \n",
            "6 11 16 21 26 31 \n"
          ],
          "name": "stdout"
        }
      ]
    }
  ]
}