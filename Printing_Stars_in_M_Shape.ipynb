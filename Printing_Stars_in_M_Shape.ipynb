{
  "nbformat": 4,
  "nbformat_minor": 0,
  "metadata": {
    "colab": {
      "name": "Printing Stars in M Shape.ipynb",
      "provenance": [],
      "authorship_tag": "ABX9TyMiB+sv/2j/+ISzWfr7Sv5/",
      "include_colab_link": true
    },
    "kernelspec": {
      "name": "python3",
      "display_name": "Python 3"
    }
  },
  "cells": [
    {
      "cell_type": "markdown",
      "metadata": {
        "id": "view-in-github",
        "colab_type": "text"
      },
      "source": [
        "<a href=\"https://colab.research.google.com/github/MdShahadatHossainbd/Pattern/blob/master/Printing_Stars_in_M_Shape.ipynb\" target=\"_parent\"><img src=\"https://colab.research.google.com/assets/colab-badge.svg\" alt=\"Open In Colab\"/></a>"
      ]
    },
    {
      "cell_type": "code",
      "metadata": {
        "id": "dF2tm3zLy8OF",
        "outputId": "145f8e23-bbe1-4c22-f5d6-0bfd88fe426e",
        "colab": {
          "base_uri": "https://localhost:8080/",
          "height": 146
        }
      },
      "source": [
        "for row in range(7):\n",
        "  for col in range(7):\n",
        "    if col == 0 or col == 6 or ((row == col) and (col > 0 and col < 4)) or (row == 1 and col == 5) or (row == 2 and col == 4):\n",
        "      print(\"*\", end=\"\")\n",
        "    else:\n",
        "      print(end=\" \")\n",
        "  print()"
      ],
      "execution_count": 6,
      "outputs": [
        {
          "output_type": "stream",
          "text": [
            "*     *\n",
            "**   **\n",
            "* * * *\n",
            "*  *  *\n",
            "*     *\n",
            "*     *\n",
            "*     *\n"
          ],
          "name": "stdout"
        }
      ]
    },
    {
      "cell_type": "code",
      "metadata": {
        "id": "6FRN8MRC1wT4",
        "outputId": "eb96da07-26a5-44d3-ff2a-0b434d17e8e1",
        "colab": {
          "base_uri": "https://localhost:8080/",
          "height": 127
        }
      },
      "source": [
        "for row in range(6):\n",
        "    for col in range(7):\n",
        "        if (col==0 or col==6) or (row<4 and (col==6-row)) or (row<4 and (col==row)):\n",
        "            print(\"*\",end=\"\")\n",
        "        else:\n",
        "            print(\" \",end=\"\")\n",
        "    print()"
      ],
      "execution_count": 3,
      "outputs": [
        {
          "output_type": "stream",
          "text": [
            "*     *\n",
            "**   **\n",
            "* * * *\n",
            "*  *  *\n",
            "*     *\n",
            "*     *\n"
          ],
          "name": "stdout"
        }
      ]
    }
  ]
}