{
  "nbformat": 4,
  "nbformat_minor": 0,
  "metadata": {
    "colab": {
      "name": "Printing Stars in N Shape.ipynb",
      "provenance": [],
      "authorship_tag": "ABX9TyOygNi8FgUB4E5QI7xUSR+h",
      "include_colab_link": true
    },
    "kernelspec": {
      "name": "python3",
      "display_name": "Python 3"
    }
  },
  "cells": [
    {
      "cell_type": "markdown",
      "metadata": {
        "id": "view-in-github",
        "colab_type": "text"
      },
      "source": [
        "<a href=\"https://colab.research.google.com/github/MdShahadatHossainbd/Pattern/blob/master/Printing_Stars_in_N_Shape.ipynb\" target=\"_parent\"><img src=\"https://colab.research.google.com/assets/colab-badge.svg\" alt=\"Open In Colab\"/></a>"
      ]
    },
    {
      "cell_type": "code",
      "metadata": {
        "id": "mt_4Z_DfPUyC",
        "outputId": "dc093f3d-af18-4ec4-cc1d-9af70bb132c2",
        "colab": {
          "base_uri": "https://localhost:8080/",
          "height": 127
        }
      },
      "source": [
        "for row in range(6):\n",
        "    for col in range(6):\n",
        "        if (col==0 or col==5) or (row==col):\n",
        "            print(\"*\",end=\"\")\n",
        "        else:\n",
        "            print(\" \",end=\"\")\n",
        "    print()"
      ],
      "execution_count": 1,
      "outputs": [
        {
          "output_type": "stream",
          "text": [
            "*    *\n",
            "**   *\n",
            "* *  *\n",
            "*  * *\n",
            "*   **\n",
            "*    *\n"
          ],
          "name": "stdout"
        }
      ]
    },
    {
      "cell_type": "code",
      "metadata": {
        "id": "wnfbcYHXZ3gz",
        "outputId": "1cc9e609-4d7b-4526-da7d-0fe98608922b",
        "colab": {
          "base_uri": "https://localhost:8080/",
          "height": 127
        }
      },
      "source": [
        "for row in range(6):\n",
        "    for col in range(6):\n",
        "        if col == 0 or col == 5 or (row == col and (col > 0 and col < 5)):\n",
        "            print(\"*\",end=\"\")\n",
        "        else:\n",
        "            print(\" \",end=\"\")\n",
        "    print()"
      ],
      "execution_count": 4,
      "outputs": [
        {
          "output_type": "stream",
          "text": [
            "*    *\n",
            "**   *\n",
            "* *  *\n",
            "*  * *\n",
            "*   **\n",
            "*    *\n"
          ],
          "name": "stdout"
        }
      ]
    },
    {
      "cell_type": "code",
      "metadata": {
        "id": "nq76GxwrQOFs",
        "outputId": "4a5f9381-a0fc-48dc-bb69-f74e9c7cf038",
        "colab": {
          "base_uri": "https://localhost:8080/",
          "height": 182
        }
      },
      "source": [
        "n = int(input(\"rows:\"))\n",
        "for i in range(n):\n",
        "  for j in range(n):\n",
        "    if j==0 or j==(n-1) or i==j:\n",
        "      print(\"*\",end=\" \")\n",
        "    else:\n",
        "      print(\" \",end=\" \")\n",
        "  print()"
      ],
      "execution_count": 3,
      "outputs": [
        {
          "output_type": "stream",
          "text": [
            "rows:8\n",
            "*             * \n",
            "* *           * \n",
            "*   *         * \n",
            "*     *       * \n",
            "*       *     * \n",
            "*         *   * \n",
            "*           * * \n",
            "*             * \n"
          ],
          "name": "stdout"
        }
      ]
    }
  ]
}