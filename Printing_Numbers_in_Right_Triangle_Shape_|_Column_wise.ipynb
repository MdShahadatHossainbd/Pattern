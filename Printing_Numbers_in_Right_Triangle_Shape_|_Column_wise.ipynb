{
  "nbformat": 4,
  "nbformat_minor": 0,
  "metadata": {
    "colab": {
      "name": "Printing Numbers in Right Triangle Shape | Column wise.ipynb",
      "provenance": [],
      "authorship_tag": "ABX9TyPXvWIvHjFnhKdlg8bxp2fd",
      "include_colab_link": true
    },
    "kernelspec": {
      "name": "python3",
      "display_name": "Python 3"
    }
  },
  "cells": [
    {
      "cell_type": "markdown",
      "metadata": {
        "id": "view-in-github",
        "colab_type": "text"
      },
      "source": [
        "<a href=\"https://colab.research.google.com/github/MdShahadatHossainbd/Pattern/blob/master/Printing_Numbers_in_Right_Triangle_Shape_%7C_Column_wise.ipynb\" target=\"_parent\"><img src=\"https://colab.research.google.com/assets/colab-badge.svg\" alt=\"Open In Colab\"/></a>"
      ]
    },
    {
      "cell_type": "code",
      "metadata": {
        "id": "ukKMHbb6pZnR",
        "outputId": "8700d26c-1371-43fb-d4af-05ac80a800ec",
        "colab": {
          "base_uri": "https://localhost:8080/"
        }
      },
      "source": [
        "num=int(input(\"Enter no of rows:\"))\n",
        "for row in range(num):\n",
        "    val = row + 1\n",
        "    for col in range(row+1):\n",
        "      print(val,end=\" \")\n",
        "    print()\n"
      ],
      "execution_count": 15,
      "outputs": [
        {
          "output_type": "stream",
          "text": [
            "Enter no of rows:6\n",
            "1 \n",
            "2 2 \n",
            "3 3 3 \n",
            "4 4 4 4 \n",
            "5 5 5 5 5 \n",
            "6 6 6 6 6 6 \n"
          ],
          "name": "stdout"
        }
      ]
    },
    {
      "cell_type": "code",
      "metadata": {
        "id": "MoI2fcHFrGVJ",
        "outputId": "540c3e23-a221-40fb-c38b-97c9f33c3f13",
        "colab": {
          "base_uri": "https://localhost:8080/"
        }
      },
      "source": [
        "num=int(input(\"Enter no of rows:\"))\n",
        "for row in range(num):\n",
        "    val = row + 1\n",
        "    dec = num - 1\n",
        "    for col in range(row+1):\n",
        "      print(val,end=\" \")\n",
        "      val = val + dec\n",
        "      dec = dec - 1\n",
        "    print()\n"
      ],
      "execution_count": 16,
      "outputs": [
        {
          "output_type": "stream",
          "text": [
            "Enter no of rows:12\n",
            "1 \n",
            "2 13 \n",
            "3 14 24 \n",
            "4 15 25 34 \n",
            "5 16 26 35 43 \n",
            "6 17 27 36 44 51 \n",
            "7 18 28 37 45 52 58 \n",
            "8 19 29 38 46 53 59 64 \n",
            "9 20 30 39 47 54 60 65 69 \n",
            "10 21 31 40 48 55 61 66 70 73 \n",
            "11 22 32 41 49 56 62 67 71 74 76 \n",
            "12 23 33 42 50 57 63 68 72 75 77 78 \n"
          ],
          "name": "stdout"
        }
      ]
    },
    {
      "cell_type": "code",
      "metadata": {
        "id": "MEaU-Fn1rwhu",
        "outputId": "176a0eff-33e7-4daa-aeea-486fc72dff41",
        "colab": {
          "base_uri": "https://localhost:8080/"
        }
      },
      "source": [
        "num=int(input(\"Enter no of rows:\"))\n",
        "for row in range(num):\n",
        "    val = row + 1\n",
        "    dec = num - 1\n",
        "    for col in range(row+1):\n",
        "      print(format(val,\"<4\"),end=\" \")\n",
        "      val = val + dec\n",
        "      dec = dec - 1\n",
        "    print()\n"
      ],
      "execution_count": 17,
      "outputs": [
        {
          "output_type": "stream",
          "text": [
            "Enter no of rows:14\n",
            "1    \n",
            "2    15   \n",
            "3    16   28   \n",
            "4    17   29   40   \n",
            "5    18   30   41   51   \n",
            "6    19   31   42   52   61   \n",
            "7    20   32   43   53   62   70   \n",
            "8    21   33   44   54   63   71   78   \n",
            "9    22   34   45   55   64   72   79   85   \n",
            "10   23   35   46   56   65   73   80   86   91   \n",
            "11   24   36   47   57   66   74   81   87   92   96   \n",
            "12   25   37   48   58   67   75   82   88   93   97   100  \n",
            "13   26   38   49   59   68   76   83   89   94   98   101  103  \n",
            "14   27   39   50   60   69   77   84   90   95   99   102  104  105  \n"
          ],
          "name": "stdout"
        }
      ]
    },
    {
      "cell_type": "code",
      "metadata": {
        "id": "rOPLnqTWoTo2",
        "outputId": "d7f96edc-7081-495c-bb4a-c724840b16ec",
        "colab": {
          "base_uri": "https://localhost:8080/"
        }
      },
      "source": [
        "n=int(input(\"enter no of rows:\"))\n",
        "for row in range(1,n+1):\n",
        "   deci=n-1\n",
        "   for col in range(1,row+1):\n",
        "      print(row,end=' ')\n",
        "      row+= deci\n",
        "      dec-=1\n",
        "   print()"
      ],
      "execution_count": 8,
      "outputs": [
        {
          "output_type": "stream",
          "text": [
            "enter no of rows:15\n",
            "1 \n",
            "2 16 \n",
            "3 17 30 \n",
            "4 18 31 43 \n",
            "5 19 32 44 55 \n",
            "6 20 33 45 56 66 \n",
            "7 21 34 46 57 67 76 \n",
            "8 22 35 47 58 68 77 85 \n",
            "9 23 36 48 59 69 78 86 93 \n",
            "10 24 37 49 60 70 79 87 94 100 \n",
            "11 25 38 50 61 71 80 88 95 101 106 \n",
            "12 26 39 51 62 72 81 89 96 102 107 111 \n",
            "13 27 40 52 63 73 82 90 97 103 108 112 115 \n",
            "14 28 41 53 64 74 83 91 98 104 109 113 116 118 \n",
            "15 29 42 54 65 75 84 92 99 105 110 114 117 119 120 \n"
          ],
          "name": "stdout"
        }
      ]
    },
    {
      "cell_type": "code",
      "metadata": {
        "id": "cNydiPhRpYo6",
        "outputId": "d26a3fc6-c470-47a9-e2fb-967495876b0c",
        "colab": {
          "base_uri": "https://localhost:8080/"
        }
      },
      "source": [
        "n=int(input('row:'))\n",
        "k=1 \n",
        "for i in range(n):\n",
        "        for j in range(n):\n",
        "                print(k, end=' ') \n",
        "                k=k+1\n",
        "        print()\n",
        "\n",
        "#You can format the output using format()\n",
        "\n",
        "n=int(input('row:'))\n",
        "k=1 \n",
        "for i in range(n):\n",
        "  for j in range (n):\n",
        "    print (format(k,\"3\"),end=' ')\n",
        "    k=k+1\n",
        "  print()\n"
      ],
      "execution_count": 12,
      "outputs": [
        {
          "output_type": "stream",
          "text": [
            "row:5\n",
            "1 2 3 4 5 \n",
            "6 7 8 9 10 \n",
            "11 12 13 14 15 \n",
            "16 17 18 19 20 \n",
            "21 22 23 24 25 \n",
            "row:6\n",
            "  1   2   3   4   5   6 \n",
            "  7   8   9  10  11  12 \n",
            " 13  14  15  16  17  18 \n",
            " 19  20  21  22  23  24 \n",
            " 25  26  27  28  29  30 \n",
            " 31  32  33  34  35  36 \n"
          ],
          "name": "stdout"
        }
      ]
    }
  ]
}